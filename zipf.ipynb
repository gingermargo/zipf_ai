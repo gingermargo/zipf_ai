{
 "cells": [
  {
   "cell_type": "code",
   "execution_count": 18,
   "id": "fd9167fc-6deb-43e6-9ea3-c084249fc3bb",
   "metadata": {
    "scrolled": true
   },
   "outputs": [
    {
     "name": "stderr",
     "output_type": "stream",
     "text": [
      "[nltk_data] Downloading package punkt_tab to /home/margo/nltk_data...\n",
      "[nltk_data]   Package punkt_tab is already up-to-date!\n"
     ]
    }
   ],
   "source": [
    "import pandas as pd\n",
    "import numpy as np\n",
    "import matplotlib\n",
    "import plotly.express as px\n",
    "# import seaborn as sb\n",
    "import nltk\n",
    "nltk.download('punkt_tab')\n",
    "from nltk import word_tokenize\n",
    "import string\n",
    "import datasets\n",
    "from datasets import load_dataset\n",
    "from collections import Counter, OrderedDict"
   ]
  },
  {
   "cell_type": "code",
   "execution_count": 1,
   "id": "fd648ead-4460-4306-93b6-b936a4192f16",
   "metadata": {
    "scrolled": true
   },
   "outputs": [
    {
     "data": {
      "text/html": [
       "<div>\n",
       "<style scoped>\n",
       "    .dataframe tbody tr th:only-of-type {\n",
       "        vertical-align: middle;\n",
       "    }\n",
       "\n",
       "    .dataframe tbody tr th {\n",
       "        vertical-align: top;\n",
       "    }\n",
       "\n",
       "    .dataframe thead th {\n",
       "        text-align: right;\n",
       "    }\n",
       "</style>\n",
       "<table border=\"1\" class=\"dataframe\">\n",
       "  <thead>\n",
       "    <tr style=\"text-align: right;\">\n",
       "      <th></th>\n",
       "      <th>Prompt</th>\n",
       "      <th>Tone</th>\n",
       "      <th>Source</th>\n",
       "      <th>Topic</th>\n",
       "      <th>text</th>\n",
       "      <th>llm</th>\n",
       "      <th>llm_group</th>\n",
       "    </tr>\n",
       "  </thead>\n",
       "  <tbody>\n",
       "    <tr>\n",
       "      <th>0</th>\n",
       "      <td>Write a speech about pathophysiology of diseases</td>\n",
       "      <td>Text Generation</td>\n",
       "      <td>original</td>\n",
       "      <td>medical</td>\n",
       "      <td>Here's a draft speech on the pathophysiology o...</td>\n",
       "      <td>claude-3-sonnet-20240229</td>\n",
       "      <td>claude</td>\n",
       "    </tr>\n",
       "    <tr>\n",
       "      <th>1</th>\n",
       "      <td>Answer the prompt: What's the difference betwe...</td>\n",
       "      <td>Text Generation</td>\n",
       "      <td>DIBT/10k_prompts_ranked</td>\n",
       "      <td>lifestyle</td>\n",
       "      <td>The main difference between someone who really...</td>\n",
       "      <td>claude-3-opus-20240229</td>\n",
       "      <td>claude</td>\n",
       "    </tr>\n",
       "    <tr>\n",
       "      <th>2</th>\n",
       "      <td>Answer the prompt: You are given a singly link...</td>\n",
       "      <td>Text Generation</td>\n",
       "      <td>DIBT/10k_prompts_ranked</td>\n",
       "      <td>programming</td>\n",
       "      <td>Here's the Python implementation of the `appen...</td>\n",
       "      <td>claude-3-sonnet-20240229</td>\n",
       "      <td>claude</td>\n",
       "    </tr>\n",
       "    <tr>\n",
       "      <th>3</th>\n",
       "      <td>Answer the prompt: I wan't you to paraphrase s...</td>\n",
       "      <td>Text Generation</td>\n",
       "      <td>DIBT/10k_prompts_ranked</td>\n",
       "      <td>entertainment</td>\n",
       "      <td>Here is a professional paraphrasing of your th...</td>\n",
       "      <td>claude-3-haiku-20240307</td>\n",
       "      <td>claude</td>\n",
       "    </tr>\n",
       "    <tr>\n",
       "      <th>4</th>\n",
       "      <td>Answer the prompt: Creating Engaging E-Learnin...</td>\n",
       "      <td>Text Generation</td>\n",
       "      <td>DIBT/10k_prompts_ranked</td>\n",
       "      <td>educational</td>\n",
       "      <td>Here's a detailed lesson plan for creating eng...</td>\n",
       "      <td>claude-3-sonnet-20240229</td>\n",
       "      <td>claude</td>\n",
       "    </tr>\n",
       "    <tr>\n",
       "      <th>...</th>\n",
       "      <td>...</td>\n",
       "      <td>...</td>\n",
       "      <td>...</td>\n",
       "      <td>...</td>\n",
       "      <td>...</td>\n",
       "      <td>...</td>\n",
       "      <td>...</td>\n",
       "    </tr>\n",
       "    <tr>\n",
       "      <th>24988</th>\n",
       "      <td>Here's an extract from a webpage:\" What does  ...</td>\n",
       "      <td>Text Generation</td>\n",
       "      <td>cosmopedia/auto_math_text</td>\n",
       "      <td>educational</td>\n",
       "      <td>Sure, let's imagine you're a grade-school stud...</td>\n",
       "      <td>mistral-large-latest</td>\n",
       "      <td>mistral</td>\n",
       "    </tr>\n",
       "    <tr>\n",
       "      <th>24989</th>\n",
       "      <td>Answer the prompt: In a distant future, imagin...</td>\n",
       "      <td>Text Generation</td>\n",
       "      <td>DIBT/10k_prompts_ranked</td>\n",
       "      <td>journalism</td>\n",
       "      <td>In the untamed jungles of Zealandia, Avwave, a...</td>\n",
       "      <td>mistral-large-latest</td>\n",
       "      <td>mistral</td>\n",
       "    </tr>\n",
       "    <tr>\n",
       "      <th>24990</th>\n",
       "      <td>Write a museum infographics about mobile app d...</td>\n",
       "      <td>Text Generation</td>\n",
       "      <td>original</td>\n",
       "      <td>programming</td>\n",
       "      <td>Title: The Evolution and Impact of Mobile App ...</td>\n",
       "      <td>mistral-large-latest</td>\n",
       "      <td>mistral</td>\n",
       "    </tr>\n",
       "    <tr>\n",
       "      <th>24991</th>\n",
       "      <td>Write an educational piece suited for college ...</td>\n",
       "      <td>Text Generation</td>\n",
       "      <td>cosmopedia/auto_math_text</td>\n",
       "      <td>educational</td>\n",
       "      <td>The Variation of Parameters is a powerful tech...</td>\n",
       "      <td>mistral-large-latest</td>\n",
       "      <td>mistral</td>\n",
       "    </tr>\n",
       "    <tr>\n",
       "      <th>24992</th>\n",
       "      <td>Write an educational piece suited for college ...</td>\n",
       "      <td>Text Generation</td>\n",
       "      <td>cosmopedia/auto_math_text</td>\n",
       "      <td>educational</td>\n",
       "      <td>In the realm of physics, the ability to unders...</td>\n",
       "      <td>mistral-large-latest</td>\n",
       "      <td>mistral</td>\n",
       "    </tr>\n",
       "  </tbody>\n",
       "</table>\n",
       "<p>24993 rows × 7 columns</p>\n",
       "</div>"
      ],
      "text/plain": [
       "                                                  Prompt             Tone  \\\n",
       "0       Write a speech about pathophysiology of diseases  Text Generation   \n",
       "1      Answer the prompt: What's the difference betwe...  Text Generation   \n",
       "2      Answer the prompt: You are given a singly link...  Text Generation   \n",
       "3      Answer the prompt: I wan't you to paraphrase s...  Text Generation   \n",
       "4      Answer the prompt: Creating Engaging E-Learnin...  Text Generation   \n",
       "...                                                  ...              ...   \n",
       "24988  Here's an extract from a webpage:\" What does  ...  Text Generation   \n",
       "24989  Answer the prompt: In a distant future, imagin...  Text Generation   \n",
       "24990  Write a museum infographics about mobile app d...  Text Generation   \n",
       "24991  Write an educational piece suited for college ...  Text Generation   \n",
       "24992  Write an educational piece suited for college ...  Text Generation   \n",
       "\n",
       "                          Source          Topic  \\\n",
       "0                       original        medical   \n",
       "1        DIBT/10k_prompts_ranked      lifestyle   \n",
       "2        DIBT/10k_prompts_ranked    programming   \n",
       "3        DIBT/10k_prompts_ranked  entertainment   \n",
       "4        DIBT/10k_prompts_ranked    educational   \n",
       "...                          ...            ...   \n",
       "24988  cosmopedia/auto_math_text    educational   \n",
       "24989    DIBT/10k_prompts_ranked     journalism   \n",
       "24990                   original    programming   \n",
       "24991  cosmopedia/auto_math_text    educational   \n",
       "24992  cosmopedia/auto_math_text    educational   \n",
       "\n",
       "                                                    text  \\\n",
       "0      Here's a draft speech on the pathophysiology o...   \n",
       "1      The main difference between someone who really...   \n",
       "2      Here's the Python implementation of the `appen...   \n",
       "3      Here is a professional paraphrasing of your th...   \n",
       "4      Here's a detailed lesson plan for creating eng...   \n",
       "...                                                  ...   \n",
       "24988  Sure, let's imagine you're a grade-school stud...   \n",
       "24989  In the untamed jungles of Zealandia, Avwave, a...   \n",
       "24990  Title: The Evolution and Impact of Mobile App ...   \n",
       "24991  The Variation of Parameters is a powerful tech...   \n",
       "24992  In the realm of physics, the ability to unders...   \n",
       "\n",
       "                            llm llm_group  \n",
       "0      claude-3-sonnet-20240229    claude  \n",
       "1        claude-3-opus-20240229    claude  \n",
       "2      claude-3-sonnet-20240229    claude  \n",
       "3       claude-3-haiku-20240307    claude  \n",
       "4      claude-3-sonnet-20240229    claude  \n",
       "...                         ...       ...  \n",
       "24988      mistral-large-latest   mistral  \n",
       "24989      mistral-large-latest   mistral  \n",
       "24990      mistral-large-latest   mistral  \n",
       "24991      mistral-large-latest   mistral  \n",
       "24992      mistral-large-latest   mistral  \n",
       "\n",
       "[24993 rows x 7 columns]"
      ]
     },
     "execution_count": 1,
     "metadata": {},
     "output_type": "execute_result"
    }
   ],
   "source": [
    "df = pd.read_parquet(\"hf://datasets/polygraf-ai/api-generated-25K-5llm-10model/data/train-00000-of-00001.parquet\")\n",
    "df"
   ]
  },
  {
   "cell_type": "code",
   "execution_count": 2,
   "id": "d2871fef-311c-4e54-ae8c-6a82482101d6",
   "metadata": {},
   "outputs": [
    {
     "data": {
      "text/plain": [
       "llm\n",
       "llama3-70b-8192             5000\n",
       "mistral-large-latest        4993\n",
       "gemini-1.0-pro-latest       4015\n",
       "claude-3-haiku-20240307     1707\n",
       "claude-3-sonnet-20240229    1688\n",
       "gpt-3.5-turbo-0125          1686\n",
       "gpt-4-turbo-2024-04-09      1657\n",
       "gpt-4                       1657\n",
       "claude-3-opus-20240229      1605\n",
       "gemini-1.5-pro-latest        985\n",
       "Name: count, dtype: int64"
      ]
     },
     "execution_count": 2,
     "metadata": {},
     "output_type": "execute_result"
    }
   ],
   "source": [
    "df.llm.value_counts()"
   ]
  },
  {
   "cell_type": "code",
   "execution_count": 3,
   "id": "277782c7-79e6-4174-97a7-405b098f1ad9",
   "metadata": {},
   "outputs": [
    {
     "data": {
      "application/vnd.jupyter.widget-view+json": {
       "model_id": "0923258b61ed464fa1b63d77179175c5",
       "version_major": 2,
       "version_minor": 0
      },
      "text/plain": [
       "README.md:   0%|          | 0.00/2.50k [00:00<?, ?B/s]"
      ]
     },
     "metadata": {},
     "output_type": "display_data"
    },
    {
     "data": {
      "application/vnd.jupyter.widget-view+json": {
       "model_id": "180747738d2449dc89ac78d0166736a6",
       "version_major": 2,
       "version_minor": 0
      },
      "text/plain": [
       "train-00000-of-00001.parquet:   0%|          | 0.00/41.7M [00:00<?, ?B/s]"
      ]
     },
     "metadata": {},
     "output_type": "display_data"
    },
    {
     "data": {
      "application/vnd.jupyter.widget-view+json": {
       "model_id": "d5562cb002d1401f821677b57e14bca3",
       "version_major": 2,
       "version_minor": 0
      },
      "text/plain": [
       "Generating train split:   0%|          | 0/3000 [00:00<?, ? examples/s]"
      ]
     },
     "metadata": {},
     "output_type": "display_data"
    }
   ],
   "source": [
    "#parallel texts\n",
    "ds = load_dataset(\"artnitolog/llm-generated-texts\")\n",
    "parallel_texts = ds['train'].to_pandas()"
   ]
  },
  {
   "cell_type": "code",
   "execution_count": 4,
   "id": "df2db842-32c9-48b2-8471-24149a6ecef3",
   "metadata": {
    "scrolled": true
   },
   "outputs": [
    {
     "data": {
      "text/html": [
       "<div>\n",
       "<style scoped>\n",
       "    .dataframe tbody tr th:only-of-type {\n",
       "        vertical-align: middle;\n",
       "    }\n",
       "\n",
       "    .dataframe tbody tr th {\n",
       "        vertical-align: top;\n",
       "    }\n",
       "\n",
       "    .dataframe thead th {\n",
       "        text-align: right;\n",
       "    }\n",
       "</style>\n",
       "<table border=\"1\" class=\"dataframe\">\n",
       "  <thead>\n",
       "    <tr style=\"text-align: right;\">\n",
       "      <th></th>\n",
       "      <th>dataset_name</th>\n",
       "      <th>id</th>\n",
       "      <th>prompt</th>\n",
       "      <th>human</th>\n",
       "      <th>GPT4 Turbo 2024-04-09</th>\n",
       "      <th>GPT4 Omni</th>\n",
       "      <th>Claude 3 Opus</th>\n",
       "      <th>YandexGPT 3 Pro</th>\n",
       "      <th>GigaChat Pro</th>\n",
       "      <th>Llama3 70B</th>\n",
       "      <th>Command R+</th>\n",
       "    </tr>\n",
       "  </thead>\n",
       "  <tbody>\n",
       "    <tr>\n",
       "      <th>0</th>\n",
       "      <td>essay</td>\n",
       "      <td>1</td>\n",
       "      <td>Write an essay in 300 words to the prompt \"Ana...</td>\n",
       "      <td>The 2013 film 12 Years a Slave proved that sla...</td>\n",
       "      <td>\"12 Years a Slave,\" directed by Steve McQueen,...</td>\n",
       "      <td>\"12 Years a Slave,\" directed by Steve McQueen,...</td>\n",
       "      <td>The film \"12 Years a Slave\" is a powerful expl...</td>\n",
       "      <td>The film \"12 Years a Slave\" depicts the horror...</td>\n",
       "      <td>The themes of collectivism and individualism p...</td>\n",
       "      <td>The film 12 Years a Slave, directed by Steve M...</td>\n",
       "      <td>The film \"12 Years a Slave\" offers a harrowing...</td>\n",
       "    </tr>\n",
       "    <tr>\n",
       "      <th>1</th>\n",
       "      <td>essay</td>\n",
       "      <td>2</td>\n",
       "      <td>Write an essay in 300 words to the prompt \"Dis...</td>\n",
       "      <td>Social Media Examiner’s (2021) video on social...</td>\n",
       "      <td>Effective change leadership plays a pivotal ro...</td>\n",
       "      <td>Effective change leadership is crucial in adop...</td>\n",
       "      <td>In today's fast-paced, digitally-driven busine...</td>\n",
       "      <td>**Effective Change Leadership in Adopting Soci...</td>\n",
       "      <td>Effective Change Leadership for Social Media I...</td>\n",
       "      <td>Effective change leadership plays a crucial ro...</td>\n",
       "      <td>The ever-changing landscape of digital marketi...</td>\n",
       "    </tr>\n",
       "    <tr>\n",
       "      <th>2</th>\n",
       "      <td>essay</td>\n",
       "      <td>3</td>\n",
       "      <td>Write an essay in 400 words to the prompt \"Ana...</td>\n",
       "      <td>The world has been shattered by Russia’s attac...</td>\n",
       "      <td>**Analyzing the Headline: A Comparative Study ...</td>\n",
       "      <td>Title: Analyzing the Headline: A Comparative S...</td>\n",
       "      <td>The media plays a crucial role in shaping publ...</td>\n",
       "      <td>К сожалению, я не могу ничего сказать об этом....</td>\n",
       "      <td>Как у нейросетевой языковой модели у меня не м...</td>\n",
       "      <td>The Ukraine-Russia conflict has been a pressin...</td>\n",
       "      <td>The ongoing Ukraine-Russia conflict has domina...</td>\n",
       "    </tr>\n",
       "    <tr>\n",
       "      <th>3</th>\n",
       "      <td>essay</td>\n",
       "      <td>4</td>\n",
       "      <td>Write an essay in 600 words to the prompt \"Exp...</td>\n",
       "      <td>Charles Schwab is a for-profit Corporation who...</td>\n",
       "      <td>**Essay on the Business Form and Distinctive F...</td>\n",
       "      <td>Charles Schwab Corporation (CSC) represents a ...</td>\n",
       "      <td>Charles Schwab Corporation (CSC) is a prominen...</td>\n",
       "      <td>**Charles Schwab Corporation: A Financial Serv...</td>\n",
       "      <td>The Charles Schwab Corporation (CSC) is a lead...</td>\n",
       "      <td>The Charles Schwab Corporation (CSC) is a lead...</td>\n",
       "      <td>**Introduction:**\\n\\nThe Charles Schwab Corpor...</td>\n",
       "    </tr>\n",
       "    <tr>\n",
       "      <th>4</th>\n",
       "      <td>essay</td>\n",
       "      <td>5</td>\n",
       "      <td>Write an essay in 300 words to the prompt \"Con...</td>\n",
       "      <td>The work of a clinical or medical office worke...</td>\n",
       "      <td>In the discussion of career choices, a great d...</td>\n",
       "      <td>**Prompt: Preparing for Interviews and Profess...</td>\n",
       "      <td>In the medical office assistant profession, pr...</td>\n",
       "      <td>### Essay Prompt: Cost Considerations and Prep...</td>\n",
       "      <td>Essay Prompt: In the medical office assistant ...</td>\n",
       "      <td>Here is a 300-word essay prompt:\\n\\nAs a medic...</td>\n",
       "      <td>As aspiring medical office assistants, it is e...</td>\n",
       "    </tr>\n",
       "    <tr>\n",
       "      <th>...</th>\n",
       "      <td>...</td>\n",
       "      <td>...</td>\n",
       "      <td>...</td>\n",
       "      <td>...</td>\n",
       "      <td>...</td>\n",
       "      <td>...</td>\n",
       "      <td>...</td>\n",
       "      <td>...</td>\n",
       "      <td>...</td>\n",
       "      <td>...</td>\n",
       "      <td>...</td>\n",
       "    </tr>\n",
       "    <tr>\n",
       "      <th>2995</th>\n",
       "      <td>wp</td>\n",
       "      <td>996</td>\n",
       "      <td>Write a story in 600 words to the prompt \"You ...</td>\n",
       "      <td>NSFW LANGUAGE. Like. Lots of it.\\n\"Hey asshole...</td>\n",
       "      <td>Ella had always been the quiet shadow of Winte...</td>\n",
       "      <td>I had always been content with fading into the...</td>\n",
       "      <td>As I stepped onto the stage, my heart raced wi...</td>\n",
       "      <td>**Graduation Day**\\n\\nI have been sitting in t...</td>\n",
       "      <td>Title: Breaking the Silence\\n\\nI never thought...</td>\n",
       "      <td>I stood at the podium, my heart racing as I ga...</td>\n",
       "      <td>Sure, here is a story that follows your prompt...</td>\n",
       "    </tr>\n",
       "    <tr>\n",
       "      <th>2996</th>\n",
       "      <td>wp</td>\n",
       "      <td>997</td>\n",
       "      <td>Write a story in 200 words to the prompt \"Gang...</td>\n",
       "      <td>\"Oh God, is it Gang Day again already?\" asked ...</td>\n",
       "      <td>I stepped into the dimly lit convention hall, ...</td>\n",
       "      <td>Under the glow of flickering streetlights, the...</td>\n",
       "      <td>As I walked into the bustling convention cente...</td>\n",
       "      <td>К сожалению, я не могу ничего сказать об этом....</td>\n",
       "      <td>Не люблю менять тему разговора, но вот сейчас ...</td>\n",
       "      <td>I walked through the crowded gymnasium, surrou...</td>\n",
       "      <td>It was a sunny Saturday morning when I arrived...</td>\n",
       "    </tr>\n",
       "    <tr>\n",
       "      <th>2997</th>\n",
       "      <td>wp</td>\n",
       "      <td>998</td>\n",
       "      <td>Write a story in 100 words to the prompt \"You ...</td>\n",
       "      <td>I held on, slowly falling, looking up at the t...</td>\n",
       "      <td>You hang to life by a literal thread—suspended...</td>\n",
       "      <td>You hang to life by a literal thread, the voic...</td>\n",
       "      <td>Dangling from a frayed rope, you cling to the ...</td>\n",
       "      <td>I hang to life by a thread, one wrong move and...</td>\n",
       "      <td>In the depths of the Amazon jungle, a weary ex...</td>\n",
       "      <td>As I dangled over the abyss, my fate hung in t...</td>\n",
       "      <td>You hang by a thread, and all you can do is cl...</td>\n",
       "    </tr>\n",
       "    <tr>\n",
       "      <th>2998</th>\n",
       "      <td>wp</td>\n",
       "      <td>999</td>\n",
       "      <td>Write a story in 700 words to the prompt \"Year...</td>\n",
       "      <td>**Prolgue: Landfall**\\n\"Damn this fog and damn...</td>\n",
       "      <td>Years had passed since the zombies had overrun...</td>\n",
       "      <td>The blaring horn of the cargo ship cut through...</td>\n",
       "      <td>As the small boat approached the desolate shor...</td>\n",
       "      <td>**The Last Frontier**\\n\\nI had always been an ...</td>\n",
       "      <td>Title: The Last Adventurer\\n\\nIt had been year...</td>\n",
       "      <td>I stepped off the small propeller plane and on...</td>\n",
       "      <td>Title: Beyond the Dead: An Adventure in the Po...</td>\n",
       "    </tr>\n",
       "    <tr>\n",
       "      <th>2999</th>\n",
       "      <td>wp</td>\n",
       "      <td>1000</td>\n",
       "      <td>Write a story in 1600 words to the prompt \"You...</td>\n",
       "      <td>I stretched my legs for a moment as I pulled m...</td>\n",
       "      <td>As I arrived at the annual family gathering at...</td>\n",
       "      <td>I leaned against the kitchen island, trying to...</td>\n",
       "      <td>As I stepped into the bustling house, the arom...</td>\n",
       "      <td>**The Family Gathering**\\n\\nI was sitting at t...</td>\n",
       "      <td>Не люблю менять тему разговора, но вот сейчас ...</td>\n",
       "      <td>I stood in the backyard of my childhood home, ...</td>\n",
       "      <td>It was a sunny afternoon as I made my way to m...</td>\n",
       "    </tr>\n",
       "  </tbody>\n",
       "</table>\n",
       "<p>3000 rows × 11 columns</p>\n",
       "</div>"
      ],
      "text/plain": [
       "     dataset_name    id                                             prompt  \\\n",
       "0           essay     1  Write an essay in 300 words to the prompt \"Ana...   \n",
       "1           essay     2  Write an essay in 300 words to the prompt \"Dis...   \n",
       "2           essay     3  Write an essay in 400 words to the prompt \"Ana...   \n",
       "3           essay     4  Write an essay in 600 words to the prompt \"Exp...   \n",
       "4           essay     5  Write an essay in 300 words to the prompt \"Con...   \n",
       "...           ...   ...                                                ...   \n",
       "2995           wp   996  Write a story in 600 words to the prompt \"You ...   \n",
       "2996           wp   997  Write a story in 200 words to the prompt \"Gang...   \n",
       "2997           wp   998  Write a story in 100 words to the prompt \"You ...   \n",
       "2998           wp   999  Write a story in 700 words to the prompt \"Year...   \n",
       "2999           wp  1000  Write a story in 1600 words to the prompt \"You...   \n",
       "\n",
       "                                                  human  \\\n",
       "0     The 2013 film 12 Years a Slave proved that sla...   \n",
       "1     Social Media Examiner’s (2021) video on social...   \n",
       "2     The world has been shattered by Russia’s attac...   \n",
       "3     Charles Schwab is a for-profit Corporation who...   \n",
       "4     The work of a clinical or medical office worke...   \n",
       "...                                                 ...   \n",
       "2995  NSFW LANGUAGE. Like. Lots of it.\\n\"Hey asshole...   \n",
       "2996  \"Oh God, is it Gang Day again already?\" asked ...   \n",
       "2997  I held on, slowly falling, looking up at the t...   \n",
       "2998  **Prolgue: Landfall**\\n\"Damn this fog and damn...   \n",
       "2999  I stretched my legs for a moment as I pulled m...   \n",
       "\n",
       "                                  GPT4 Turbo 2024-04-09  \\\n",
       "0     \"12 Years a Slave,\" directed by Steve McQueen,...   \n",
       "1     Effective change leadership plays a pivotal ro...   \n",
       "2     **Analyzing the Headline: A Comparative Study ...   \n",
       "3     **Essay on the Business Form and Distinctive F...   \n",
       "4     In the discussion of career choices, a great d...   \n",
       "...                                                 ...   \n",
       "2995  Ella had always been the quiet shadow of Winte...   \n",
       "2996  I stepped into the dimly lit convention hall, ...   \n",
       "2997  You hang to life by a literal thread—suspended...   \n",
       "2998  Years had passed since the zombies had overrun...   \n",
       "2999  As I arrived at the annual family gathering at...   \n",
       "\n",
       "                                              GPT4 Omni  \\\n",
       "0     \"12 Years a Slave,\" directed by Steve McQueen,...   \n",
       "1     Effective change leadership is crucial in adop...   \n",
       "2     Title: Analyzing the Headline: A Comparative S...   \n",
       "3     Charles Schwab Corporation (CSC) represents a ...   \n",
       "4     **Prompt: Preparing for Interviews and Profess...   \n",
       "...                                                 ...   \n",
       "2995  I had always been content with fading into the...   \n",
       "2996  Under the glow of flickering streetlights, the...   \n",
       "2997  You hang to life by a literal thread, the voic...   \n",
       "2998  The blaring horn of the cargo ship cut through...   \n",
       "2999  I leaned against the kitchen island, trying to...   \n",
       "\n",
       "                                          Claude 3 Opus  \\\n",
       "0     The film \"12 Years a Slave\" is a powerful expl...   \n",
       "1     In today's fast-paced, digitally-driven busine...   \n",
       "2     The media plays a crucial role in shaping publ...   \n",
       "3     Charles Schwab Corporation (CSC) is a prominen...   \n",
       "4     In the medical office assistant profession, pr...   \n",
       "...                                                 ...   \n",
       "2995  As I stepped onto the stage, my heart raced wi...   \n",
       "2996  As I walked into the bustling convention cente...   \n",
       "2997  Dangling from a frayed rope, you cling to the ...   \n",
       "2998  As the small boat approached the desolate shor...   \n",
       "2999  As I stepped into the bustling house, the arom...   \n",
       "\n",
       "                                        YandexGPT 3 Pro  \\\n",
       "0     The film \"12 Years a Slave\" depicts the horror...   \n",
       "1     **Effective Change Leadership in Adopting Soci...   \n",
       "2     К сожалению, я не могу ничего сказать об этом....   \n",
       "3     **Charles Schwab Corporation: A Financial Serv...   \n",
       "4     ### Essay Prompt: Cost Considerations and Prep...   \n",
       "...                                                 ...   \n",
       "2995  **Graduation Day**\\n\\nI have been sitting in t...   \n",
       "2996  К сожалению, я не могу ничего сказать об этом....   \n",
       "2997  I hang to life by a thread, one wrong move and...   \n",
       "2998  **The Last Frontier**\\n\\nI had always been an ...   \n",
       "2999  **The Family Gathering**\\n\\nI was sitting at t...   \n",
       "\n",
       "                                           GigaChat Pro  \\\n",
       "0     The themes of collectivism and individualism p...   \n",
       "1     Effective Change Leadership for Social Media I...   \n",
       "2     Как у нейросетевой языковой модели у меня не м...   \n",
       "3     The Charles Schwab Corporation (CSC) is a lead...   \n",
       "4     Essay Prompt: In the medical office assistant ...   \n",
       "...                                                 ...   \n",
       "2995  Title: Breaking the Silence\\n\\nI never thought...   \n",
       "2996  Не люблю менять тему разговора, но вот сейчас ...   \n",
       "2997  In the depths of the Amazon jungle, a weary ex...   \n",
       "2998  Title: The Last Adventurer\\n\\nIt had been year...   \n",
       "2999  Не люблю менять тему разговора, но вот сейчас ...   \n",
       "\n",
       "                                             Llama3 70B  \\\n",
       "0     The film 12 Years a Slave, directed by Steve M...   \n",
       "1     Effective change leadership plays a crucial ro...   \n",
       "2     The Ukraine-Russia conflict has been a pressin...   \n",
       "3     The Charles Schwab Corporation (CSC) is a lead...   \n",
       "4     Here is a 300-word essay prompt:\\n\\nAs a medic...   \n",
       "...                                                 ...   \n",
       "2995  I stood at the podium, my heart racing as I ga...   \n",
       "2996  I walked through the crowded gymnasium, surrou...   \n",
       "2997  As I dangled over the abyss, my fate hung in t...   \n",
       "2998  I stepped off the small propeller plane and on...   \n",
       "2999  I stood in the backyard of my childhood home, ...   \n",
       "\n",
       "                                             Command R+  \n",
       "0     The film \"12 Years a Slave\" offers a harrowing...  \n",
       "1     The ever-changing landscape of digital marketi...  \n",
       "2     The ongoing Ukraine-Russia conflict has domina...  \n",
       "3     **Introduction:**\\n\\nThe Charles Schwab Corpor...  \n",
       "4     As aspiring medical office assistants, it is e...  \n",
       "...                                                 ...  \n",
       "2995  Sure, here is a story that follows your prompt...  \n",
       "2996  It was a sunny Saturday morning when I arrived...  \n",
       "2997  You hang by a thread, and all you can do is cl...  \n",
       "2998  Title: Beyond the Dead: An Adventure in the Po...  \n",
       "2999  It was a sunny afternoon as I made my way to m...  \n",
       "\n",
       "[3000 rows x 11 columns]"
      ]
     },
     "execution_count": 4,
     "metadata": {},
     "output_type": "execute_result"
    }
   ],
   "source": [
    "parallel_texts"
   ]
  },
  {
   "cell_type": "code",
   "execution_count": 21,
   "id": "c43563e2-a3f9-4ba8-92f6-20f92575ca80",
   "metadata": {},
   "outputs": [],
   "source": [
    "def create_wordrange(text):\n",
    "    text_stripped = text.translate(text.maketrans('', '', string.punctuation))\n",
    "    wordcount = Counter(word_tokenize(text_stripped)).most_common()\n",
    "    counts = [count[1] for count in wordcount]\n",
    "    return pd.Series([wordcount, counts])"
   ]
  },
  {
   "cell_type": "code",
   "execution_count": 56,
   "id": "8e1d9d65-684a-4fab-9937-52e3aeb01be2",
   "metadata": {},
   "outputs": [],
   "source": [
    "def calc_zipf(counts, name):\n",
    "    counts = counts.apply(lambda x: x[:100])\n",
    "    rank_matrix = pd.DataFrame(counts.tolist())\n",
    "    avg_freqs = human_rank_matrix.apply(np.mean).tolist()\n",
    "    print(f'Average word frequencies: {avg_freqs[:10]}')\n",
    "    freq_to_range_ratio = [freq / (i + 1) for i, freq in enumerate(avg_freqs)]\n",
    "    norm_coef = sum(freq_to_range_ratio)\n",
    "    normalized_distribution = pd.DataFrame([item / norm_coef for item in freq_to_range_ratio])\n",
    "    normalized_distribution['source'] = name\n",
    "    return normalized_distribution"
   ]
  },
  {
   "cell_type": "code",
   "execution_count": 22,
   "id": "ae6bfeb9-7251-4580-a035-1406f6338c49",
   "metadata": {},
   "outputs": [
    {
     "data": {
      "text/plain": [
       "0    [30, 24, 19, 15, 13, 13, 11, 10, 8, 8, 7, 6, 6...\n",
       "1    [16, 15, 14, 5, 5, 5, 5, 4, 4, 3, 3, 3, 3, 3, ...\n",
       "2    [23, 7, 7, 7, 5, 5, 5, 5, 5, 5, 5, 5, 5, 4, 4,...\n",
       "3    [21, 10, 10, 10, 9, 8, 8, 8, 7, 7, 6, 6, 5, 5,...\n",
       "4    [14, 14, 13, 13, 11, 10, 8, 8, 6, 5, 5, 5, 5, ...\n",
       "Name: human_counts, dtype: object"
      ]
     },
     "execution_count": 22,
     "metadata": {},
     "output_type": "execute_result"
    }
   ],
   "source": [
    "parallel_texts[['human_wordcount', 'human_counts']] = parallel_texts.human.apply(create_wordrange)\n",
    "parallel_texts.human_counts[:5]"
   ]
  },
  {
   "cell_type": "code",
   "execution_count": 23,
   "id": "4f28267b-dd50-4cd6-bba8-8882b758d576",
   "metadata": {},
   "outputs": [
    {
     "data": {
      "text/plain": [
       "0    [(the, 30), (and, 24), (a, 19), (that, 15), (w...\n",
       "1    [(to, 16), (and, 15), (the, 14), (social, 5), ...\n",
       "2    [(the, 23), (in, 7), (and, 7), (of, 7), (The, ...\n",
       "3    [(the, 21), (is, 10), (and, 10), (of, 10), (in...\n",
       "4    [(a, 14), (the, 14), (and, 13), (I, 13), (of, ...\n",
       "Name: human_wordcount, dtype: object"
      ]
     },
     "execution_count": 23,
     "metadata": {},
     "output_type": "execute_result"
    }
   ],
   "source": [
    "parallel_texts.human_wordcount[:5]"
   ]
  },
  {
   "cell_type": "code",
   "execution_count": 57,
   "id": "772ee149-bd99-4e82-a578-946cae0af5e8",
   "metadata": {},
   "outputs": [
    {
     "name": "stdout",
     "output_type": "stream",
     "text": [
      "Average word frequencies: [32.74433333333333, 21.870333333333335, 17.434, 14.856, 12.816333333333333, 11.332666666666666, 10.156333333333333, 9.200333333333333, 8.391666666666667, 7.709333333333333]\n"
     ]
    }
   ],
   "source": [
    "human_distr = calc_zipf(parallel_texts.human_counts, 'human')"
   ]
  },
  {
   "cell_type": "code",
   "execution_count": 44,
   "id": "2c60d36d-2865-4f16-922c-84bf69659ca6",
   "metadata": {},
   "outputs": [
    {
     "data": {
      "application/vnd.plotly.v1+json": {
       "config": {
        "plotlyServerURL": "https://plot.ly"
       },
       "data": [
        {
         "hovertemplate": "variable=0<br>index=%{x}<br>value=%{y}<extra></extra>",
         "legendgroup": "0",
         "line": {
          "color": "#636efa",
          "dash": "solid"
         },
         "marker": {
          "symbol": "circle"
         },
         "mode": "lines",
         "name": "0",
         "orientation": "v",
         "showlegend": true,
         "type": "scatter",
         "x": [
          0,
          1,
          2,
          3,
          4,
          5,
          6,
          7,
          8,
          9,
          10,
          11,
          12,
          13,
          14,
          15,
          16,
          17,
          18,
          19,
          20,
          21,
          22,
          23,
          24,
          25,
          26,
          27,
          28,
          29,
          30,
          31,
          32,
          33,
          34,
          35,
          36,
          37,
          38,
          39,
          40,
          41,
          42,
          43,
          44,
          45,
          46,
          47,
          48,
          49,
          50,
          51,
          52,
          53,
          54,
          55,
          56,
          57,
          58,
          59,
          60,
          61,
          62,
          63,
          64,
          65,
          66,
          67,
          68,
          69,
          70,
          71,
          72,
          73,
          74,
          75,
          76,
          77,
          78,
          79,
          80,
          81,
          82,
          83,
          84,
          85,
          86,
          87,
          88,
          89,
          90,
          91,
          92,
          93,
          94,
          95,
          96,
          97,
          98,
          99
         ],
         "xaxis": "x",
         "y": [
          0.46866699150595004,
          0.15651415501764626,
          0.08317714342343951,
          0.053158181256393426,
          0.03668782823778623,
          0.02703392338830347,
          0.020766682369170078,
          0.016460453249615363,
          0.01334547171991568,
          0.01103430637316341,
          0.009316842835206566,
          0.007975874126312666,
          0.006903597942739301,
          0.006058454152730738,
          0.005357484623243528,
          0.004781409511568102,
          0.004281246661103624,
          0.0038642230825154064,
          0.0035136960685538516,
          0.0032106262858095456,
          0.002943917535196494,
          0.0027075271821040453,
          0.0025031013603868616,
          0.0023260481319970212,
          0.002165830906762912,
          0.0020168370896987845,
          0.0018933694734047867,
          0.0017771874455220383,
          0.0016680308734226287,
          0.0015707633467043555,
          0.0014808484607761899,
          0.0014007278566006336,
          0.0013243064471004167,
          0.0012581336467864664,
          0.0011956058358330815,
          0.0011402625489389724,
          0.0010868792293346826,
          0.001038691044634675,
          0.0009934633794585767,
          0.0009496621772648637,
          0.000910790383768276,
          0.0008724064929120648,
          0.000837361239354133,
          0.000805318557528504,
          0.0007726855840694774,
          0.0007426123203932183,
          0.000714833870704909,
          0.0006862249510002324,
          0.0006592705762843295,
          0.000634634829539172,
          0.0006120877723937727,
          0.000589765663387489,
          0.000569475713820965,
          0.0005507077100944144,
          0.0005333166018893574,
          0.0005156940768740112,
          0.0004996112143778866,
          0.0004844944985004761,
          0.00047012794542202304,
          0.0004576759225333486,
          0.00044430121631533915,
          0.000432725119299029,
          0.0004209146431911761,
          0.0004100677602195229,
          0.0004005218904032443,
          0.00039045381007997003,
          0.00038061221216235876,
          0.0003706518796644405,
          0.00036104960505044877,
          0.0003520444679278306,
          0.0003434728149825011,
          0.00033566708398784624,
          0.00032859684546217803,
          0.00032074149661642917,
          0.00031338838476922576,
          0.00030574022614000444,
          0.00029847348763184685,
          0.000291784327703762,
          0.000284592266447228,
          0.00027827330364973285,
          0.00027186862643687886,
          0.00026585424387740286,
          0.0002600053457545528,
          0.00025365876624266315,
          0.0002477722976043978,
          0.0002427187663794708,
          0.0002371577043025986,
          0.000231942733048289,
          0.00022665369836477465,
          0.00022218084219166864,
          0.00021748289117446185,
          0.0002134993317203201,
          0.00020946655687372514,
          0.00020547741219988262,
          0.0002019811707748351,
          0.00019843337213970412,
          0.00019517410055332887,
          0.00019201319659679146,
          0.0001883193982203286,
          0.00018538497589711434
         ],
         "yaxis": "y"
        }
       ],
       "layout": {
        "legend": {
         "title": {
          "text": "variable"
         },
         "tracegroupgap": 0
        },
        "template": {
         "data": {
          "bar": [
           {
            "error_x": {
             "color": "#2a3f5f"
            },
            "error_y": {
             "color": "#2a3f5f"
            },
            "marker": {
             "line": {
              "color": "#E5ECF6",
              "width": 0.5
             },
             "pattern": {
              "fillmode": "overlay",
              "size": 10,
              "solidity": 0.2
             }
            },
            "type": "bar"
           }
          ],
          "barpolar": [
           {
            "marker": {
             "line": {
              "color": "#E5ECF6",
              "width": 0.5
             },
             "pattern": {
              "fillmode": "overlay",
              "size": 10,
              "solidity": 0.2
             }
            },
            "type": "barpolar"
           }
          ],
          "carpet": [
           {
            "aaxis": {
             "endlinecolor": "#2a3f5f",
             "gridcolor": "white",
             "linecolor": "white",
             "minorgridcolor": "white",
             "startlinecolor": "#2a3f5f"
            },
            "baxis": {
             "endlinecolor": "#2a3f5f",
             "gridcolor": "white",
             "linecolor": "white",
             "minorgridcolor": "white",
             "startlinecolor": "#2a3f5f"
            },
            "type": "carpet"
           }
          ],
          "choropleth": [
           {
            "colorbar": {
             "outlinewidth": 0,
             "ticks": ""
            },
            "type": "choropleth"
           }
          ],
          "contour": [
           {
            "colorbar": {
             "outlinewidth": 0,
             "ticks": ""
            },
            "colorscale": [
             [
              0,
              "#0d0887"
             ],
             [
              0.1111111111111111,
              "#46039f"
             ],
             [
              0.2222222222222222,
              "#7201a8"
             ],
             [
              0.3333333333333333,
              "#9c179e"
             ],
             [
              0.4444444444444444,
              "#bd3786"
             ],
             [
              0.5555555555555556,
              "#d8576b"
             ],
             [
              0.6666666666666666,
              "#ed7953"
             ],
             [
              0.7777777777777778,
              "#fb9f3a"
             ],
             [
              0.8888888888888888,
              "#fdca26"
             ],
             [
              1,
              "#f0f921"
             ]
            ],
            "type": "contour"
           }
          ],
          "contourcarpet": [
           {
            "colorbar": {
             "outlinewidth": 0,
             "ticks": ""
            },
            "type": "contourcarpet"
           }
          ],
          "heatmap": [
           {
            "colorbar": {
             "outlinewidth": 0,
             "ticks": ""
            },
            "colorscale": [
             [
              0,
              "#0d0887"
             ],
             [
              0.1111111111111111,
              "#46039f"
             ],
             [
              0.2222222222222222,
              "#7201a8"
             ],
             [
              0.3333333333333333,
              "#9c179e"
             ],
             [
              0.4444444444444444,
              "#bd3786"
             ],
             [
              0.5555555555555556,
              "#d8576b"
             ],
             [
              0.6666666666666666,
              "#ed7953"
             ],
             [
              0.7777777777777778,
              "#fb9f3a"
             ],
             [
              0.8888888888888888,
              "#fdca26"
             ],
             [
              1,
              "#f0f921"
             ]
            ],
            "type": "heatmap"
           }
          ],
          "heatmapgl": [
           {
            "colorbar": {
             "outlinewidth": 0,
             "ticks": ""
            },
            "colorscale": [
             [
              0,
              "#0d0887"
             ],
             [
              0.1111111111111111,
              "#46039f"
             ],
             [
              0.2222222222222222,
              "#7201a8"
             ],
             [
              0.3333333333333333,
              "#9c179e"
             ],
             [
              0.4444444444444444,
              "#bd3786"
             ],
             [
              0.5555555555555556,
              "#d8576b"
             ],
             [
              0.6666666666666666,
              "#ed7953"
             ],
             [
              0.7777777777777778,
              "#fb9f3a"
             ],
             [
              0.8888888888888888,
              "#fdca26"
             ],
             [
              1,
              "#f0f921"
             ]
            ],
            "type": "heatmapgl"
           }
          ],
          "histogram": [
           {
            "marker": {
             "pattern": {
              "fillmode": "overlay",
              "size": 10,
              "solidity": 0.2
             }
            },
            "type": "histogram"
           }
          ],
          "histogram2d": [
           {
            "colorbar": {
             "outlinewidth": 0,
             "ticks": ""
            },
            "colorscale": [
             [
              0,
              "#0d0887"
             ],
             [
              0.1111111111111111,
              "#46039f"
             ],
             [
              0.2222222222222222,
              "#7201a8"
             ],
             [
              0.3333333333333333,
              "#9c179e"
             ],
             [
              0.4444444444444444,
              "#bd3786"
             ],
             [
              0.5555555555555556,
              "#d8576b"
             ],
             [
              0.6666666666666666,
              "#ed7953"
             ],
             [
              0.7777777777777778,
              "#fb9f3a"
             ],
             [
              0.8888888888888888,
              "#fdca26"
             ],
             [
              1,
              "#f0f921"
             ]
            ],
            "type": "histogram2d"
           }
          ],
          "histogram2dcontour": [
           {
            "colorbar": {
             "outlinewidth": 0,
             "ticks": ""
            },
            "colorscale": [
             [
              0,
              "#0d0887"
             ],
             [
              0.1111111111111111,
              "#46039f"
             ],
             [
              0.2222222222222222,
              "#7201a8"
             ],
             [
              0.3333333333333333,
              "#9c179e"
             ],
             [
              0.4444444444444444,
              "#bd3786"
             ],
             [
              0.5555555555555556,
              "#d8576b"
             ],
             [
              0.6666666666666666,
              "#ed7953"
             ],
             [
              0.7777777777777778,
              "#fb9f3a"
             ],
             [
              0.8888888888888888,
              "#fdca26"
             ],
             [
              1,
              "#f0f921"
             ]
            ],
            "type": "histogram2dcontour"
           }
          ],
          "mesh3d": [
           {
            "colorbar": {
             "outlinewidth": 0,
             "ticks": ""
            },
            "type": "mesh3d"
           }
          ],
          "parcoords": [
           {
            "line": {
             "colorbar": {
              "outlinewidth": 0,
              "ticks": ""
             }
            },
            "type": "parcoords"
           }
          ],
          "pie": [
           {
            "automargin": true,
            "type": "pie"
           }
          ],
          "scatter": [
           {
            "fillpattern": {
             "fillmode": "overlay",
             "size": 10,
             "solidity": 0.2
            },
            "type": "scatter"
           }
          ],
          "scatter3d": [
           {
            "line": {
             "colorbar": {
              "outlinewidth": 0,
              "ticks": ""
             }
            },
            "marker": {
             "colorbar": {
              "outlinewidth": 0,
              "ticks": ""
             }
            },
            "type": "scatter3d"
           }
          ],
          "scattercarpet": [
           {
            "marker": {
             "colorbar": {
              "outlinewidth": 0,
              "ticks": ""
             }
            },
            "type": "scattercarpet"
           }
          ],
          "scattergeo": [
           {
            "marker": {
             "colorbar": {
              "outlinewidth": 0,
              "ticks": ""
             }
            },
            "type": "scattergeo"
           }
          ],
          "scattergl": [
           {
            "marker": {
             "colorbar": {
              "outlinewidth": 0,
              "ticks": ""
             }
            },
            "type": "scattergl"
           }
          ],
          "scattermapbox": [
           {
            "marker": {
             "colorbar": {
              "outlinewidth": 0,
              "ticks": ""
             }
            },
            "type": "scattermapbox"
           }
          ],
          "scatterpolar": [
           {
            "marker": {
             "colorbar": {
              "outlinewidth": 0,
              "ticks": ""
             }
            },
            "type": "scatterpolar"
           }
          ],
          "scatterpolargl": [
           {
            "marker": {
             "colorbar": {
              "outlinewidth": 0,
              "ticks": ""
             }
            },
            "type": "scatterpolargl"
           }
          ],
          "scatterternary": [
           {
            "marker": {
             "colorbar": {
              "outlinewidth": 0,
              "ticks": ""
             }
            },
            "type": "scatterternary"
           }
          ],
          "surface": [
           {
            "colorbar": {
             "outlinewidth": 0,
             "ticks": ""
            },
            "colorscale": [
             [
              0,
              "#0d0887"
             ],
             [
              0.1111111111111111,
              "#46039f"
             ],
             [
              0.2222222222222222,
              "#7201a8"
             ],
             [
              0.3333333333333333,
              "#9c179e"
             ],
             [
              0.4444444444444444,
              "#bd3786"
             ],
             [
              0.5555555555555556,
              "#d8576b"
             ],
             [
              0.6666666666666666,
              "#ed7953"
             ],
             [
              0.7777777777777778,
              "#fb9f3a"
             ],
             [
              0.8888888888888888,
              "#fdca26"
             ],
             [
              1,
              "#f0f921"
             ]
            ],
            "type": "surface"
           }
          ],
          "table": [
           {
            "cells": {
             "fill": {
              "color": "#EBF0F8"
             },
             "line": {
              "color": "white"
             }
            },
            "header": {
             "fill": {
              "color": "#C8D4E3"
             },
             "line": {
              "color": "white"
             }
            },
            "type": "table"
           }
          ]
         },
         "layout": {
          "annotationdefaults": {
           "arrowcolor": "#2a3f5f",
           "arrowhead": 0,
           "arrowwidth": 1
          },
          "autotypenumbers": "strict",
          "coloraxis": {
           "colorbar": {
            "outlinewidth": 0,
            "ticks": ""
           }
          },
          "colorscale": {
           "diverging": [
            [
             0,
             "#8e0152"
            ],
            [
             0.1,
             "#c51b7d"
            ],
            [
             0.2,
             "#de77ae"
            ],
            [
             0.3,
             "#f1b6da"
            ],
            [
             0.4,
             "#fde0ef"
            ],
            [
             0.5,
             "#f7f7f7"
            ],
            [
             0.6,
             "#e6f5d0"
            ],
            [
             0.7,
             "#b8e186"
            ],
            [
             0.8,
             "#7fbc41"
            ],
            [
             0.9,
             "#4d9221"
            ],
            [
             1,
             "#276419"
            ]
           ],
           "sequential": [
            [
             0,
             "#0d0887"
            ],
            [
             0.1111111111111111,
             "#46039f"
            ],
            [
             0.2222222222222222,
             "#7201a8"
            ],
            [
             0.3333333333333333,
             "#9c179e"
            ],
            [
             0.4444444444444444,
             "#bd3786"
            ],
            [
             0.5555555555555556,
             "#d8576b"
            ],
            [
             0.6666666666666666,
             "#ed7953"
            ],
            [
             0.7777777777777778,
             "#fb9f3a"
            ],
            [
             0.8888888888888888,
             "#fdca26"
            ],
            [
             1,
             "#f0f921"
            ]
           ],
           "sequentialminus": [
            [
             0,
             "#0d0887"
            ],
            [
             0.1111111111111111,
             "#46039f"
            ],
            [
             0.2222222222222222,
             "#7201a8"
            ],
            [
             0.3333333333333333,
             "#9c179e"
            ],
            [
             0.4444444444444444,
             "#bd3786"
            ],
            [
             0.5555555555555556,
             "#d8576b"
            ],
            [
             0.6666666666666666,
             "#ed7953"
            ],
            [
             0.7777777777777778,
             "#fb9f3a"
            ],
            [
             0.8888888888888888,
             "#fdca26"
            ],
            [
             1,
             "#f0f921"
            ]
           ]
          },
          "colorway": [
           "#636efa",
           "#EF553B",
           "#00cc96",
           "#ab63fa",
           "#FFA15A",
           "#19d3f3",
           "#FF6692",
           "#B6E880",
           "#FF97FF",
           "#FECB52"
          ],
          "font": {
           "color": "#2a3f5f"
          },
          "geo": {
           "bgcolor": "white",
           "lakecolor": "white",
           "landcolor": "#E5ECF6",
           "showlakes": true,
           "showland": true,
           "subunitcolor": "white"
          },
          "hoverlabel": {
           "align": "left"
          },
          "hovermode": "closest",
          "mapbox": {
           "style": "light"
          },
          "paper_bgcolor": "white",
          "plot_bgcolor": "#E5ECF6",
          "polar": {
           "angularaxis": {
            "gridcolor": "white",
            "linecolor": "white",
            "ticks": ""
           },
           "bgcolor": "#E5ECF6",
           "radialaxis": {
            "gridcolor": "white",
            "linecolor": "white",
            "ticks": ""
           }
          },
          "scene": {
           "xaxis": {
            "backgroundcolor": "#E5ECF6",
            "gridcolor": "white",
            "gridwidth": 2,
            "linecolor": "white",
            "showbackground": true,
            "ticks": "",
            "zerolinecolor": "white"
           },
           "yaxis": {
            "backgroundcolor": "#E5ECF6",
            "gridcolor": "white",
            "gridwidth": 2,
            "linecolor": "white",
            "showbackground": true,
            "ticks": "",
            "zerolinecolor": "white"
           },
           "zaxis": {
            "backgroundcolor": "#E5ECF6",
            "gridcolor": "white",
            "gridwidth": 2,
            "linecolor": "white",
            "showbackground": true,
            "ticks": "",
            "zerolinecolor": "white"
           }
          },
          "shapedefaults": {
           "line": {
            "color": "#2a3f5f"
           }
          },
          "ternary": {
           "aaxis": {
            "gridcolor": "white",
            "linecolor": "white",
            "ticks": ""
           },
           "baxis": {
            "gridcolor": "white",
            "linecolor": "white",
            "ticks": ""
           },
           "bgcolor": "#E5ECF6",
           "caxis": {
            "gridcolor": "white",
            "linecolor": "white",
            "ticks": ""
           }
          },
          "title": {
           "x": 0.05
          },
          "xaxis": {
           "automargin": true,
           "gridcolor": "white",
           "linecolor": "white",
           "ticks": "",
           "title": {
            "standoff": 15
           },
           "zerolinecolor": "white",
           "zerolinewidth": 2
          },
          "yaxis": {
           "automargin": true,
           "gridcolor": "white",
           "linecolor": "white",
           "ticks": "",
           "title": {
            "standoff": 15
           },
           "zerolinecolor": "white",
           "zerolinewidth": 2
          }
         }
        },
        "title": {
         "text": "human word frequency / rank ratio"
        },
        "xaxis": {
         "anchor": "y",
         "domain": [
          0,
          1
         ],
         "title": {
          "text": "index"
         }
        },
        "yaxis": {
         "anchor": "x",
         "domain": [
          0,
          1
         ],
         "title": {
          "text": "value"
         }
        }
       }
      },
      "image/png": "[encoded data removed]",
      "text/html": [
       "<div>                            <div id=\"d6f1358c-fddf-46e4-a53a-e10f73d69331\" class=\"plotly-graph-div\" style=\"height:525px; width:100%;\"></div>            <script type=\"text/javascript\">                require([\"plotly\"], function(Plotly) {                    window.PLOTLYENV=window.PLOTLYENV || {};                                    if (document.getElementById(\"d6f1358c-fddf-46e4-a53a-e10f73d69331\")) {                    Plotly.newPlot(                        \"d6f1358c-fddf-46e4-a53a-e10f73d69331\",                        [{\"hovertemplate\":\"variable=0\\u003cbr\\u003eindex=%{x}\\u003cbr\\u003evalue=%{y}\\u003cextra\\u003e\\u003c\\u002fextra\\u003e\",\"legendgroup\":\"0\",\"line\":{\"color\":\"#636efa\",\"dash\":\"solid\"},\"marker\":{\"symbol\":\"circle\"},\"mode\":\"lines\",\"name\":\"0\",\"orientation\":\"v\",\"showlegend\":true,\"x\":[0,1,2,3,4,5,6,7,8,9,10,11,12,13,14,15,16,17,18,19,20,21,22,23,24,25,26,27,28,29,30,31,32,33,34,35,36,37,38,39,40,41,42,43,44,45,46,47,48,49,50,51,52,53,54,55,56,57,58,59,60,61,62,63,64,65,66,67,68,69,70,71,72,73,74,75,76,77,78,79,80,81,82,83,84,85,86,87,88,89,90,91,92,93,94,95,96,97,98,99],\"xaxis\":\"x\",\"y\":[0.46866699150595004,0.15651415501764626,0.08317714342343951,0.053158181256393426,0.03668782823778623,0.02703392338830347,0.020766682369170078,0.016460453249615363,0.01334547171991568,0.01103430637316341,0.009316842835206566,0.007975874126312666,0.006903597942739301,0.006058454152730738,0.005357484623243528,0.004781409511568102,0.004281246661103624,0.0038642230825154064,0.0035136960685538516,0.0032106262858095456,0.002943917535196494,0.0027075271821040453,0.0025031013603868616,0.0023260481319970212,0.002165830906762912,0.0020168370896987845,0.0018933694734047867,0.0017771874455220383,0.0016680308734226287,0.0015707633467043555,0.0014808484607761899,0.0014007278566006336,0.0013243064471004167,0.0012581336467864664,0.0011956058358330815,0.0011402625489389724,0.0010868792293346826,0.001038691044634675,0.0009934633794585767,0.0009496621772648637,0.000910790383768276,0.0008724064929120648,0.000837361239354133,0.000805318557528504,0.0007726855840694774,0.0007426123203932183,0.000714833870704909,0.0006862249510002324,0.0006592705762843295,0.000634634829539172,0.0006120877723937727,0.000589765663387489,0.000569475713820965,0.0005507077100944144,0.0005333166018893574,0.0005156940768740112,0.0004996112143778866,0.0004844944985004761,0.00047012794542202304,0.0004576759225333486,0.00044430121631533915,0.000432725119299029,0.0004209146431911761,0.0004100677602195229,0.0004005218904032443,0.00039045381007997003,0.00038061221216235876,0.0003706518796644405,0.00036104960505044877,0.0003520444679278306,0.0003434728149825011,0.00033566708398784624,0.00032859684546217803,0.00032074149661642917,0.00031338838476922576,0.00030574022614000444,0.00029847348763184685,0.000291784327703762,0.000284592266447228,0.00027827330364973285,0.00027186862643687886,0.00026585424387740286,0.0002600053457545528,0.00025365876624266315,0.0002477722976043978,0.0002427187663794708,0.0002371577043025986,0.000231942733048289,0.00022665369836477465,0.00022218084219166864,0.00021748289117446185,0.0002134993317203201,0.00020946655687372514,0.00020547741219988262,0.0002019811707748351,0.00019843337213970412,0.00019517410055332887,0.00019201319659679146,0.0001883193982203286,0.00018538497589711434],\"yaxis\":\"y\",\"type\":\"scatter\"}],                        {\"template\":{\"data\":{\"histogram2dcontour\":[{\"type\":\"histogram2dcontour\",\"colorbar\":{\"outlinewidth\":0,\"ticks\":\"\"},\"colorscale\":[[0.0,\"#0d0887\"],[0.1111111111111111,\"#46039f\"],[0.2222222222222222,\"#7201a8\"],[0.3333333333333333,\"#9c179e\"],[0.4444444444444444,\"#bd3786\"],[0.5555555555555556,\"#d8576b\"],[0.6666666666666666,\"#ed7953\"],[0.7777777777777778,\"#fb9f3a\"],[0.8888888888888888,\"#fdca26\"],[1.0,\"#f0f921\"]]}],\"choropleth\":[{\"type\":\"choropleth\",\"colorbar\":{\"outlinewidth\":0,\"ticks\":\"\"}}],\"histogram2d\":[{\"type\":\"histogram2d\",\"colorbar\":{\"outlinewidth\":0,\"ticks\":\"\"},\"colorscale\":[[0.0,\"#0d0887\"],[0.1111111111111111,\"#46039f\"],[0.2222222222222222,\"#7201a8\"],[0.3333333333333333,\"#9c179e\"],[0.4444444444444444,\"#bd3786\"],[0.5555555555555556,\"#d8576b\"],[0.6666666666666666,\"#ed7953\"],[0.7777777777777778,\"#fb9f3a\"],[0.8888888888888888,\"#fdca26\"],[1.0,\"#f0f921\"]]}],\"heatmap\":[{\"type\":\"heatmap\",\"colorbar\":{\"outlinewidth\":0,\"ticks\":\"\"},\"colorscale\":[[0.0,\"#0d0887\"],[0.1111111111111111,\"#46039f\"],[0.2222222222222222,\"#7201a8\"],[0.3333333333333333,\"#9c179e\"],[0.4444444444444444,\"#bd3786\"],[0.5555555555555556,\"#d8576b\"],[0.6666666666666666,\"#ed7953\"],[0.7777777777777778,\"#fb9f3a\"],[0.8888888888888888,\"#fdca26\"],[1.0,\"#f0f921\"]]}],\"heatmapgl\":[{\"type\":\"heatmapgl\",\"colorbar\":{\"outlinewidth\":0,\"ticks\":\"\"},\"colorscale\":[[0.0,\"#0d0887\"],[0.1111111111111111,\"#46039f\"],[0.2222222222222222,\"#7201a8\"],[0.3333333333333333,\"#9c179e\"],[0.4444444444444444,\"#bd3786\"],[0.5555555555555556,\"#d8576b\"],[0.6666666666666666,\"#ed7953\"],[0.7777777777777778,\"#fb9f3a\"],[0.8888888888888888,\"#fdca26\"],[1.0,\"#f0f921\"]]}],\"contourcarpet\":[{\"type\":\"contourcarpet\",\"colorbar\":{\"outlinewidth\":0,\"ticks\":\"\"}}],\"contour\":[{\"type\":\"contour\",\"colorbar\":{\"outlinewidth\":0,\"ticks\":\"\"},\"colorscale\":[[0.0,\"#0d0887\"],[0.1111111111111111,\"#46039f\"],[0.2222222222222222,\"#7201a8\"],[0.3333333333333333,\"#9c179e\"],[0.4444444444444444,\"#bd3786\"],[0.5555555555555556,\"#d8576b\"],[0.6666666666666666,\"#ed7953\"],[0.7777777777777778,\"#fb9f3a\"],[0.8888888888888888,\"#fdca26\"],[1.0,\"#f0f921\"]]}],\"surface\":[{\"type\":\"surface\",\"colorbar\":{\"outlinewidth\":0,\"ticks\":\"\"},\"colorscale\":[[0.0,\"#0d0887\"],[0.1111111111111111,\"#46039f\"],[0.2222222222222222,\"#7201a8\"],[0.3333333333333333,\"#9c179e\"],[0.4444444444444444,\"#bd3786\"],[0.5555555555555556,\"#d8576b\"],[0.6666666666666666,\"#ed7953\"],[0.7777777777777778,\"#fb9f3a\"],[0.8888888888888888,\"#fdca26\"],[1.0,\"#f0f921\"]]}],\"mesh3d\":[{\"type\":\"mesh3d\",\"colorbar\":{\"outlinewidth\":0,\"ticks\":\"\"}}],\"scatter\":[{\"fillpattern\":{\"fillmode\":\"overlay\",\"size\":10,\"solidity\":0.2},\"type\":\"scatter\"}],\"parcoords\":[{\"type\":\"parcoords\",\"line\":{\"colorbar\":{\"outlinewidth\":0,\"ticks\":\"\"}}}],\"scatterpolargl\":[{\"type\":\"scatterpolargl\",\"marker\":{\"colorbar\":{\"outlinewidth\":0,\"ticks\":\"\"}}}],\"bar\":[{\"error_x\":{\"color\":\"#2a3f5f\"},\"error_y\":{\"color\":\"#2a3f5f\"},\"marker\":{\"line\":{\"color\":\"#E5ECF6\",\"width\":0.5},\"pattern\":{\"fillmode\":\"overlay\",\"size\":10,\"solidity\":0.2}},\"type\":\"bar\"}],\"scattergeo\":[{\"type\":\"scattergeo\",\"marker\":{\"colorbar\":{\"outlinewidth\":0,\"ticks\":\"\"}}}],\"scatterpolar\":[{\"type\":\"scatterpolar\",\"marker\":{\"colorbar\":{\"outlinewidth\":0,\"ticks\":\"\"}}}],\"histogram\":[{\"marker\":{\"pattern\":{\"fillmode\":\"overlay\",\"size\":10,\"solidity\":0.2}},\"type\":\"histogram\"}],\"scattergl\":[{\"type\":\"scattergl\",\"marker\":{\"colorbar\":{\"outlinewidth\":0,\"ticks\":\"\"}}}],\"scatter3d\":[{\"type\":\"scatter3d\",\"line\":{\"colorbar\":{\"outlinewidth\":0,\"ticks\":\"\"}},\"marker\":{\"colorbar\":{\"outlinewidth\":0,\"ticks\":\"\"}}}],\"scattermapbox\":[{\"type\":\"scattermapbox\",\"marker\":{\"colorbar\":{\"outlinewidth\":0,\"ticks\":\"\"}}}],\"scatterternary\":[{\"type\":\"scatterternary\",\"marker\":{\"colorbar\":{\"outlinewidth\":0,\"ticks\":\"\"}}}],\"scattercarpet\":[{\"type\":\"scattercarpet\",\"marker\":{\"colorbar\":{\"outlinewidth\":0,\"ticks\":\"\"}}}],\"carpet\":[{\"aaxis\":{\"endlinecolor\":\"#2a3f5f\",\"gridcolor\":\"white\",\"linecolor\":\"white\",\"minorgridcolor\":\"white\",\"startlinecolor\":\"#2a3f5f\"},\"baxis\":{\"endlinecolor\":\"#2a3f5f\",\"gridcolor\":\"white\",\"linecolor\":\"white\",\"minorgridcolor\":\"white\",\"startlinecolor\":\"#2a3f5f\"},\"type\":\"carpet\"}],\"table\":[{\"cells\":{\"fill\":{\"color\":\"#EBF0F8\"},\"line\":{\"color\":\"white\"}},\"header\":{\"fill\":{\"color\":\"#C8D4E3\"},\"line\":{\"color\":\"white\"}},\"type\":\"table\"}],\"barpolar\":[{\"marker\":{\"line\":{\"color\":\"#E5ECF6\",\"width\":0.5},\"pattern\":{\"fillmode\":\"overlay\",\"size\":10,\"solidity\":0.2}},\"type\":\"barpolar\"}],\"pie\":[{\"automargin\":true,\"type\":\"pie\"}]},\"layout\":{\"autotypenumbers\":\"strict\",\"colorway\":[\"#636efa\",\"#EF553B\",\"#00cc96\",\"#ab63fa\",\"#FFA15A\",\"#19d3f3\",\"#FF6692\",\"#B6E880\",\"#FF97FF\",\"#FECB52\"],\"font\":{\"color\":\"#2a3f5f\"},\"hovermode\":\"closest\",\"hoverlabel\":{\"align\":\"left\"},\"paper_bgcolor\":\"white\",\"plot_bgcolor\":\"#E5ECF6\",\"polar\":{\"bgcolor\":\"#E5ECF6\",\"angularaxis\":{\"gridcolor\":\"white\",\"linecolor\":\"white\",\"ticks\":\"\"},\"radialaxis\":{\"gridcolor\":\"white\",\"linecolor\":\"white\",\"ticks\":\"\"}},\"ternary\":{\"bgcolor\":\"#E5ECF6\",\"aaxis\":{\"gridcolor\":\"white\",\"linecolor\":\"white\",\"ticks\":\"\"},\"baxis\":{\"gridcolor\":\"white\",\"linecolor\":\"white\",\"ticks\":\"\"},\"caxis\":{\"gridcolor\":\"white\",\"linecolor\":\"white\",\"ticks\":\"\"}},\"coloraxis\":{\"colorbar\":{\"outlinewidth\":0,\"ticks\":\"\"}},\"colorscale\":{\"sequential\":[[0.0,\"#0d0887\"],[0.1111111111111111,\"#46039f\"],[0.2222222222222222,\"#7201a8\"],[0.3333333333333333,\"#9c179e\"],[0.4444444444444444,\"#bd3786\"],[0.5555555555555556,\"#d8576b\"],[0.6666666666666666,\"#ed7953\"],[0.7777777777777778,\"#fb9f3a\"],[0.8888888888888888,\"#fdca26\"],[1.0,\"#f0f921\"]],\"sequentialminus\":[[0.0,\"#0d0887\"],[0.1111111111111111,\"#46039f\"],[0.2222222222222222,\"#7201a8\"],[0.3333333333333333,\"#9c179e\"],[0.4444444444444444,\"#bd3786\"],[0.5555555555555556,\"#d8576b\"],[0.6666666666666666,\"#ed7953\"],[0.7777777777777778,\"#fb9f3a\"],[0.8888888888888888,\"#fdca26\"],[1.0,\"#f0f921\"]],\"diverging\":[[0,\"#8e0152\"],[0.1,\"#c51b7d\"],[0.2,\"#de77ae\"],[0.3,\"#f1b6da\"],[0.4,\"#fde0ef\"],[0.5,\"#f7f7f7\"],[0.6,\"#e6f5d0\"],[0.7,\"#b8e186\"],[0.8,\"#7fbc41\"],[0.9,\"#4d9221\"],[1,\"#276419\"]]},\"xaxis\":{\"gridcolor\":\"white\",\"linecolor\":\"white\",\"ticks\":\"\",\"title\":{\"standoff\":15},\"zerolinecolor\":\"white\",\"automargin\":true,\"zerolinewidth\":2},\"yaxis\":{\"gridcolor\":\"white\",\"linecolor\":\"white\",\"ticks\":\"\",\"title\":{\"standoff\":15},\"zerolinecolor\":\"white\",\"automargin\":true,\"zerolinewidth\":2},\"scene\":{\"xaxis\":{\"backgroundcolor\":\"#E5ECF6\",\"gridcolor\":\"white\",\"linecolor\":\"white\",\"showbackground\":true,\"ticks\":\"\",\"zerolinecolor\":\"white\",\"gridwidth\":2},\"yaxis\":{\"backgroundcolor\":\"#E5ECF6\",\"gridcolor\":\"white\",\"linecolor\":\"white\",\"showbackground\":true,\"ticks\":\"\",\"zerolinecolor\":\"white\",\"gridwidth\":2},\"zaxis\":{\"backgroundcolor\":\"#E5ECF6\",\"gridcolor\":\"white\",\"linecolor\":\"white\",\"showbackground\":true,\"ticks\":\"\",\"zerolinecolor\":\"white\",\"gridwidth\":2}},\"shapedefaults\":{\"line\":{\"color\":\"#2a3f5f\"}},\"annotationdefaults\":{\"arrowcolor\":\"#2a3f5f\",\"arrowhead\":0,\"arrowwidth\":1},\"geo\":{\"bgcolor\":\"white\",\"landcolor\":\"#E5ECF6\",\"subunitcolor\":\"white\",\"showland\":true,\"showlakes\":true,\"lakecolor\":\"white\"},\"title\":{\"x\":0.05},\"mapbox\":{\"style\":\"light\"}}},\"xaxis\":{\"anchor\":\"y\",\"domain\":[0.0,1.0],\"title\":{\"text\":\"index\"}},\"yaxis\":{\"anchor\":\"x\",\"domain\":[0.0,1.0],\"title\":{\"text\":\"value\"}},\"legend\":{\"title\":{\"text\":\"variable\"},\"tracegroupgap\":0},\"title\":{\"text\":\"human word frequency \\u002f rank ratio\"}},                        {\"responsive\": true}                    ).then(function(){\n",
       "                            \n",
       "var gd = document.getElementById('d6f1358c-fddf-46e4-a53a-e10f73d69331');\n",
       "var x = new MutationObserver(function (mutations, observer) {{\n",
       "        var display = window.getComputedStyle(gd).display;\n",
       "        if (!display || display === 'none') {{\n",
       "            console.log([gd, 'removed!']);\n",
       "            Plotly.purge(gd);\n",
       "            observer.disconnect();\n",
       "        }}\n",
       "}});\n",
       "\n",
       "// Listen for the removal of the full notebook cells\n",
       "var notebookContainer = gd.closest('#notebook-container');\n",
       "if (notebookContainer) {{\n",
       "    x.observe(notebookContainer, {childList: true});\n",
       "}}\n",
       "\n",
       "// Listen for the clearing of the current output cell\n",
       "var outputEl = gd.closest('.output');\n",
       "if (outputEl) {{\n",
       "    x.observe(outputEl, {childList: true});\n",
       "}}\n",
       "\n",
       "                        })                };                });            </script>        </div>"
      ]
     },
     "metadata": {},
     "output_type": "display_data"
    }
   ],
   "source": [
    "fig = px.line(human_distr, title='human word frequency / rank ratio')\n",
    "fig.show()"
   ]
  },
  {
   "cell_type": "code",
   "execution_count": 45,
   "id": "13203f60-ac96-438c-9c8f-9e1a614138c1",
   "metadata": {},
   "outputs": [
    {
     "data": {
      "text/plain": [
       "0    [18, 15, 10, 9, 7, 6, 5, 4, 3, 3, 3, 3, 3, 3, ...\n",
       "1    [14, 13, 12, 8, 8, 6, 6, 6, 5, 5, 5, 5, 4, 4, ...\n",
       "2    [28, 20, 17, 11, 11, 9, 8, 8, 8, 7, 5, 5, 5, 4...\n",
       "3    [33, 28, 22, 17, 12, 11, 9, 8, 8, 8, 7, 7, 7, ...\n",
       "4    [20, 14, 11, 10, 8, 7, 6, 6, 5, 5, 5, 5, 5, 5,...\n",
       "Name: gpt4o_counts, dtype: object"
      ]
     },
     "execution_count": 45,
     "metadata": {},
     "output_type": "execute_result"
    }
   ],
   "source": [
    "parallel_texts[['gpt4o_wordcount', 'gpt4o_counts']] = parallel_texts['GPT4 Omni'].apply(create_wordrange)\n",
    "parallel_texts.gpt4o_counts[:5]"
   ]
  },
  {
   "cell_type": "code",
   "execution_count": 58,
   "id": "7ce7b24f-50a0-4a3a-980f-d7d81343c18d",
   "metadata": {},
   "outputs": [
    {
     "name": "stdout",
     "output_type": "stream",
     "text": [
      "Average word frequencies: [32.74433333333333, 21.870333333333335, 17.434, 14.856, 12.816333333333333, 11.332666666666666, 10.156333333333333, 9.200333333333333, 8.391666666666667, 7.709333333333333]\n"
     ]
    }
   ],
   "source": [
    "gpt4o_distr = calc_zipf(parallel_texts.gpt4o_counts, 'gpt4o')"
   ]
  },
  {
   "cell_type": "code",
   "execution_count": 47,
   "id": "0be4849c-b88c-44e2-924d-eb273780409a",
   "metadata": {},
   "outputs": [
    {
     "data": {
      "text/plain": [
       "0    [23, 21, 20, 14, 9, 8, 7, 6, 5, 5, 5, 4, 3, 3,...\n",
       "1    [18, 11, 10, 9, 9, 9, 9, 7, 6, 5, 5, 5, 4, 4, ...\n",
       "2    [27, 22, 17, 13, 10, 9, 9, 8, 8, 7, 7, 7, 5, 5...\n",
       "3    [31, 28, 27, 26, 22, 17, 14, 13, 12, 12, 12, 9...\n",
       "4    [17, 12, 12, 11, 11, 10, 8, 6, 6, 5, 5, 4, 4, ...\n",
       "Name: llama3_70b_counts, dtype: object"
      ]
     },
     "execution_count": 47,
     "metadata": {},
     "output_type": "execute_result"
    }
   ],
   "source": [
    "parallel_texts[['llama3_70b_wordcount', 'llama3_70b_counts']] = parallel_texts['Llama3 70B'].apply(create_wordrange)\n",
    "parallel_texts.llama3_70b_counts[:5]"
   ]
  },
  {
   "cell_type": "code",
   "execution_count": 59,
   "id": "9dd4418f-29bb-4739-bf70-74f83a1dfa7a",
   "metadata": {},
   "outputs": [
    {
     "name": "stdout",
     "output_type": "stream",
     "text": [
      "Average word frequencies: [32.74433333333333, 21.870333333333335, 17.434, 14.856, 12.816333333333333, 11.332666666666666, 10.156333333333333, 9.200333333333333, 8.391666666666667, 7.709333333333333]\n"
     ]
    }
   ],
   "source": [
    "llama_distr = calc_zipf(parallel_texts.llama3_70b_counts, 'llama3_70b')"
   ]
  },
  {
   "cell_type": "code",
   "execution_count": 49,
   "id": "9e6910cb-2922-4e7f-b42d-b16d813c57d2",
   "metadata": {},
   "outputs": [
    {
     "data": {
      "text/plain": [
       "0    [26, 21, 16, 11, 10, 7, 6, 5, 5, 5, 5, 5, 4, 4...\n",
       "1    [26, 15, 12, 12, 12, 8, 7, 6, 6, 6, 5, 5, 5, 5...\n",
       "2    [41, 18, 13, 12, 11, 10, 9, 8, 8, 7, 7, 7, 7, ...\n",
       "3    [27, 24, 18, 17, 14, 13, 12, 10, 10, 9, 9, 9, ...\n",
       "4    [20, 15, 11, 9, 7, 7, 6, 6, 6, 5, 5, 5, 5, 5, ...\n",
       "Name: claude3_counts, dtype: object"
      ]
     },
     "execution_count": 49,
     "metadata": {},
     "output_type": "execute_result"
    }
   ],
   "source": [
    "\n",
    "parallel_texts[['claude3_wordcount', 'claude3_counts']] = parallel_texts['Claude 3 Opus'].apply(create_wordrange)\n",
    "parallel_texts.claude3_counts[:5]"
   ]
  },
  {
   "cell_type": "code",
   "execution_count": 60,
   "id": "57e7ac8b-9e69-4005-9e11-26deb3bced30",
   "metadata": {},
   "outputs": [
    {
     "name": "stdout",
     "output_type": "stream",
     "text": [
      "Average word frequencies: [32.74433333333333, 21.870333333333335, 17.434, 14.856, 12.816333333333333, 11.332666666666666, 10.156333333333333, 9.200333333333333, 8.391666666666667, 7.709333333333333]\n"
     ]
    }
   ],
   "source": [
    "claude_distr = calc_zipf(parallel_texts.claude3_counts, 'claude3')"
   ]
  },
  {
   "cell_type": "code",
   "execution_count": 61,
   "id": "b4a29013-1469-4f6c-9f58-60e74b36bfd1",
   "metadata": {},
   "outputs": [
    {
     "data": {
      "text/plain": [
       "source\n",
       "human         100\n",
       "gpt4o         100\n",
       "llama3_70b    100\n",
       "claude3       100\n",
       "Name: count, dtype: int64"
      ]
     },
     "execution_count": 61,
     "metadata": {},
     "output_type": "execute_result"
    }
   ],
   "source": [
    "all_distr = pd.concat([human_distr, gpt4o_distr, llama_distr, claude_distr])\n",
    "all_distr.source.value_counts()"
   ]
  },
  {
   "cell_type": "code",
   "execution_count": 68,
   "id": "32b7df4f-ea13-49b4-b755-f56b81391075",
   "metadata": {},
   "outputs": [
    {
     "data": {
      "application/vnd.plotly.v1+json": {
       "config": {
        "plotlyServerURL": "https://plot.ly"
       },
       "data": [
        {
         "hovertemplate": "source=human<br>variable=0<br>index=%{x}<br>value=%{y}<extra></extra>",
         "legendgroup": "human",
         "line": {
          "color": "#636efa",
          "dash": "solid"
         },
         "marker": {
          "symbol": "circle"
         },
         "mode": "lines",
         "name": "human",
         "orientation": "v",
         "showlegend": true,
         "type": "scatter",
         "x": [
          0,
          1,
          2,
          3,
          4,
          5,
          6,
          7,
          8,
          9,
          10,
          11,
          12,
          13,
          14,
          15,
          16,
          17,
          18,
          19,
          20,
          21,
          22,
          23,
          24,
          25,
          26,
          27,
          28,
          29,
          30,
          31,
          32,
          33,
          34,
          35,
          36,
          37,
          38,
          39,
          40,
          41,
          42,
          43,
          44,
          45,
          46,
          47,
          48,
          49,
          50,
          51,
          52,
          53,
          54,
          55,
          56,
          57,
          58,
          59,
          60,
          61,
          62,
          63,
          64,
          65,
          66,
          67,
          68,
          69,
          70,
          71,
          72,
          73,
          74,
          75,
          76,
          77,
          78,
          79,
          80,
          81,
          82,
          83,
          84,
          85,
          86,
          87,
          88,
          89,
          90,
          91,
          92,
          93,
          94,
          95,
          96,
          97,
          98,
          99
         ],
         "xaxis": "x",
         "y": [
          0.46866699150595004,
          0.15651415501764626,
          0.08317714342343951,
          0.053158181256393426,
          0.03668782823778623,
          0.02703392338830347,
          0.020766682369170078,
          0.016460453249615363,
          0.01334547171991568,
          0.01103430637316341,
          0.009316842835206566,
          0.007975874126312666,
          0.006903597942739301,
          0.006058454152730738,
          0.005357484623243528,
          0.004781409511568102,
          0.004281246661103624,
          0.0038642230825154064,
          0.0035136960685538516,
          0.0032106262858095456,
          0.002943917535196494,
          0.0027075271821040453,
          0.0025031013603868616,
          0.0023260481319970212,
          0.002165830906762912,
          0.0020168370896987845,
          0.0018933694734047867,
          0.0017771874455220383,
          0.0016680308734226287,
          0.0015707633467043555,
          0.0014808484607761899,
          0.0014007278566006336,
          0.0013243064471004167,
          0.0012581336467864664,
          0.0011956058358330815,
          0.0011402625489389724,
          0.0010868792293346826,
          0.001038691044634675,
          0.0009934633794585767,
          0.0009496621772648637,
          0.000910790383768276,
          0.0008724064929120648,
          0.000837361239354133,
          0.000805318557528504,
          0.0007726855840694774,
          0.0007426123203932183,
          0.000714833870704909,
          0.0006862249510002324,
          0.0006592705762843295,
          0.000634634829539172,
          0.0006120877723937727,
          0.000589765663387489,
          0.000569475713820965,
          0.0005507077100944144,
          0.0005333166018893574,
          0.0005156940768740112,
          0.0004996112143778866,
          0.0004844944985004761,
          0.00047012794542202304,
          0.0004576759225333486,
          0.00044430121631533915,
          0.000432725119299029,
          0.0004209146431911761,
          0.0004100677602195229,
          0.0004005218904032443,
          0.00039045381007997003,
          0.00038061221216235876,
          0.0003706518796644405,
          0.00036104960505044877,
          0.0003520444679278306,
          0.0003434728149825011,
          0.00033566708398784624,
          0.00032859684546217803,
          0.00032074149661642917,
          0.00031338838476922576,
          0.00030574022614000444,
          0.00029847348763184685,
          0.000291784327703762,
          0.000284592266447228,
          0.00027827330364973285,
          0.00027186862643687886,
          0.00026585424387740286,
          0.0002600053457545528,
          0.00025365876624266315,
          0.0002477722976043978,
          0.0002427187663794708,
          0.0002371577043025986,
          0.000231942733048289,
          0.00022665369836477465,
          0.00022218084219166864,
          0.00021748289117446185,
          0.0002134993317203201,
          0.00020946655687372514,
          0.00020547741219988262,
          0.0002019811707748351,
          0.00019843337213970412,
          0.00019517410055332887,
          0.00019201319659679146,
          0.0001883193982203286,
          0.00018538497589711434
         ],
         "yaxis": "y"
        },
        {
         "hovertemplate": "source=gpt4o<br>variable=0<br>index=%{x}<br>value=%{y}<extra></extra>",
         "legendgroup": "gpt4o",
         "line": {
          "color": "#EF553B",
          "dash": "solid"
         },
         "marker": {
          "symbol": "circle"
         },
         "mode": "lines",
         "name": "gpt4o",
         "orientation": "v",
         "showlegend": true,
         "type": "scatter",
         "x": [
          0,
          1,
          2,
          3,
          4,
          5,
          6,
          7,
          8,
          9,
          10,
          11,
          12,
          13,
          14,
          15,
          16,
          17,
          18,
          19,
          20,
          21,
          22,
          23,
          24,
          25,
          26,
          27,
          28,
          29,
          30,
          31,
          32,
          33,
          34,
          35,
          36,
          37,
          38,
          39,
          40,
          41,
          42,
          43,
          44,
          45,
          46,
          47,
          48,
          49,
          50,
          51,
          52,
          53,
          54,
          55,
          56,
          57,
          58,
          59,
          60,
          61,
          62,
          63,
          64,
          65,
          66,
          67,
          68,
          69,
          70,
          71,
          72,
          73,
          74,
          75,
          76,
          77,
          78,
          79,
          80,
          81,
          82,
          83,
          84,
          85,
          86,
          87,
          88,
          89,
          90,
          91,
          92,
          93,
          94,
          95,
          96,
          97,
          98,
          99
         ],
         "xaxis": "x",
         "y": [
          0.46866699150595004,
          0.15651415501764626,
          0.08317714342343951,
          0.053158181256393426,
          0.03668782823778623,
          0.02703392338830347,
          0.020766682369170078,
          0.016460453249615363,
          0.01334547171991568,
          0.01103430637316341,
          0.009316842835206566,
          0.007975874126312666,
          0.006903597942739301,
          0.006058454152730738,
          0.005357484623243528,
          0.004781409511568102,
          0.004281246661103624,
          0.0038642230825154064,
          0.0035136960685538516,
          0.0032106262858095456,
          0.002943917535196494,
          0.0027075271821040453,
          0.0025031013603868616,
          0.0023260481319970212,
          0.002165830906762912,
          0.0020168370896987845,
          0.0018933694734047867,
          0.0017771874455220383,
          0.0016680308734226287,
          0.0015707633467043555,
          0.0014808484607761899,
          0.0014007278566006336,
          0.0013243064471004167,
          0.0012581336467864664,
          0.0011956058358330815,
          0.0011402625489389724,
          0.0010868792293346826,
          0.001038691044634675,
          0.0009934633794585767,
          0.0009496621772648637,
          0.000910790383768276,
          0.0008724064929120648,
          0.000837361239354133,
          0.000805318557528504,
          0.0007726855840694774,
          0.0007426123203932183,
          0.000714833870704909,
          0.0006862249510002324,
          0.0006592705762843295,
          0.000634634829539172,
          0.0006120877723937727,
          0.000589765663387489,
          0.000569475713820965,
          0.0005507077100944144,
          0.0005333166018893574,
          0.0005156940768740112,
          0.0004996112143778866,
          0.0004844944985004761,
          0.00047012794542202304,
          0.0004576759225333486,
          0.00044430121631533915,
          0.000432725119299029,
          0.0004209146431911761,
          0.0004100677602195229,
          0.0004005218904032443,
          0.00039045381007997003,
          0.00038061221216235876,
          0.0003706518796644405,
          0.00036104960505044877,
          0.0003520444679278306,
          0.0003434728149825011,
          0.00033566708398784624,
          0.00032859684546217803,
          0.00032074149661642917,
          0.00031338838476922576,
          0.00030574022614000444,
          0.00029847348763184685,
          0.000291784327703762,
          0.000284592266447228,
          0.00027827330364973285,
          0.00027186862643687886,
          0.00026585424387740286,
          0.0002600053457545528,
          0.00025365876624266315,
          0.0002477722976043978,
          0.0002427187663794708,
          0.0002371577043025986,
          0.000231942733048289,
          0.00022665369836477465,
          0.00022218084219166864,
          0.00021748289117446185,
          0.0002134993317203201,
          0.00020946655687372514,
          0.00020547741219988262,
          0.0002019811707748351,
          0.00019843337213970412,
          0.00019517410055332887,
          0.00019201319659679146,
          0.0001883193982203286,
          0.00018538497589711434
         ],
         "yaxis": "y"
        },
        {
         "hovertemplate": "source=llama3_70b<br>variable=0<br>index=%{x}<br>value=%{y}<extra></extra>",
         "legendgroup": "llama3_70b",
         "line": {
          "color": "#00cc96",
          "dash": "solid"
         },
         "marker": {
          "symbol": "circle"
         },
         "mode": "lines",
         "name": "llama3_70b",
         "orientation": "v",
         "showlegend": true,
         "type": "scatter",
         "x": [
          0,
          1,
          2,
          3,
          4,
          5,
          6,
          7,
          8,
          9,
          10,
          11,
          12,
          13,
          14,
          15,
          16,
          17,
          18,
          19,
          20,
          21,
          22,
          23,
          24,
          25,
          26,
          27,
          28,
          29,
          30,
          31,
          32,
          33,
          34,
          35,
          36,
          37,
          38,
          39,
          40,
          41,
          42,
          43,
          44,
          45,
          46,
          47,
          48,
          49,
          50,
          51,
          52,
          53,
          54,
          55,
          56,
          57,
          58,
          59,
          60,
          61,
          62,
          63,
          64,
          65,
          66,
          67,
          68,
          69,
          70,
          71,
          72,
          73,
          74,
          75,
          76,
          77,
          78,
          79,
          80,
          81,
          82,
          83,
          84,
          85,
          86,
          87,
          88,
          89,
          90,
          91,
          92,
          93,
          94,
          95,
          96,
          97,
          98,
          99
         ],
         "xaxis": "x",
         "y": [
          0.46866699150595004,
          0.15651415501764626,
          0.08317714342343951,
          0.053158181256393426,
          0.03668782823778623,
          0.02703392338830347,
          0.020766682369170078,
          0.016460453249615363,
          0.01334547171991568,
          0.01103430637316341,
          0.009316842835206566,
          0.007975874126312666,
          0.006903597942739301,
          0.006058454152730738,
          0.005357484623243528,
          0.004781409511568102,
          0.004281246661103624,
          0.0038642230825154064,
          0.0035136960685538516,
          0.0032106262858095456,
          0.002943917535196494,
          0.0027075271821040453,
          0.0025031013603868616,
          0.0023260481319970212,
          0.002165830906762912,
          0.0020168370896987845,
          0.0018933694734047867,
          0.0017771874455220383,
          0.0016680308734226287,
          0.0015707633467043555,
          0.0014808484607761899,
          0.0014007278566006336,
          0.0013243064471004167,
          0.0012581336467864664,
          0.0011956058358330815,
          0.0011402625489389724,
          0.0010868792293346826,
          0.001038691044634675,
          0.0009934633794585767,
          0.0009496621772648637,
          0.000910790383768276,
          0.0008724064929120648,
          0.000837361239354133,
          0.000805318557528504,
          0.0007726855840694774,
          0.0007426123203932183,
          0.000714833870704909,
          0.0006862249510002324,
          0.0006592705762843295,
          0.000634634829539172,
          0.0006120877723937727,
          0.000589765663387489,
          0.000569475713820965,
          0.0005507077100944144,
          0.0005333166018893574,
          0.0005156940768740112,
          0.0004996112143778866,
          0.0004844944985004761,
          0.00047012794542202304,
          0.0004576759225333486,
          0.00044430121631533915,
          0.000432725119299029,
          0.0004209146431911761,
          0.0004100677602195229,
          0.0004005218904032443,
          0.00039045381007997003,
          0.00038061221216235876,
          0.0003706518796644405,
          0.00036104960505044877,
          0.0003520444679278306,
          0.0003434728149825011,
          0.00033566708398784624,
          0.00032859684546217803,
          0.00032074149661642917,
          0.00031338838476922576,
          0.00030574022614000444,
          0.00029847348763184685,
          0.000291784327703762,
          0.000284592266447228,
          0.00027827330364973285,
          0.00027186862643687886,
          0.00026585424387740286,
          0.0002600053457545528,
          0.00025365876624266315,
          0.0002477722976043978,
          0.0002427187663794708,
          0.0002371577043025986,
          0.000231942733048289,
          0.00022665369836477465,
          0.00022218084219166864,
          0.00021748289117446185,
          0.0002134993317203201,
          0.00020946655687372514,
          0.00020547741219988262,
          0.0002019811707748351,
          0.00019843337213970412,
          0.00019517410055332887,
          0.00019201319659679146,
          0.0001883193982203286,
          0.00018538497589711434
         ],
         "yaxis": "y"
        },
        {
         "hovertemplate": "source=claude3<br>variable=0<br>index=%{x}<br>value=%{y}<extra></extra>",
         "legendgroup": "claude3",
         "line": {
          "color": "#ab63fa",
          "dash": "solid"
         },
         "marker": {
          "symbol": "circle"
         },
         "mode": "lines",
         "name": "claude3",
         "orientation": "v",
         "showlegend": true,
         "type": "scatter",
         "x": [
          0,
          1,
          2,
          3,
          4,
          5,
          6,
          7,
          8,
          9,
          10,
          11,
          12,
          13,
          14,
          15,
          16,
          17,
          18,
          19,
          20,
          21,
          22,
          23,
          24,
          25,
          26,
          27,
          28,
          29,
          30,
          31,
          32,
          33,
          34,
          35,
          36,
          37,
          38,
          39,
          40,
          41,
          42,
          43,
          44,
          45,
          46,
          47,
          48,
          49,
          50,
          51,
          52,
          53,
          54,
          55,
          56,
          57,
          58,
          59,
          60,
          61,
          62,
          63,
          64,
          65,
          66,
          67,
          68,
          69,
          70,
          71,
          72,
          73,
          74,
          75,
          76,
          77,
          78,
          79,
          80,
          81,
          82,
          83,
          84,
          85,
          86,
          87,
          88,
          89,
          90,
          91,
          92,
          93,
          94,
          95,
          96,
          97,
          98,
          99
         ],
         "xaxis": "x",
         "y": [
          0.46866699150595004,
          0.15651415501764626,
          0.08317714342343951,
          0.053158181256393426,
          0.03668782823778623,
          0.02703392338830347,
          0.020766682369170078,
          0.016460453249615363,
          0.01334547171991568,
          0.01103430637316341,
          0.009316842835206566,
          0.007975874126312666,
          0.006903597942739301,
          0.006058454152730738,
          0.005357484623243528,
          0.004781409511568102,
          0.004281246661103624,
          0.0038642230825154064,
          0.0035136960685538516,
          0.0032106262858095456,
          0.002943917535196494,
          0.0027075271821040453,
          0.0025031013603868616,
          0.0023260481319970212,
          0.002165830906762912,
          0.0020168370896987845,
          0.0018933694734047867,
          0.0017771874455220383,
          0.0016680308734226287,
          0.0015707633467043555,
          0.0014808484607761899,
          0.0014007278566006336,
          0.0013243064471004167,
          0.0012581336467864664,
          0.0011956058358330815,
          0.0011402625489389724,
          0.0010868792293346826,
          0.001038691044634675,
          0.0009934633794585767,
          0.0009496621772648637,
          0.000910790383768276,
          0.0008724064929120648,
          0.000837361239354133,
          0.000805318557528504,
          0.0007726855840694774,
          0.0007426123203932183,
          0.000714833870704909,
          0.0006862249510002324,
          0.0006592705762843295,
          0.000634634829539172,
          0.0006120877723937727,
          0.000589765663387489,
          0.000569475713820965,
          0.0005507077100944144,
          0.0005333166018893574,
          0.0005156940768740112,
          0.0004996112143778866,
          0.0004844944985004761,
          0.00047012794542202304,
          0.0004576759225333486,
          0.00044430121631533915,
          0.000432725119299029,
          0.0004209146431911761,
          0.0004100677602195229,
          0.0004005218904032443,
          0.00039045381007997003,
          0.00038061221216235876,
          0.0003706518796644405,
          0.00036104960505044877,
          0.0003520444679278306,
          0.0003434728149825011,
          0.00033566708398784624,
          0.00032859684546217803,
          0.00032074149661642917,
          0.00031338838476922576,
          0.00030574022614000444,
          0.00029847348763184685,
          0.000291784327703762,
          0.000284592266447228,
          0.00027827330364973285,
          0.00027186862643687886,
          0.00026585424387740286,
          0.0002600053457545528,
          0.00025365876624266315,
          0.0002477722976043978,
          0.0002427187663794708,
          0.0002371577043025986,
          0.000231942733048289,
          0.00022665369836477465,
          0.00022218084219166864,
          0.00021748289117446185,
          0.0002134993317203201,
          0.00020946655687372514,
          0.00020547741219988262,
          0.0002019811707748351,
          0.00019843337213970412,
          0.00019517410055332887,
          0.00019201319659679146,
          0.0001883193982203286,
          0.00018538497589711434
         ],
         "yaxis": "y"
        }
       ],
       "layout": {
        "legend": {
         "title": {
          "text": "source"
         },
         "tracegroupgap": 0
        },
        "template": {
         "data": {
          "bar": [
           {
            "error_x": {
             "color": "#2a3f5f"
            },
            "error_y": {
             "color": "#2a3f5f"
            },
            "marker": {
             "line": {
              "color": "#E5ECF6",
              "width": 0.5
             },
             "pattern": {
              "fillmode": "overlay",
              "size": 10,
              "solidity": 0.2
             }
            },
            "type": "bar"
           }
          ],
          "barpolar": [
           {
            "marker": {
             "line": {
              "color": "#E5ECF6",
              "width": 0.5
             },
             "pattern": {
              "fillmode": "overlay",
              "size": 10,
              "solidity": 0.2
             }
            },
            "type": "barpolar"
           }
          ],
          "carpet": [
           {
            "aaxis": {
             "endlinecolor": "#2a3f5f",
             "gridcolor": "white",
             "linecolor": "white",
             "minorgridcolor": "white",
             "startlinecolor": "#2a3f5f"
            },
            "baxis": {
             "endlinecolor": "#2a3f5f",
             "gridcolor": "white",
             "linecolor": "white",
             "minorgridcolor": "white",
             "startlinecolor": "#2a3f5f"
            },
            "type": "carpet"
           }
          ],
          "choropleth": [
           {
            "colorbar": {
             "outlinewidth": 0,
             "ticks": ""
            },
            "type": "choropleth"
           }
          ],
          "contour": [
           {
            "colorbar": {
             "outlinewidth": 0,
             "ticks": ""
            },
            "colorscale": [
             [
              0,
              "#0d0887"
             ],
             [
              0.1111111111111111,
              "#46039f"
             ],
             [
              0.2222222222222222,
              "#7201a8"
             ],
             [
              0.3333333333333333,
              "#9c179e"
             ],
             [
              0.4444444444444444,
              "#bd3786"
             ],
             [
              0.5555555555555556,
              "#d8576b"
             ],
             [
              0.6666666666666666,
              "#ed7953"
             ],
             [
              0.7777777777777778,
              "#fb9f3a"
             ],
             [
              0.8888888888888888,
              "#fdca26"
             ],
             [
              1,
              "#f0f921"
             ]
            ],
            "type": "contour"
           }
          ],
          "contourcarpet": [
           {
            "colorbar": {
             "outlinewidth": 0,
             "ticks": ""
            },
            "type": "contourcarpet"
           }
          ],
          "heatmap": [
           {
            "colorbar": {
             "outlinewidth": 0,
             "ticks": ""
            },
            "colorscale": [
             [
              0,
              "#0d0887"
             ],
             [
              0.1111111111111111,
              "#46039f"
             ],
             [
              0.2222222222222222,
              "#7201a8"
             ],
             [
              0.3333333333333333,
              "#9c179e"
             ],
             [
              0.4444444444444444,
              "#bd3786"
             ],
             [
              0.5555555555555556,
              "#d8576b"
             ],
             [
              0.6666666666666666,
              "#ed7953"
             ],
             [
              0.7777777777777778,
              "#fb9f3a"
             ],
             [
              0.8888888888888888,
              "#fdca26"
             ],
             [
              1,
              "#f0f921"
             ]
            ],
            "type": "heatmap"
           }
          ],
          "heatmapgl": [
           {
            "colorbar": {
             "outlinewidth": 0,
             "ticks": ""
            },
            "colorscale": [
             [
              0,
              "#0d0887"
             ],
             [
              0.1111111111111111,
              "#46039f"
             ],
             [
              0.2222222222222222,
              "#7201a8"
             ],
             [
              0.3333333333333333,
              "#9c179e"
             ],
             [
              0.4444444444444444,
              "#bd3786"
             ],
             [
              0.5555555555555556,
              "#d8576b"
             ],
             [
              0.6666666666666666,
              "#ed7953"
             ],
             [
              0.7777777777777778,
              "#fb9f3a"
             ],
             [
              0.8888888888888888,
              "#fdca26"
             ],
             [
              1,
              "#f0f921"
             ]
            ],
            "type": "heatmapgl"
           }
          ],
          "histogram": [
           {
            "marker": {
             "pattern": {
              "fillmode": "overlay",
              "size": 10,
              "solidity": 0.2
             }
            },
            "type": "histogram"
           }
          ],
          "histogram2d": [
           {
            "colorbar": {
             "outlinewidth": 0,
             "ticks": ""
            },
            "colorscale": [
             [
              0,
              "#0d0887"
             ],
             [
              0.1111111111111111,
              "#46039f"
             ],
             [
              0.2222222222222222,
              "#7201a8"
             ],
             [
              0.3333333333333333,
              "#9c179e"
             ],
             [
              0.4444444444444444,
              "#bd3786"
             ],
             [
              0.5555555555555556,
              "#d8576b"
             ],
             [
              0.6666666666666666,
              "#ed7953"
             ],
             [
              0.7777777777777778,
              "#fb9f3a"
             ],
             [
              0.8888888888888888,
              "#fdca26"
             ],
             [
              1,
              "#f0f921"
             ]
            ],
            "type": "histogram2d"
           }
          ],
          "histogram2dcontour": [
           {
            "colorbar": {
             "outlinewidth": 0,
             "ticks": ""
            },
            "colorscale": [
             [
              0,
              "#0d0887"
             ],
             [
              0.1111111111111111,
              "#46039f"
             ],
             [
              0.2222222222222222,
              "#7201a8"
             ],
             [
              0.3333333333333333,
              "#9c179e"
             ],
             [
              0.4444444444444444,
              "#bd3786"
             ],
             [
              0.5555555555555556,
              "#d8576b"
             ],
             [
              0.6666666666666666,
              "#ed7953"
             ],
             [
              0.7777777777777778,
              "#fb9f3a"
             ],
             [
              0.8888888888888888,
              "#fdca26"
             ],
             [
              1,
              "#f0f921"
             ]
            ],
            "type": "histogram2dcontour"
           }
          ],
          "mesh3d": [
           {
            "colorbar": {
             "outlinewidth": 0,
             "ticks": ""
            },
            "type": "mesh3d"
           }
          ],
          "parcoords": [
           {
            "line": {
             "colorbar": {
              "outlinewidth": 0,
              "ticks": ""
             }
            },
            "type": "parcoords"
           }
          ],
          "pie": [
           {
            "automargin": true,
            "type": "pie"
           }
          ],
          "scatter": [
           {
            "fillpattern": {
             "fillmode": "overlay",
             "size": 10,
             "solidity": 0.2
            },
            "type": "scatter"
           }
          ],
          "scatter3d": [
           {
            "line": {
             "colorbar": {
              "outlinewidth": 0,
              "ticks": ""
             }
            },
            "marker": {
             "colorbar": {
              "outlinewidth": 0,
              "ticks": ""
             }
            },
            "type": "scatter3d"
           }
          ],
          "scattercarpet": [
           {
            "marker": {
             "colorbar": {
              "outlinewidth": 0,
              "ticks": ""
             }
            },
            "type": "scattercarpet"
           }
          ],
          "scattergeo": [
           {
            "marker": {
             "colorbar": {
              "outlinewidth": 0,
              "ticks": ""
             }
            },
            "type": "scattergeo"
           }
          ],
          "scattergl": [
           {
            "marker": {
             "colorbar": {
              "outlinewidth": 0,
              "ticks": ""
             }
            },
            "type": "scattergl"
           }
          ],
          "scattermapbox": [
           {
            "marker": {
             "colorbar": {
              "outlinewidth": 0,
              "ticks": ""
             }
            },
            "type": "scattermapbox"
           }
          ],
          "scatterpolar": [
           {
            "marker": {
             "colorbar": {
              "outlinewidth": 0,
              "ticks": ""
             }
            },
            "type": "scatterpolar"
           }
          ],
          "scatterpolargl": [
           {
            "marker": {
             "colorbar": {
              "outlinewidth": 0,
              "ticks": ""
             }
            },
            "type": "scatterpolargl"
           }
          ],
          "scatterternary": [
           {
            "marker": {
             "colorbar": {
              "outlinewidth": 0,
              "ticks": ""
             }
            },
            "type": "scatterternary"
           }
          ],
          "surface": [
           {
            "colorbar": {
             "outlinewidth": 0,
             "ticks": ""
            },
            "colorscale": [
             [
              0,
              "#0d0887"
             ],
             [
              0.1111111111111111,
              "#46039f"
             ],
             [
              0.2222222222222222,
              "#7201a8"
             ],
             [
              0.3333333333333333,
              "#9c179e"
             ],
             [
              0.4444444444444444,
              "#bd3786"
             ],
             [
              0.5555555555555556,
              "#d8576b"
             ],
             [
              0.6666666666666666,
              "#ed7953"
             ],
             [
              0.7777777777777778,
              "#fb9f3a"
             ],
             [
              0.8888888888888888,
              "#fdca26"
             ],
             [
              1,
              "#f0f921"
             ]
            ],
            "type": "surface"
           }
          ],
          "table": [
           {
            "cells": {
             "fill": {
              "color": "#EBF0F8"
             },
             "line": {
              "color": "white"
             }
            },
            "header": {
             "fill": {
              "color": "#C8D4E3"
             },
             "line": {
              "color": "white"
             }
            },
            "type": "table"
           }
          ]
         },
         "layout": {
          "annotationdefaults": {
           "arrowcolor": "#2a3f5f",
           "arrowhead": 0,
           "arrowwidth": 1
          },
          "autotypenumbers": "strict",
          "coloraxis": {
           "colorbar": {
            "outlinewidth": 0,
            "ticks": ""
           }
          },
          "colorscale": {
           "diverging": [
            [
             0,
             "#8e0152"
            ],
            [
             0.1,
             "#c51b7d"
            ],
            [
             0.2,
             "#de77ae"
            ],
            [
             0.3,
             "#f1b6da"
            ],
            [
             0.4,
             "#fde0ef"
            ],
            [
             0.5,
             "#f7f7f7"
            ],
            [
             0.6,
             "#e6f5d0"
            ],
            [
             0.7,
             "#b8e186"
            ],
            [
             0.8,
             "#7fbc41"
            ],
            [
             0.9,
             "#4d9221"
            ],
            [
             1,
             "#276419"
            ]
           ],
           "sequential": [
            [
             0,
             "#0d0887"
            ],
            [
             0.1111111111111111,
             "#46039f"
            ],
            [
             0.2222222222222222,
             "#7201a8"
            ],
            [
             0.3333333333333333,
             "#9c179e"
            ],
            [
             0.4444444444444444,
             "#bd3786"
            ],
            [
             0.5555555555555556,
             "#d8576b"
            ],
            [
             0.6666666666666666,
             "#ed7953"
            ],
            [
             0.7777777777777778,
             "#fb9f3a"
            ],
            [
             0.8888888888888888,
             "#fdca26"
            ],
            [
             1,
             "#f0f921"
            ]
           ],
           "sequentialminus": [
            [
             0,
             "#0d0887"
            ],
            [
             0.1111111111111111,
             "#46039f"
            ],
            [
             0.2222222222222222,
             "#7201a8"
            ],
            [
             0.3333333333333333,
             "#9c179e"
            ],
            [
             0.4444444444444444,
             "#bd3786"
            ],
            [
             0.5555555555555556,
             "#d8576b"
            ],
            [
             0.6666666666666666,
             "#ed7953"
            ],
            [
             0.7777777777777778,
             "#fb9f3a"
            ],
            [
             0.8888888888888888,
             "#fdca26"
            ],
            [
             1,
             "#f0f921"
            ]
           ]
          },
          "colorway": [
           "#636efa",
           "#EF553B",
           "#00cc96",
           "#ab63fa",
           "#FFA15A",
           "#19d3f3",
           "#FF6692",
           "#B6E880",
           "#FF97FF",
           "#FECB52"
          ],
          "font": {
           "color": "#2a3f5f"
          },
          "geo": {
           "bgcolor": "white",
           "lakecolor": "white",
           "landcolor": "#E5ECF6",
           "showlakes": true,
           "showland": true,
           "subunitcolor": "white"
          },
          "hoverlabel": {
           "align": "left"
          },
          "hovermode": "closest",
          "mapbox": {
           "style": "light"
          },
          "paper_bgcolor": "white",
          "plot_bgcolor": "#E5ECF6",
          "polar": {
           "angularaxis": {
            "gridcolor": "white",
            "linecolor": "white",
            "ticks": ""
           },
           "bgcolor": "#E5ECF6",
           "radialaxis": {
            "gridcolor": "white",
            "linecolor": "white",
            "ticks": ""
           }
          },
          "scene": {
           "xaxis": {
            "backgroundcolor": "#E5ECF6",
            "gridcolor": "white",
            "gridwidth": 2,
            "linecolor": "white",
            "showbackground": true,
            "ticks": "",
            "zerolinecolor": "white"
           },
           "yaxis": {
            "backgroundcolor": "#E5ECF6",
            "gridcolor": "white",
            "gridwidth": 2,
            "linecolor": "white",
            "showbackground": true,
            "ticks": "",
            "zerolinecolor": "white"
           },
           "zaxis": {
            "backgroundcolor": "#E5ECF6",
            "gridcolor": "white",
            "gridwidth": 2,
            "linecolor": "white",
            "showbackground": true,
            "ticks": "",
            "zerolinecolor": "white"
           }
          },
          "shapedefaults": {
           "line": {
            "color": "#2a3f5f"
           }
          },
          "ternary": {
           "aaxis": {
            "gridcolor": "white",
            "linecolor": "white",
            "ticks": ""
           },
           "baxis": {
            "gridcolor": "white",
            "linecolor": "white",
            "ticks": ""
           },
           "bgcolor": "#E5ECF6",
           "caxis": {
            "gridcolor": "white",
            "linecolor": "white",
            "ticks": ""
           }
          },
          "title": {
           "x": 0.05
          },
          "xaxis": {
           "automargin": true,
           "gridcolor": "white",
           "linecolor": "white",
           "ticks": "",
           "title": {
            "standoff": 15
           },
           "zerolinecolor": "white",
           "zerolinewidth": 2
          },
          "yaxis": {
           "automargin": true,
           "gridcolor": "white",
           "linecolor": "white",
           "ticks": "",
           "title": {
            "standoff": 15
           },
           "zerolinecolor": "white",
           "zerolinewidth": 2
          }
         }
        },
        "title": {
         "text": "Zipf's law test"
        },
        "xaxis": {
         "anchor": "y",
         "domain": [
          0,
          1
         ],
         "title": {
          "text": "index"
         }
        },
        "yaxis": {
         "anchor": "x",
         "domain": [
          0,
          1
         ],
         "title": {
          "text": "value"
         }
        }
       }
      },
      "image/png": "[encoded data removed]",
      "text/html": [
       "<div>                            <div id=\"baa9ced2-15f4-46cf-a55a-7bacf392fa69\" class=\"plotly-graph-div\" style=\"height:525px; width:100%;\"></div>            <script type=\"text/javascript\">                require([\"plotly\"], function(Plotly) {                    window.PLOTLYENV=window.PLOTLYENV || {};                                    if (document.getElementById(\"baa9ced2-15f4-46cf-a55a-7bacf392fa69\")) {                    Plotly.newPlot(                        \"baa9ced2-15f4-46cf-a55a-7bacf392fa69\",                        [{\"hovertemplate\":\"source=human\\u003cbr\\u003evariable=0\\u003cbr\\u003eindex=%{x}\\u003cbr\\u003evalue=%{y}\\u003cextra\\u003e\\u003c\\u002fextra\\u003e\",\"legendgroup\":\"human\",\"line\":{\"color\":\"#636efa\",\"dash\":\"solid\"},\"marker\":{\"symbol\":\"circle\"},\"mode\":\"lines\",\"name\":\"human\",\"orientation\":\"v\",\"showlegend\":true,\"x\":[0,1,2,3,4,5,6,7,8,9,10,11,12,13,14,15,16,17,18,19,20,21,22,23,24,25,26,27,28,29,30,31,32,33,34,35,36,37,38,39,40,41,42,43,44,45,46,47,48,49,50,51,52,53,54,55,56,57,58,59,60,61,62,63,64,65,66,67,68,69,70,71,72,73,74,75,76,77,78,79,80,81,82,83,84,85,86,87,88,89,90,91,92,93,94,95,96,97,98,99],\"xaxis\":\"x\",\"y\":[0.46866699150595004,0.15651415501764626,0.08317714342343951,0.053158181256393426,0.03668782823778623,0.02703392338830347,0.020766682369170078,0.016460453249615363,0.01334547171991568,0.01103430637316341,0.009316842835206566,0.007975874126312666,0.006903597942739301,0.006058454152730738,0.005357484623243528,0.004781409511568102,0.004281246661103624,0.0038642230825154064,0.0035136960685538516,0.0032106262858095456,0.002943917535196494,0.0027075271821040453,0.0025031013603868616,0.0023260481319970212,0.002165830906762912,0.0020168370896987845,0.0018933694734047867,0.0017771874455220383,0.0016680308734226287,0.0015707633467043555,0.0014808484607761899,0.0014007278566006336,0.0013243064471004167,0.0012581336467864664,0.0011956058358330815,0.0011402625489389724,0.0010868792293346826,0.001038691044634675,0.0009934633794585767,0.0009496621772648637,0.000910790383768276,0.0008724064929120648,0.000837361239354133,0.000805318557528504,0.0007726855840694774,0.0007426123203932183,0.000714833870704909,0.0006862249510002324,0.0006592705762843295,0.000634634829539172,0.0006120877723937727,0.000589765663387489,0.000569475713820965,0.0005507077100944144,0.0005333166018893574,0.0005156940768740112,0.0004996112143778866,0.0004844944985004761,0.00047012794542202304,0.0004576759225333486,0.00044430121631533915,0.000432725119299029,0.0004209146431911761,0.0004100677602195229,0.0004005218904032443,0.00039045381007997003,0.00038061221216235876,0.0003706518796644405,0.00036104960505044877,0.0003520444679278306,0.0003434728149825011,0.00033566708398784624,0.00032859684546217803,0.00032074149661642917,0.00031338838476922576,0.00030574022614000444,0.00029847348763184685,0.000291784327703762,0.000284592266447228,0.00027827330364973285,0.00027186862643687886,0.00026585424387740286,0.0002600053457545528,0.00025365876624266315,0.0002477722976043978,0.0002427187663794708,0.0002371577043025986,0.000231942733048289,0.00022665369836477465,0.00022218084219166864,0.00021748289117446185,0.0002134993317203201,0.00020946655687372514,0.00020547741219988262,0.0002019811707748351,0.00019843337213970412,0.00019517410055332887,0.00019201319659679146,0.0001883193982203286,0.00018538497589711434],\"yaxis\":\"y\",\"type\":\"scatter\"},{\"hovertemplate\":\"source=gpt4o\\u003cbr\\u003evariable=0\\u003cbr\\u003eindex=%{x}\\u003cbr\\u003evalue=%{y}\\u003cextra\\u003e\\u003c\\u002fextra\\u003e\",\"legendgroup\":\"gpt4o\",\"line\":{\"color\":\"#EF553B\",\"dash\":\"solid\"},\"marker\":{\"symbol\":\"circle\"},\"mode\":\"lines\",\"name\":\"gpt4o\",\"orientation\":\"v\",\"showlegend\":true,\"x\":[0,1,2,3,4,5,6,7,8,9,10,11,12,13,14,15,16,17,18,19,20,21,22,23,24,25,26,27,28,29,30,31,32,33,34,35,36,37,38,39,40,41,42,43,44,45,46,47,48,49,50,51,52,53,54,55,56,57,58,59,60,61,62,63,64,65,66,67,68,69,70,71,72,73,74,75,76,77,78,79,80,81,82,83,84,85,86,87,88,89,90,91,92,93,94,95,96,97,98,99],\"xaxis\":\"x\",\"y\":[0.46866699150595004,0.15651415501764626,0.08317714342343951,0.053158181256393426,0.03668782823778623,0.02703392338830347,0.020766682369170078,0.016460453249615363,0.01334547171991568,0.01103430637316341,0.009316842835206566,0.007975874126312666,0.006903597942739301,0.006058454152730738,0.005357484623243528,0.004781409511568102,0.004281246661103624,0.0038642230825154064,0.0035136960685538516,0.0032106262858095456,0.002943917535196494,0.0027075271821040453,0.0025031013603868616,0.0023260481319970212,0.002165830906762912,0.0020168370896987845,0.0018933694734047867,0.0017771874455220383,0.0016680308734226287,0.0015707633467043555,0.0014808484607761899,0.0014007278566006336,0.0013243064471004167,0.0012581336467864664,0.0011956058358330815,0.0011402625489389724,0.0010868792293346826,0.001038691044634675,0.0009934633794585767,0.0009496621772648637,0.000910790383768276,0.0008724064929120648,0.000837361239354133,0.000805318557528504,0.0007726855840694774,0.0007426123203932183,0.000714833870704909,0.0006862249510002324,0.0006592705762843295,0.000634634829539172,0.0006120877723937727,0.000589765663387489,0.000569475713820965,0.0005507077100944144,0.0005333166018893574,0.0005156940768740112,0.0004996112143778866,0.0004844944985004761,0.00047012794542202304,0.0004576759225333486,0.00044430121631533915,0.000432725119299029,0.0004209146431911761,0.0004100677602195229,0.0004005218904032443,0.00039045381007997003,0.00038061221216235876,0.0003706518796644405,0.00036104960505044877,0.0003520444679278306,0.0003434728149825011,0.00033566708398784624,0.00032859684546217803,0.00032074149661642917,0.00031338838476922576,0.00030574022614000444,0.00029847348763184685,0.000291784327703762,0.000284592266447228,0.00027827330364973285,0.00027186862643687886,0.00026585424387740286,0.0002600053457545528,0.00025365876624266315,0.0002477722976043978,0.0002427187663794708,0.0002371577043025986,0.000231942733048289,0.00022665369836477465,0.00022218084219166864,0.00021748289117446185,0.0002134993317203201,0.00020946655687372514,0.00020547741219988262,0.0002019811707748351,0.00019843337213970412,0.00019517410055332887,0.00019201319659679146,0.0001883193982203286,0.00018538497589711434],\"yaxis\":\"y\",\"type\":\"scatter\"},{\"hovertemplate\":\"source=llama3_70b\\u003cbr\\u003evariable=0\\u003cbr\\u003eindex=%{x}\\u003cbr\\u003evalue=%{y}\\u003cextra\\u003e\\u003c\\u002fextra\\u003e\",\"legendgroup\":\"llama3_70b\",\"line\":{\"color\":\"#00cc96\",\"dash\":\"solid\"},\"marker\":{\"symbol\":\"circle\"},\"mode\":\"lines\",\"name\":\"llama3_70b\",\"orientation\":\"v\",\"showlegend\":true,\"x\":[0,1,2,3,4,5,6,7,8,9,10,11,12,13,14,15,16,17,18,19,20,21,22,23,24,25,26,27,28,29,30,31,32,33,34,35,36,37,38,39,40,41,42,43,44,45,46,47,48,49,50,51,52,53,54,55,56,57,58,59,60,61,62,63,64,65,66,67,68,69,70,71,72,73,74,75,76,77,78,79,80,81,82,83,84,85,86,87,88,89,90,91,92,93,94,95,96,97,98,99],\"xaxis\":\"x\",\"y\":[0.46866699150595004,0.15651415501764626,0.08317714342343951,0.053158181256393426,0.03668782823778623,0.02703392338830347,0.020766682369170078,0.016460453249615363,0.01334547171991568,0.01103430637316341,0.009316842835206566,0.007975874126312666,0.006903597942739301,0.006058454152730738,0.005357484623243528,0.004781409511568102,0.004281246661103624,0.0038642230825154064,0.0035136960685538516,0.0032106262858095456,0.002943917535196494,0.0027075271821040453,0.0025031013603868616,0.0023260481319970212,0.002165830906762912,0.0020168370896987845,0.0018933694734047867,0.0017771874455220383,0.0016680308734226287,0.0015707633467043555,0.0014808484607761899,0.0014007278566006336,0.0013243064471004167,0.0012581336467864664,0.0011956058358330815,0.0011402625489389724,0.0010868792293346826,0.001038691044634675,0.0009934633794585767,0.0009496621772648637,0.000910790383768276,0.0008724064929120648,0.000837361239354133,0.000805318557528504,0.0007726855840694774,0.0007426123203932183,0.000714833870704909,0.0006862249510002324,0.0006592705762843295,0.000634634829539172,0.0006120877723937727,0.000589765663387489,0.000569475713820965,0.0005507077100944144,0.0005333166018893574,0.0005156940768740112,0.0004996112143778866,0.0004844944985004761,0.00047012794542202304,0.0004576759225333486,0.00044430121631533915,0.000432725119299029,0.0004209146431911761,0.0004100677602195229,0.0004005218904032443,0.00039045381007997003,0.00038061221216235876,0.0003706518796644405,0.00036104960505044877,0.0003520444679278306,0.0003434728149825011,0.00033566708398784624,0.00032859684546217803,0.00032074149661642917,0.00031338838476922576,0.00030574022614000444,0.00029847348763184685,0.000291784327703762,0.000284592266447228,0.00027827330364973285,0.00027186862643687886,0.00026585424387740286,0.0002600053457545528,0.00025365876624266315,0.0002477722976043978,0.0002427187663794708,0.0002371577043025986,0.000231942733048289,0.00022665369836477465,0.00022218084219166864,0.00021748289117446185,0.0002134993317203201,0.00020946655687372514,0.00020547741219988262,0.0002019811707748351,0.00019843337213970412,0.00019517410055332887,0.00019201319659679146,0.0001883193982203286,0.00018538497589711434],\"yaxis\":\"y\",\"type\":\"scatter\"},{\"hovertemplate\":\"source=claude3\\u003cbr\\u003evariable=0\\u003cbr\\u003eindex=%{x}\\u003cbr\\u003evalue=%{y}\\u003cextra\\u003e\\u003c\\u002fextra\\u003e\",\"legendgroup\":\"claude3\",\"line\":{\"color\":\"#ab63fa\",\"dash\":\"solid\"},\"marker\":{\"symbol\":\"circle\"},\"mode\":\"lines\",\"name\":\"claude3\",\"orientation\":\"v\",\"showlegend\":true,\"x\":[0,1,2,3,4,5,6,7,8,9,10,11,12,13,14,15,16,17,18,19,20,21,22,23,24,25,26,27,28,29,30,31,32,33,34,35,36,37,38,39,40,41,42,43,44,45,46,47,48,49,50,51,52,53,54,55,56,57,58,59,60,61,62,63,64,65,66,67,68,69,70,71,72,73,74,75,76,77,78,79,80,81,82,83,84,85,86,87,88,89,90,91,92,93,94,95,96,97,98,99],\"xaxis\":\"x\",\"y\":[0.46866699150595004,0.15651415501764626,0.08317714342343951,0.053158181256393426,0.03668782823778623,0.02703392338830347,0.020766682369170078,0.016460453249615363,0.01334547171991568,0.01103430637316341,0.009316842835206566,0.007975874126312666,0.006903597942739301,0.006058454152730738,0.005357484623243528,0.004781409511568102,0.004281246661103624,0.0038642230825154064,0.0035136960685538516,0.0032106262858095456,0.002943917535196494,0.0027075271821040453,0.0025031013603868616,0.0023260481319970212,0.002165830906762912,0.0020168370896987845,0.0018933694734047867,0.0017771874455220383,0.0016680308734226287,0.0015707633467043555,0.0014808484607761899,0.0014007278566006336,0.0013243064471004167,0.0012581336467864664,0.0011956058358330815,0.0011402625489389724,0.0010868792293346826,0.001038691044634675,0.0009934633794585767,0.0009496621772648637,0.000910790383768276,0.0008724064929120648,0.000837361239354133,0.000805318557528504,0.0007726855840694774,0.0007426123203932183,0.000714833870704909,0.0006862249510002324,0.0006592705762843295,0.000634634829539172,0.0006120877723937727,0.000589765663387489,0.000569475713820965,0.0005507077100944144,0.0005333166018893574,0.0005156940768740112,0.0004996112143778866,0.0004844944985004761,0.00047012794542202304,0.0004576759225333486,0.00044430121631533915,0.000432725119299029,0.0004209146431911761,0.0004100677602195229,0.0004005218904032443,0.00039045381007997003,0.00038061221216235876,0.0003706518796644405,0.00036104960505044877,0.0003520444679278306,0.0003434728149825011,0.00033566708398784624,0.00032859684546217803,0.00032074149661642917,0.00031338838476922576,0.00030574022614000444,0.00029847348763184685,0.000291784327703762,0.000284592266447228,0.00027827330364973285,0.00027186862643687886,0.00026585424387740286,0.0002600053457545528,0.00025365876624266315,0.0002477722976043978,0.0002427187663794708,0.0002371577043025986,0.000231942733048289,0.00022665369836477465,0.00022218084219166864,0.00021748289117446185,0.0002134993317203201,0.00020946655687372514,0.00020547741219988262,0.0002019811707748351,0.00019843337213970412,0.00019517410055332887,0.00019201319659679146,0.0001883193982203286,0.00018538497589711434],\"yaxis\":\"y\",\"type\":\"scatter\"}],                        {\"template\":{\"data\":{\"histogram2dcontour\":[{\"type\":\"histogram2dcontour\",\"colorbar\":{\"outlinewidth\":0,\"ticks\":\"\"},\"colorscale\":[[0.0,\"#0d0887\"],[0.1111111111111111,\"#46039f\"],[0.2222222222222222,\"#7201a8\"],[0.3333333333333333,\"#9c179e\"],[0.4444444444444444,\"#bd3786\"],[0.5555555555555556,\"#d8576b\"],[0.6666666666666666,\"#ed7953\"],[0.7777777777777778,\"#fb9f3a\"],[0.8888888888888888,\"#fdca26\"],[1.0,\"#f0f921\"]]}],\"choropleth\":[{\"type\":\"choropleth\",\"colorbar\":{\"outlinewidth\":0,\"ticks\":\"\"}}],\"histogram2d\":[{\"type\":\"histogram2d\",\"colorbar\":{\"outlinewidth\":0,\"ticks\":\"\"},\"colorscale\":[[0.0,\"#0d0887\"],[0.1111111111111111,\"#46039f\"],[0.2222222222222222,\"#7201a8\"],[0.3333333333333333,\"#9c179e\"],[0.4444444444444444,\"#bd3786\"],[0.5555555555555556,\"#d8576b\"],[0.6666666666666666,\"#ed7953\"],[0.7777777777777778,\"#fb9f3a\"],[0.8888888888888888,\"#fdca26\"],[1.0,\"#f0f921\"]]}],\"heatmap\":[{\"type\":\"heatmap\",\"colorbar\":{\"outlinewidth\":0,\"ticks\":\"\"},\"colorscale\":[[0.0,\"#0d0887\"],[0.1111111111111111,\"#46039f\"],[0.2222222222222222,\"#7201a8\"],[0.3333333333333333,\"#9c179e\"],[0.4444444444444444,\"#bd3786\"],[0.5555555555555556,\"#d8576b\"],[0.6666666666666666,\"#ed7953\"],[0.7777777777777778,\"#fb9f3a\"],[0.8888888888888888,\"#fdca26\"],[1.0,\"#f0f921\"]]}],\"heatmapgl\":[{\"type\":\"heatmapgl\",\"colorbar\":{\"outlinewidth\":0,\"ticks\":\"\"},\"colorscale\":[[0.0,\"#0d0887\"],[0.1111111111111111,\"#46039f\"],[0.2222222222222222,\"#7201a8\"],[0.3333333333333333,\"#9c179e\"],[0.4444444444444444,\"#bd3786\"],[0.5555555555555556,\"#d8576b\"],[0.6666666666666666,\"#ed7953\"],[0.7777777777777778,\"#fb9f3a\"],[0.8888888888888888,\"#fdca26\"],[1.0,\"#f0f921\"]]}],\"contourcarpet\":[{\"type\":\"contourcarpet\",\"colorbar\":{\"outlinewidth\":0,\"ticks\":\"\"}}],\"contour\":[{\"type\":\"contour\",\"colorbar\":{\"outlinewidth\":0,\"ticks\":\"\"},\"colorscale\":[[0.0,\"#0d0887\"],[0.1111111111111111,\"#46039f\"],[0.2222222222222222,\"#7201a8\"],[0.3333333333333333,\"#9c179e\"],[0.4444444444444444,\"#bd3786\"],[0.5555555555555556,\"#d8576b\"],[0.6666666666666666,\"#ed7953\"],[0.7777777777777778,\"#fb9f3a\"],[0.8888888888888888,\"#fdca26\"],[1.0,\"#f0f921\"]]}],\"surface\":[{\"type\":\"surface\",\"colorbar\":{\"outlinewidth\":0,\"ticks\":\"\"},\"colorscale\":[[0.0,\"#0d0887\"],[0.1111111111111111,\"#46039f\"],[0.2222222222222222,\"#7201a8\"],[0.3333333333333333,\"#9c179e\"],[0.4444444444444444,\"#bd3786\"],[0.5555555555555556,\"#d8576b\"],[0.6666666666666666,\"#ed7953\"],[0.7777777777777778,\"#fb9f3a\"],[0.8888888888888888,\"#fdca26\"],[1.0,\"#f0f921\"]]}],\"mesh3d\":[{\"type\":\"mesh3d\",\"colorbar\":{\"outlinewidth\":0,\"ticks\":\"\"}}],\"scatter\":[{\"fillpattern\":{\"fillmode\":\"overlay\",\"size\":10,\"solidity\":0.2},\"type\":\"scatter\"}],\"parcoords\":[{\"type\":\"parcoords\",\"line\":{\"colorbar\":{\"outlinewidth\":0,\"ticks\":\"\"}}}],\"scatterpolargl\":[{\"type\":\"scatterpolargl\",\"marker\":{\"colorbar\":{\"outlinewidth\":0,\"ticks\":\"\"}}}],\"bar\":[{\"error_x\":{\"color\":\"#2a3f5f\"},\"error_y\":{\"color\":\"#2a3f5f\"},\"marker\":{\"line\":{\"color\":\"#E5ECF6\",\"width\":0.5},\"pattern\":{\"fillmode\":\"overlay\",\"size\":10,\"solidity\":0.2}},\"type\":\"bar\"}],\"scattergeo\":[{\"type\":\"scattergeo\",\"marker\":{\"colorbar\":{\"outlinewidth\":0,\"ticks\":\"\"}}}],\"scatterpolar\":[{\"type\":\"scatterpolar\",\"marker\":{\"colorbar\":{\"outlinewidth\":0,\"ticks\":\"\"}}}],\"histogram\":[{\"marker\":{\"pattern\":{\"fillmode\":\"overlay\",\"size\":10,\"solidity\":0.2}},\"type\":\"histogram\"}],\"scattergl\":[{\"type\":\"scattergl\",\"marker\":{\"colorbar\":{\"outlinewidth\":0,\"ticks\":\"\"}}}],\"scatter3d\":[{\"type\":\"scatter3d\",\"line\":{\"colorbar\":{\"outlinewidth\":0,\"ticks\":\"\"}},\"marker\":{\"colorbar\":{\"outlinewidth\":0,\"ticks\":\"\"}}}],\"scattermapbox\":[{\"type\":\"scattermapbox\",\"marker\":{\"colorbar\":{\"outlinewidth\":0,\"ticks\":\"\"}}}],\"scatterternary\":[{\"type\":\"scatterternary\",\"marker\":{\"colorbar\":{\"outlinewidth\":0,\"ticks\":\"\"}}}],\"scattercarpet\":[{\"type\":\"scattercarpet\",\"marker\":{\"colorbar\":{\"outlinewidth\":0,\"ticks\":\"\"}}}],\"carpet\":[{\"aaxis\":{\"endlinecolor\":\"#2a3f5f\",\"gridcolor\":\"white\",\"linecolor\":\"white\",\"minorgridcolor\":\"white\",\"startlinecolor\":\"#2a3f5f\"},\"baxis\":{\"endlinecolor\":\"#2a3f5f\",\"gridcolor\":\"white\",\"linecolor\":\"white\",\"minorgridcolor\":\"white\",\"startlinecolor\":\"#2a3f5f\"},\"type\":\"carpet\"}],\"table\":[{\"cells\":{\"fill\":{\"color\":\"#EBF0F8\"},\"line\":{\"color\":\"white\"}},\"header\":{\"fill\":{\"color\":\"#C8D4E3\"},\"line\":{\"color\":\"white\"}},\"type\":\"table\"}],\"barpolar\":[{\"marker\":{\"line\":{\"color\":\"#E5ECF6\",\"width\":0.5},\"pattern\":{\"fillmode\":\"overlay\",\"size\":10,\"solidity\":0.2}},\"type\":\"barpolar\"}],\"pie\":[{\"automargin\":true,\"type\":\"pie\"}]},\"layout\":{\"autotypenumbers\":\"strict\",\"colorway\":[\"#636efa\",\"#EF553B\",\"#00cc96\",\"#ab63fa\",\"#FFA15A\",\"#19d3f3\",\"#FF6692\",\"#B6E880\",\"#FF97FF\",\"#FECB52\"],\"font\":{\"color\":\"#2a3f5f\"},\"hovermode\":\"closest\",\"hoverlabel\":{\"align\":\"left\"},\"paper_bgcolor\":\"white\",\"plot_bgcolor\":\"#E5ECF6\",\"polar\":{\"bgcolor\":\"#E5ECF6\",\"angularaxis\":{\"gridcolor\":\"white\",\"linecolor\":\"white\",\"ticks\":\"\"},\"radialaxis\":{\"gridcolor\":\"white\",\"linecolor\":\"white\",\"ticks\":\"\"}},\"ternary\":{\"bgcolor\":\"#E5ECF6\",\"aaxis\":{\"gridcolor\":\"white\",\"linecolor\":\"white\",\"ticks\":\"\"},\"baxis\":{\"gridcolor\":\"white\",\"linecolor\":\"white\",\"ticks\":\"\"},\"caxis\":{\"gridcolor\":\"white\",\"linecolor\":\"white\",\"ticks\":\"\"}},\"coloraxis\":{\"colorbar\":{\"outlinewidth\":0,\"ticks\":\"\"}},\"colorscale\":{\"sequential\":[[0.0,\"#0d0887\"],[0.1111111111111111,\"#46039f\"],[0.2222222222222222,\"#7201a8\"],[0.3333333333333333,\"#9c179e\"],[0.4444444444444444,\"#bd3786\"],[0.5555555555555556,\"#d8576b\"],[0.6666666666666666,\"#ed7953\"],[0.7777777777777778,\"#fb9f3a\"],[0.8888888888888888,\"#fdca26\"],[1.0,\"#f0f921\"]],\"sequentialminus\":[[0.0,\"#0d0887\"],[0.1111111111111111,\"#46039f\"],[0.2222222222222222,\"#7201a8\"],[0.3333333333333333,\"#9c179e\"],[0.4444444444444444,\"#bd3786\"],[0.5555555555555556,\"#d8576b\"],[0.6666666666666666,\"#ed7953\"],[0.7777777777777778,\"#fb9f3a\"],[0.8888888888888888,\"#fdca26\"],[1.0,\"#f0f921\"]],\"diverging\":[[0,\"#8e0152\"],[0.1,\"#c51b7d\"],[0.2,\"#de77ae\"],[0.3,\"#f1b6da\"],[0.4,\"#fde0ef\"],[0.5,\"#f7f7f7\"],[0.6,\"#e6f5d0\"],[0.7,\"#b8e186\"],[0.8,\"#7fbc41\"],[0.9,\"#4d9221\"],[1,\"#276419\"]]},\"xaxis\":{\"gridcolor\":\"white\",\"linecolor\":\"white\",\"ticks\":\"\",\"title\":{\"standoff\":15},\"zerolinecolor\":\"white\",\"automargin\":true,\"zerolinewidth\":2},\"yaxis\":{\"gridcolor\":\"white\",\"linecolor\":\"white\",\"ticks\":\"\",\"title\":{\"standoff\":15},\"zerolinecolor\":\"white\",\"automargin\":true,\"zerolinewidth\":2},\"scene\":{\"xaxis\":{\"backgroundcolor\":\"#E5ECF6\",\"gridcolor\":\"white\",\"linecolor\":\"white\",\"showbackground\":true,\"ticks\":\"\",\"zerolinecolor\":\"white\",\"gridwidth\":2},\"yaxis\":{\"backgroundcolor\":\"#E5ECF6\",\"gridcolor\":\"white\",\"linecolor\":\"white\",\"showbackground\":true,\"ticks\":\"\",\"zerolinecolor\":\"white\",\"gridwidth\":2},\"zaxis\":{\"backgroundcolor\":\"#E5ECF6\",\"gridcolor\":\"white\",\"linecolor\":\"white\",\"showbackground\":true,\"ticks\":\"\",\"zerolinecolor\":\"white\",\"gridwidth\":2}},\"shapedefaults\":{\"line\":{\"color\":\"#2a3f5f\"}},\"annotationdefaults\":{\"arrowcolor\":\"#2a3f5f\",\"arrowhead\":0,\"arrowwidth\":1},\"geo\":{\"bgcolor\":\"white\",\"landcolor\":\"#E5ECF6\",\"subunitcolor\":\"white\",\"showland\":true,\"showlakes\":true,\"lakecolor\":\"white\"},\"title\":{\"x\":0.05},\"mapbox\":{\"style\":\"light\"}}},\"xaxis\":{\"anchor\":\"y\",\"domain\":[0.0,1.0],\"title\":{\"text\":\"index\"}},\"yaxis\":{\"anchor\":\"x\",\"domain\":[0.0,1.0],\"title\":{\"text\":\"value\"}},\"legend\":{\"title\":{\"text\":\"source\"},\"tracegroupgap\":0},\"title\":{\"text\":\"Zipf's law test\"}},                        {\"responsive\": true}                    ).then(function(){\n",
       "                            \n",
       "var gd = document.getElementById('baa9ced2-15f4-46cf-a55a-7bacf392fa69');\n",
       "var x = new MutationObserver(function (mutations, observer) {{\n",
       "        var display = window.getComputedStyle(gd).display;\n",
       "        if (!display || display === 'none') {{\n",
       "            console.log([gd, 'removed!']);\n",
       "            Plotly.purge(gd);\n",
       "            observer.disconnect();\n",
       "        }}\n",
       "}});\n",
       "\n",
       "// Listen for the removal of the full notebook cells\n",
       "var notebookContainer = gd.closest('#notebook-container');\n",
       "if (notebookContainer) {{\n",
       "    x.observe(notebookContainer, {childList: true});\n",
       "}}\n",
       "\n",
       "// Listen for the clearing of the current output cell\n",
       "var outputEl = gd.closest('.output');\n",
       "if (outputEl) {{\n",
       "    x.observe(outputEl, {childList: true});\n",
       "}}\n",
       "\n",
       "                        })                };                });            </script>        </div>"
      ]
     },
     "metadata": {},
     "output_type": "display_data"
    }
   ],
   "source": [
    "fig = px.line(all_distr, title=\"Zipf's law test\", color = 'source')\n",
    "fig.show()"
   ]
  },
  {
   "cell_type": "code",
   "execution_count": 70,
   "id": "338db7ba-6429-4d4b-88cf-1eecc1a9fe7c",
   "metadata": {},
   "outputs": [
    {
     "data": {
      "application/vnd.plotly.v1+json": {
       "config": {
        "plotlyServerURL": "https://plot.ly"
       },
       "data": [
        {
         "hovertemplate": "source=human<br>variable=0<br>index=%{x}<br>value=%{y}<extra></extra>",
         "legendgroup": "human",
         "line": {
          "color": "#636efa",
          "dash": "solid"
         },
         "marker": {
          "symbol": "circle"
         },
         "mode": "lines",
         "name": "human",
         "orientation": "v",
         "showlegend": true,
         "type": "scatter",
         "x": [
          0,
          1,
          2,
          3,
          4,
          5,
          6,
          7,
          8,
          9,
          10,
          11,
          12,
          13,
          14,
          15,
          16,
          17,
          18,
          19,
          20,
          21,
          22,
          23,
          24,
          25,
          26,
          27,
          28,
          29,
          30,
          31,
          32,
          33,
          34,
          35,
          36,
          37,
          38,
          39,
          40,
          41,
          42,
          43,
          44,
          45,
          46,
          47,
          48,
          49,
          50,
          51,
          52,
          53,
          54,
          55,
          56,
          57,
          58,
          59,
          60,
          61,
          62,
          63,
          64,
          65,
          66,
          67,
          68,
          69,
          70,
          71,
          72,
          73,
          74,
          75,
          76,
          77,
          78,
          79,
          80,
          81,
          82,
          83,
          84,
          85,
          86,
          87,
          88,
          89,
          90,
          91,
          92,
          93,
          94,
          95,
          96,
          97,
          98,
          99
         ],
         "xaxis": "x",
         "y": [
          0.46866699150595004,
          0.15651415501764626,
          0.08317714342343951,
          0.053158181256393426,
          0.03668782823778623,
          0.02703392338830347,
          0.020766682369170078,
          0.016460453249615363,
          0.01334547171991568,
          0.01103430637316341,
          0.009316842835206566,
          0.007975874126312666,
          0.006903597942739301,
          0.006058454152730738,
          0.005357484623243528,
          0.004781409511568102,
          0.004281246661103624,
          0.0038642230825154064,
          0.0035136960685538516,
          0.0032106262858095456,
          0.002943917535196494,
          0.0027075271821040453,
          0.0025031013603868616,
          0.0023260481319970212,
          0.002165830906762912,
          0.0020168370896987845,
          0.0018933694734047867,
          0.0017771874455220383,
          0.0016680308734226287,
          0.0015707633467043555,
          0.0014808484607761899,
          0.0014007278566006336,
          0.0013243064471004167,
          0.0012581336467864664,
          0.0011956058358330815,
          0.0011402625489389724,
          0.0010868792293346826,
          0.001038691044634675,
          0.0009934633794585767,
          0.0009496621772648637,
          0.000910790383768276,
          0.0008724064929120648,
          0.000837361239354133,
          0.000805318557528504,
          0.0007726855840694774,
          0.0007426123203932183,
          0.000714833870704909,
          0.0006862249510002324,
          0.0006592705762843295,
          0.000634634829539172,
          0.0006120877723937727,
          0.000589765663387489,
          0.000569475713820965,
          0.0005507077100944144,
          0.0005333166018893574,
          0.0005156940768740112,
          0.0004996112143778866,
          0.0004844944985004761,
          0.00047012794542202304,
          0.0004576759225333486,
          0.00044430121631533915,
          0.000432725119299029,
          0.0004209146431911761,
          0.0004100677602195229,
          0.0004005218904032443,
          0.00039045381007997003,
          0.00038061221216235876,
          0.0003706518796644405,
          0.00036104960505044877,
          0.0003520444679278306,
          0.0003434728149825011,
          0.00033566708398784624,
          0.00032859684546217803,
          0.00032074149661642917,
          0.00031338838476922576,
          0.00030574022614000444,
          0.00029847348763184685,
          0.000291784327703762,
          0.000284592266447228,
          0.00027827330364973285,
          0.00027186862643687886,
          0.00026585424387740286,
          0.0002600053457545528,
          0.00025365876624266315,
          0.0002477722976043978,
          0.0002427187663794708,
          0.0002371577043025986,
          0.000231942733048289,
          0.00022665369836477465,
          0.00022218084219166864,
          0.00021748289117446185,
          0.0002134993317203201,
          0.00020946655687372514,
          0.00020547741219988262,
          0.0002019811707748351,
          0.00019843337213970412,
          0.00019517410055332887,
          0.00019201319659679146,
          0.0001883193982203286,
          0.00018538497589711434
         ],
         "yaxis": "y"
        }
       ],
       "layout": {
        "legend": {
         "title": {
          "text": "source"
         },
         "tracegroupgap": 0
        },
        "template": {
         "data": {
          "bar": [
           {
            "error_x": {
             "color": "#2a3f5f"
            },
            "error_y": {
             "color": "#2a3f5f"
            },
            "marker": {
             "line": {
              "color": "#E5ECF6",
              "width": 0.5
             },
             "pattern": {
              "fillmode": "overlay",
              "size": 10,
              "solidity": 0.2
             }
            },
            "type": "bar"
           }
          ],
          "barpolar": [
           {
            "marker": {
             "line": {
              "color": "#E5ECF6",
              "width": 0.5
             },
             "pattern": {
              "fillmode": "overlay",
              "size": 10,
              "solidity": 0.2
             }
            },
            "type": "barpolar"
           }
          ],
          "carpet": [
           {
            "aaxis": {
             "endlinecolor": "#2a3f5f",
             "gridcolor": "white",
             "linecolor": "white",
             "minorgridcolor": "white",
             "startlinecolor": "#2a3f5f"
            },
            "baxis": {
             "endlinecolor": "#2a3f5f",
             "gridcolor": "white",
             "linecolor": "white",
             "minorgridcolor": "white",
             "startlinecolor": "#2a3f5f"
            },
            "type": "carpet"
           }
          ],
          "choropleth": [
           {
            "colorbar": {
             "outlinewidth": 0,
             "ticks": ""
            },
            "type": "choropleth"
           }
          ],
          "contour": [
           {
            "colorbar": {
             "outlinewidth": 0,
             "ticks": ""
            },
            "colorscale": [
             [
              0,
              "#0d0887"
             ],
             [
              0.1111111111111111,
              "#46039f"
             ],
             [
              0.2222222222222222,
              "#7201a8"
             ],
             [
              0.3333333333333333,
              "#9c179e"
             ],
             [
              0.4444444444444444,
              "#bd3786"
             ],
             [
              0.5555555555555556,
              "#d8576b"
             ],
             [
              0.6666666666666666,
              "#ed7953"
             ],
             [
              0.7777777777777778,
              "#fb9f3a"
             ],
             [
              0.8888888888888888,
              "#fdca26"
             ],
             [
              1,
              "#f0f921"
             ]
            ],
            "type": "contour"
           }
          ],
          "contourcarpet": [
           {
            "colorbar": {
             "outlinewidth": 0,
             "ticks": ""
            },
            "type": "contourcarpet"
           }
          ],
          "heatmap": [
           {
            "colorbar": {
             "outlinewidth": 0,
             "ticks": ""
            },
            "colorscale": [
             [
              0,
              "#0d0887"
             ],
             [
              0.1111111111111111,
              "#46039f"
             ],
             [
              0.2222222222222222,
              "#7201a8"
             ],
             [
              0.3333333333333333,
              "#9c179e"
             ],
             [
              0.4444444444444444,
              "#bd3786"
             ],
             [
              0.5555555555555556,
              "#d8576b"
             ],
             [
              0.6666666666666666,
              "#ed7953"
             ],
             [
              0.7777777777777778,
              "#fb9f3a"
             ],
             [
              0.8888888888888888,
              "#fdca26"
             ],
             [
              1,
              "#f0f921"
             ]
            ],
            "type": "heatmap"
           }
          ],
          "heatmapgl": [
           {
            "colorbar": {
             "outlinewidth": 0,
             "ticks": ""
            },
            "colorscale": [
             [
              0,
              "#0d0887"
             ],
             [
              0.1111111111111111,
              "#46039f"
             ],
             [
              0.2222222222222222,
              "#7201a8"
             ],
             [
              0.3333333333333333,
              "#9c179e"
             ],
             [
              0.4444444444444444,
              "#bd3786"
             ],
             [
              0.5555555555555556,
              "#d8576b"
             ],
             [
              0.6666666666666666,
              "#ed7953"
             ],
             [
              0.7777777777777778,
              "#fb9f3a"
             ],
             [
              0.8888888888888888,
              "#fdca26"
             ],
             [
              1,
              "#f0f921"
             ]
            ],
            "type": "heatmapgl"
           }
          ],
          "histogram": [
           {
            "marker": {
             "pattern": {
              "fillmode": "overlay",
              "size": 10,
              "solidity": 0.2
             }
            },
            "type": "histogram"
           }
          ],
          "histogram2d": [
           {
            "colorbar": {
             "outlinewidth": 0,
             "ticks": ""
            },
            "colorscale": [
             [
              0,
              "#0d0887"
             ],
             [
              0.1111111111111111,
              "#46039f"
             ],
             [
              0.2222222222222222,
              "#7201a8"
             ],
             [
              0.3333333333333333,
              "#9c179e"
             ],
             [
              0.4444444444444444,
              "#bd3786"
             ],
             [
              0.5555555555555556,
              "#d8576b"
             ],
             [
              0.6666666666666666,
              "#ed7953"
             ],
             [
              0.7777777777777778,
              "#fb9f3a"
             ],
             [
              0.8888888888888888,
              "#fdca26"
             ],
             [
              1,
              "#f0f921"
             ]
            ],
            "type": "histogram2d"
           }
          ],
          "histogram2dcontour": [
           {
            "colorbar": {
             "outlinewidth": 0,
             "ticks": ""
            },
            "colorscale": [
             [
              0,
              "#0d0887"
             ],
             [
              0.1111111111111111,
              "#46039f"
             ],
             [
              0.2222222222222222,
              "#7201a8"
             ],
             [
              0.3333333333333333,
              "#9c179e"
             ],
             [
              0.4444444444444444,
              "#bd3786"
             ],
             [
              0.5555555555555556,
              "#d8576b"
             ],
             [
              0.6666666666666666,
              "#ed7953"
             ],
             [
              0.7777777777777778,
              "#fb9f3a"
             ],
             [
              0.8888888888888888,
              "#fdca26"
             ],
             [
              1,
              "#f0f921"
             ]
            ],
            "type": "histogram2dcontour"
           }
          ],
          "mesh3d": [
           {
            "colorbar": {
             "outlinewidth": 0,
             "ticks": ""
            },
            "type": "mesh3d"
           }
          ],
          "parcoords": [
           {
            "line": {
             "colorbar": {
              "outlinewidth": 0,
              "ticks": ""
             }
            },
            "type": "parcoords"
           }
          ],
          "pie": [
           {
            "automargin": true,
            "type": "pie"
           }
          ],
          "scatter": [
           {
            "fillpattern": {
             "fillmode": "overlay",
             "size": 10,
             "solidity": 0.2
            },
            "type": "scatter"
           }
          ],
          "scatter3d": [
           {
            "line": {
             "colorbar": {
              "outlinewidth": 0,
              "ticks": ""
             }
            },
            "marker": {
             "colorbar": {
              "outlinewidth": 0,
              "ticks": ""
             }
            },
            "type": "scatter3d"
           }
          ],
          "scattercarpet": [
           {
            "marker": {
             "colorbar": {
              "outlinewidth": 0,
              "ticks": ""
             }
            },
            "type": "scattercarpet"
           }
          ],
          "scattergeo": [
           {
            "marker": {
             "colorbar": {
              "outlinewidth": 0,
              "ticks": ""
             }
            },
            "type": "scattergeo"
           }
          ],
          "scattergl": [
           {
            "marker": {
             "colorbar": {
              "outlinewidth": 0,
              "ticks": ""
             }
            },
            "type": "scattergl"
           }
          ],
          "scattermapbox": [
           {
            "marker": {
             "colorbar": {
              "outlinewidth": 0,
              "ticks": ""
             }
            },
            "type": "scattermapbox"
           }
          ],
          "scatterpolar": [
           {
            "marker": {
             "colorbar": {
              "outlinewidth": 0,
              "ticks": ""
             }
            },
            "type": "scatterpolar"
           }
          ],
          "scatterpolargl": [
           {
            "marker": {
             "colorbar": {
              "outlinewidth": 0,
              "ticks": ""
             }
            },
            "type": "scatterpolargl"
           }
          ],
          "scatterternary": [
           {
            "marker": {
             "colorbar": {
              "outlinewidth": 0,
              "ticks": ""
             }
            },
            "type": "scatterternary"
           }
          ],
          "surface": [
           {
            "colorbar": {
             "outlinewidth": 0,
             "ticks": ""
            },
            "colorscale": [
             [
              0,
              "#0d0887"
             ],
             [
              0.1111111111111111,
              "#46039f"
             ],
             [
              0.2222222222222222,
              "#7201a8"
             ],
             [
              0.3333333333333333,
              "#9c179e"
             ],
             [
              0.4444444444444444,
              "#bd3786"
             ],
             [
              0.5555555555555556,
              "#d8576b"
             ],
             [
              0.6666666666666666,
              "#ed7953"
             ],
             [
              0.7777777777777778,
              "#fb9f3a"
             ],
             [
              0.8888888888888888,
              "#fdca26"
             ],
             [
              1,
              "#f0f921"
             ]
            ],
            "type": "surface"
           }
          ],
          "table": [
           {
            "cells": {
             "fill": {
              "color": "#EBF0F8"
             },
             "line": {
              "color": "white"
             }
            },
            "header": {
             "fill": {
              "color": "#C8D4E3"
             },
             "line": {
              "color": "white"
             }
            },
            "type": "table"
           }
          ]
         },
         "layout": {
          "annotationdefaults": {
           "arrowcolor": "#2a3f5f",
           "arrowhead": 0,
           "arrowwidth": 1
          },
          "autotypenumbers": "strict",
          "coloraxis": {
           "colorbar": {
            "outlinewidth": 0,
            "ticks": ""
           }
          },
          "colorscale": {
           "diverging": [
            [
             0,
             "#8e0152"
            ],
            [
             0.1,
             "#c51b7d"
            ],
            [
             0.2,
             "#de77ae"
            ],
            [
             0.3,
             "#f1b6da"
            ],
            [
             0.4,
             "#fde0ef"
            ],
            [
             0.5,
             "#f7f7f7"
            ],
            [
             0.6,
             "#e6f5d0"
            ],
            [
             0.7,
             "#b8e186"
            ],
            [
             0.8,
             "#7fbc41"
            ],
            [
             0.9,
             "#4d9221"
            ],
            [
             1,
             "#276419"
            ]
           ],
           "sequential": [
            [
             0,
             "#0d0887"
            ],
            [
             0.1111111111111111,
             "#46039f"
            ],
            [
             0.2222222222222222,
             "#7201a8"
            ],
            [
             0.3333333333333333,
             "#9c179e"
            ],
            [
             0.4444444444444444,
             "#bd3786"
            ],
            [
             0.5555555555555556,
             "#d8576b"
            ],
            [
             0.6666666666666666,
             "#ed7953"
            ],
            [
             0.7777777777777778,
             "#fb9f3a"
            ],
            [
             0.8888888888888888,
             "#fdca26"
            ],
            [
             1,
             "#f0f921"
            ]
           ],
           "sequentialminus": [
            [
             0,
             "#0d0887"
            ],
            [
             0.1111111111111111,
             "#46039f"
            ],
            [
             0.2222222222222222,
             "#7201a8"
            ],
            [
             0.3333333333333333,
             "#9c179e"
            ],
            [
             0.4444444444444444,
             "#bd3786"
            ],
            [
             0.5555555555555556,
             "#d8576b"
            ],
            [
             0.6666666666666666,
             "#ed7953"
            ],
            [
             0.7777777777777778,
             "#fb9f3a"
            ],
            [
             0.8888888888888888,
             "#fdca26"
            ],
            [
             1,
             "#f0f921"
            ]
           ]
          },
          "colorway": [
           "#636efa",
           "#EF553B",
           "#00cc96",
           "#ab63fa",
           "#FFA15A",
           "#19d3f3",
           "#FF6692",
           "#B6E880",
           "#FF97FF",
           "#FECB52"
          ],
          "font": {
           "color": "#2a3f5f"
          },
          "geo": {
           "bgcolor": "white",
           "lakecolor": "white",
           "landcolor": "#E5ECF6",
           "showlakes": true,
           "showland": true,
           "subunitcolor": "white"
          },
          "hoverlabel": {
           "align": "left"
          },
          "hovermode": "closest",
          "mapbox": {
           "style": "light"
          },
          "paper_bgcolor": "white",
          "plot_bgcolor": "#E5ECF6",
          "polar": {
           "angularaxis": {
            "gridcolor": "white",
            "linecolor": "white",
            "ticks": ""
           },
           "bgcolor": "#E5ECF6",
           "radialaxis": {
            "gridcolor": "white",
            "linecolor": "white",
            "ticks": ""
           }
          },
          "scene": {
           "xaxis": {
            "backgroundcolor": "#E5ECF6",
            "gridcolor": "white",
            "gridwidth": 2,
            "linecolor": "white",
            "showbackground": true,
            "ticks": "",
            "zerolinecolor": "white"
           },
           "yaxis": {
            "backgroundcolor": "#E5ECF6",
            "gridcolor": "white",
            "gridwidth": 2,
            "linecolor": "white",
            "showbackground": true,
            "ticks": "",
            "zerolinecolor": "white"
           },
           "zaxis": {
            "backgroundcolor": "#E5ECF6",
            "gridcolor": "white",
            "gridwidth": 2,
            "linecolor": "white",
            "showbackground": true,
            "ticks": "",
            "zerolinecolor": "white"
           }
          },
          "shapedefaults": {
           "line": {
            "color": "#2a3f5f"
           }
          },
          "ternary": {
           "aaxis": {
            "gridcolor": "white",
            "linecolor": "white",
            "ticks": ""
           },
           "baxis": {
            "gridcolor": "white",
            "linecolor": "white",
            "ticks": ""
           },
           "bgcolor": "#E5ECF6",
           "caxis": {
            "gridcolor": "white",
            "linecolor": "white",
            "ticks": ""
           }
          },
          "title": {
           "x": 0.05
          },
          "xaxis": {
           "automargin": true,
           "gridcolor": "white",
           "linecolor": "white",
           "ticks": "",
           "title": {
            "standoff": 15
           },
           "zerolinecolor": "white",
           "zerolinewidth": 2
          },
          "yaxis": {
           "automargin": true,
           "gridcolor": "white",
           "linecolor": "white",
           "ticks": "",
           "title": {
            "standoff": 15
           },
           "zerolinecolor": "white",
           "zerolinewidth": 2
          }
         }
        },
        "title": {
         "text": "Zipf's law test"
        },
        "xaxis": {
         "anchor": "y",
         "domain": [
          0,
          1
         ],
         "title": {
          "text": "index"
         }
        },
        "yaxis": {
         "anchor": "x",
         "domain": [
          0,
          1
         ],
         "title": {
          "text": "value"
         }
        }
       }
      },
      "image/png": "[encoded data removed]",
      "text/html": [
       "<div>                            <div id=\"7bfe1631-fe29-4e07-9c96-1236ccabd72a\" class=\"plotly-graph-div\" style=\"height:525px; width:100%;\"></div>            <script type=\"text/javascript\">                require([\"plotly\"], function(Plotly) {                    window.PLOTLYENV=window.PLOTLYENV || {};                                    if (document.getElementById(\"7bfe1631-fe29-4e07-9c96-1236ccabd72a\")) {                    Plotly.newPlot(                        \"7bfe1631-fe29-4e07-9c96-1236ccabd72a\",                        [{\"hovertemplate\":\"source=human\\u003cbr\\u003evariable=0\\u003cbr\\u003eindex=%{x}\\u003cbr\\u003evalue=%{y}\\u003cextra\\u003e\\u003c\\u002fextra\\u003e\",\"legendgroup\":\"human\",\"line\":{\"color\":\"#636efa\",\"dash\":\"solid\"},\"marker\":{\"symbol\":\"circle\"},\"mode\":\"lines\",\"name\":\"human\",\"orientation\":\"v\",\"showlegend\":true,\"x\":[0,1,2,3,4,5,6,7,8,9,10,11,12,13,14,15,16,17,18,19,20,21,22,23,24,25,26,27,28,29,30,31,32,33,34,35,36,37,38,39,40,41,42,43,44,45,46,47,48,49,50,51,52,53,54,55,56,57,58,59,60,61,62,63,64,65,66,67,68,69,70,71,72,73,74,75,76,77,78,79,80,81,82,83,84,85,86,87,88,89,90,91,92,93,94,95,96,97,98,99],\"xaxis\":\"x\",\"y\":[0.46866699150595004,0.15651415501764626,0.08317714342343951,0.053158181256393426,0.03668782823778623,0.02703392338830347,0.020766682369170078,0.016460453249615363,0.01334547171991568,0.01103430637316341,0.009316842835206566,0.007975874126312666,0.006903597942739301,0.006058454152730738,0.005357484623243528,0.004781409511568102,0.004281246661103624,0.0038642230825154064,0.0035136960685538516,0.0032106262858095456,0.002943917535196494,0.0027075271821040453,0.0025031013603868616,0.0023260481319970212,0.002165830906762912,0.0020168370896987845,0.0018933694734047867,0.0017771874455220383,0.0016680308734226287,0.0015707633467043555,0.0014808484607761899,0.0014007278566006336,0.0013243064471004167,0.0012581336467864664,0.0011956058358330815,0.0011402625489389724,0.0010868792293346826,0.001038691044634675,0.0009934633794585767,0.0009496621772648637,0.000910790383768276,0.0008724064929120648,0.000837361239354133,0.000805318557528504,0.0007726855840694774,0.0007426123203932183,0.000714833870704909,0.0006862249510002324,0.0006592705762843295,0.000634634829539172,0.0006120877723937727,0.000589765663387489,0.000569475713820965,0.0005507077100944144,0.0005333166018893574,0.0005156940768740112,0.0004996112143778866,0.0004844944985004761,0.00047012794542202304,0.0004576759225333486,0.00044430121631533915,0.000432725119299029,0.0004209146431911761,0.0004100677602195229,0.0004005218904032443,0.00039045381007997003,0.00038061221216235876,0.0003706518796644405,0.00036104960505044877,0.0003520444679278306,0.0003434728149825011,0.00033566708398784624,0.00032859684546217803,0.00032074149661642917,0.00031338838476922576,0.00030574022614000444,0.00029847348763184685,0.000291784327703762,0.000284592266447228,0.00027827330364973285,0.00027186862643687886,0.00026585424387740286,0.0002600053457545528,0.00025365876624266315,0.0002477722976043978,0.0002427187663794708,0.0002371577043025986,0.000231942733048289,0.00022665369836477465,0.00022218084219166864,0.00021748289117446185,0.0002134993317203201,0.00020946655687372514,0.00020547741219988262,0.0002019811707748351,0.00019843337213970412,0.00019517410055332887,0.00019201319659679146,0.0001883193982203286,0.00018538497589711434],\"yaxis\":\"y\",\"type\":\"scatter\"}],                        {\"template\":{\"data\":{\"histogram2dcontour\":[{\"type\":\"histogram2dcontour\",\"colorbar\":{\"outlinewidth\":0,\"ticks\":\"\"},\"colorscale\":[[0.0,\"#0d0887\"],[0.1111111111111111,\"#46039f\"],[0.2222222222222222,\"#7201a8\"],[0.3333333333333333,\"#9c179e\"],[0.4444444444444444,\"#bd3786\"],[0.5555555555555556,\"#d8576b\"],[0.6666666666666666,\"#ed7953\"],[0.7777777777777778,\"#fb9f3a\"],[0.8888888888888888,\"#fdca26\"],[1.0,\"#f0f921\"]]}],\"choropleth\":[{\"type\":\"choropleth\",\"colorbar\":{\"outlinewidth\":0,\"ticks\":\"\"}}],\"histogram2d\":[{\"type\":\"histogram2d\",\"colorbar\":{\"outlinewidth\":0,\"ticks\":\"\"},\"colorscale\":[[0.0,\"#0d0887\"],[0.1111111111111111,\"#46039f\"],[0.2222222222222222,\"#7201a8\"],[0.3333333333333333,\"#9c179e\"],[0.4444444444444444,\"#bd3786\"],[0.5555555555555556,\"#d8576b\"],[0.6666666666666666,\"#ed7953\"],[0.7777777777777778,\"#fb9f3a\"],[0.8888888888888888,\"#fdca26\"],[1.0,\"#f0f921\"]]}],\"heatmap\":[{\"type\":\"heatmap\",\"colorbar\":{\"outlinewidth\":0,\"ticks\":\"\"},\"colorscale\":[[0.0,\"#0d0887\"],[0.1111111111111111,\"#46039f\"],[0.2222222222222222,\"#7201a8\"],[0.3333333333333333,\"#9c179e\"],[0.4444444444444444,\"#bd3786\"],[0.5555555555555556,\"#d8576b\"],[0.6666666666666666,\"#ed7953\"],[0.7777777777777778,\"#fb9f3a\"],[0.8888888888888888,\"#fdca26\"],[1.0,\"#f0f921\"]]}],\"heatmapgl\":[{\"type\":\"heatmapgl\",\"colorbar\":{\"outlinewidth\":0,\"ticks\":\"\"},\"colorscale\":[[0.0,\"#0d0887\"],[0.1111111111111111,\"#46039f\"],[0.2222222222222222,\"#7201a8\"],[0.3333333333333333,\"#9c179e\"],[0.4444444444444444,\"#bd3786\"],[0.5555555555555556,\"#d8576b\"],[0.6666666666666666,\"#ed7953\"],[0.7777777777777778,\"#fb9f3a\"],[0.8888888888888888,\"#fdca26\"],[1.0,\"#f0f921\"]]}],\"contourcarpet\":[{\"type\":\"contourcarpet\",\"colorbar\":{\"outlinewidth\":0,\"ticks\":\"\"}}],\"contour\":[{\"type\":\"contour\",\"colorbar\":{\"outlinewidth\":0,\"ticks\":\"\"},\"colorscale\":[[0.0,\"#0d0887\"],[0.1111111111111111,\"#46039f\"],[0.2222222222222222,\"#7201a8\"],[0.3333333333333333,\"#9c179e\"],[0.4444444444444444,\"#bd3786\"],[0.5555555555555556,\"#d8576b\"],[0.6666666666666666,\"#ed7953\"],[0.7777777777777778,\"#fb9f3a\"],[0.8888888888888888,\"#fdca26\"],[1.0,\"#f0f921\"]]}],\"surface\":[{\"type\":\"surface\",\"colorbar\":{\"outlinewidth\":0,\"ticks\":\"\"},\"colorscale\":[[0.0,\"#0d0887\"],[0.1111111111111111,\"#46039f\"],[0.2222222222222222,\"#7201a8\"],[0.3333333333333333,\"#9c179e\"],[0.4444444444444444,\"#bd3786\"],[0.5555555555555556,\"#d8576b\"],[0.6666666666666666,\"#ed7953\"],[0.7777777777777778,\"#fb9f3a\"],[0.8888888888888888,\"#fdca26\"],[1.0,\"#f0f921\"]]}],\"mesh3d\":[{\"type\":\"mesh3d\",\"colorbar\":{\"outlinewidth\":0,\"ticks\":\"\"}}],\"scatter\":[{\"fillpattern\":{\"fillmode\":\"overlay\",\"size\":10,\"solidity\":0.2},\"type\":\"scatter\"}],\"parcoords\":[{\"type\":\"parcoords\",\"line\":{\"colorbar\":{\"outlinewidth\":0,\"ticks\":\"\"}}}],\"scatterpolargl\":[{\"type\":\"scatterpolargl\",\"marker\":{\"colorbar\":{\"outlinewidth\":0,\"ticks\":\"\"}}}],\"bar\":[{\"error_x\":{\"color\":\"#2a3f5f\"},\"error_y\":{\"color\":\"#2a3f5f\"},\"marker\":{\"line\":{\"color\":\"#E5ECF6\",\"width\":0.5},\"pattern\":{\"fillmode\":\"overlay\",\"size\":10,\"solidity\":0.2}},\"type\":\"bar\"}],\"scattergeo\":[{\"type\":\"scattergeo\",\"marker\":{\"colorbar\":{\"outlinewidth\":0,\"ticks\":\"\"}}}],\"scatterpolar\":[{\"type\":\"scatterpolar\",\"marker\":{\"colorbar\":{\"outlinewidth\":0,\"ticks\":\"\"}}}],\"histogram\":[{\"marker\":{\"pattern\":{\"fillmode\":\"overlay\",\"size\":10,\"solidity\":0.2}},\"type\":\"histogram\"}],\"scattergl\":[{\"type\":\"scattergl\",\"marker\":{\"colorbar\":{\"outlinewidth\":0,\"ticks\":\"\"}}}],\"scatter3d\":[{\"type\":\"scatter3d\",\"line\":{\"colorbar\":{\"outlinewidth\":0,\"ticks\":\"\"}},\"marker\":{\"colorbar\":{\"outlinewidth\":0,\"ticks\":\"\"}}}],\"scattermapbox\":[{\"type\":\"scattermapbox\",\"marker\":{\"colorbar\":{\"outlinewidth\":0,\"ticks\":\"\"}}}],\"scatterternary\":[{\"type\":\"scatterternary\",\"marker\":{\"colorbar\":{\"outlinewidth\":0,\"ticks\":\"\"}}}],\"scattercarpet\":[{\"type\":\"scattercarpet\",\"marker\":{\"colorbar\":{\"outlinewidth\":0,\"ticks\":\"\"}}}],\"carpet\":[{\"aaxis\":{\"endlinecolor\":\"#2a3f5f\",\"gridcolor\":\"white\",\"linecolor\":\"white\",\"minorgridcolor\":\"white\",\"startlinecolor\":\"#2a3f5f\"},\"baxis\":{\"endlinecolor\":\"#2a3f5f\",\"gridcolor\":\"white\",\"linecolor\":\"white\",\"minorgridcolor\":\"white\",\"startlinecolor\":\"#2a3f5f\"},\"type\":\"carpet\"}],\"table\":[{\"cells\":{\"fill\":{\"color\":\"#EBF0F8\"},\"line\":{\"color\":\"white\"}},\"header\":{\"fill\":{\"color\":\"#C8D4E3\"},\"line\":{\"color\":\"white\"}},\"type\":\"table\"}],\"barpolar\":[{\"marker\":{\"line\":{\"color\":\"#E5ECF6\",\"width\":0.5},\"pattern\":{\"fillmode\":\"overlay\",\"size\":10,\"solidity\":0.2}},\"type\":\"barpolar\"}],\"pie\":[{\"automargin\":true,\"type\":\"pie\"}]},\"layout\":{\"autotypenumbers\":\"strict\",\"colorway\":[\"#636efa\",\"#EF553B\",\"#00cc96\",\"#ab63fa\",\"#FFA15A\",\"#19d3f3\",\"#FF6692\",\"#B6E880\",\"#FF97FF\",\"#FECB52\"],\"font\":{\"color\":\"#2a3f5f\"},\"hovermode\":\"closest\",\"hoverlabel\":{\"align\":\"left\"},\"paper_bgcolor\":\"white\",\"plot_bgcolor\":\"#E5ECF6\",\"polar\":{\"bgcolor\":\"#E5ECF6\",\"angularaxis\":{\"gridcolor\":\"white\",\"linecolor\":\"white\",\"ticks\":\"\"},\"radialaxis\":{\"gridcolor\":\"white\",\"linecolor\":\"white\",\"ticks\":\"\"}},\"ternary\":{\"bgcolor\":\"#E5ECF6\",\"aaxis\":{\"gridcolor\":\"white\",\"linecolor\":\"white\",\"ticks\":\"\"},\"baxis\":{\"gridcolor\":\"white\",\"linecolor\":\"white\",\"ticks\":\"\"},\"caxis\":{\"gridcolor\":\"white\",\"linecolor\":\"white\",\"ticks\":\"\"}},\"coloraxis\":{\"colorbar\":{\"outlinewidth\":0,\"ticks\":\"\"}},\"colorscale\":{\"sequential\":[[0.0,\"#0d0887\"],[0.1111111111111111,\"#46039f\"],[0.2222222222222222,\"#7201a8\"],[0.3333333333333333,\"#9c179e\"],[0.4444444444444444,\"#bd3786\"],[0.5555555555555556,\"#d8576b\"],[0.6666666666666666,\"#ed7953\"],[0.7777777777777778,\"#fb9f3a\"],[0.8888888888888888,\"#fdca26\"],[1.0,\"#f0f921\"]],\"sequentialminus\":[[0.0,\"#0d0887\"],[0.1111111111111111,\"#46039f\"],[0.2222222222222222,\"#7201a8\"],[0.3333333333333333,\"#9c179e\"],[0.4444444444444444,\"#bd3786\"],[0.5555555555555556,\"#d8576b\"],[0.6666666666666666,\"#ed7953\"],[0.7777777777777778,\"#fb9f3a\"],[0.8888888888888888,\"#fdca26\"],[1.0,\"#f0f921\"]],\"diverging\":[[0,\"#8e0152\"],[0.1,\"#c51b7d\"],[0.2,\"#de77ae\"],[0.3,\"#f1b6da\"],[0.4,\"#fde0ef\"],[0.5,\"#f7f7f7\"],[0.6,\"#e6f5d0\"],[0.7,\"#b8e186\"],[0.8,\"#7fbc41\"],[0.9,\"#4d9221\"],[1,\"#276419\"]]},\"xaxis\":{\"gridcolor\":\"white\",\"linecolor\":\"white\",\"ticks\":\"\",\"title\":{\"standoff\":15},\"zerolinecolor\":\"white\",\"automargin\":true,\"zerolinewidth\":2},\"yaxis\":{\"gridcolor\":\"white\",\"linecolor\":\"white\",\"ticks\":\"\",\"title\":{\"standoff\":15},\"zerolinecolor\":\"white\",\"automargin\":true,\"zerolinewidth\":2},\"scene\":{\"xaxis\":{\"backgroundcolor\":\"#E5ECF6\",\"gridcolor\":\"white\",\"linecolor\":\"white\",\"showbackground\":true,\"ticks\":\"\",\"zerolinecolor\":\"white\",\"gridwidth\":2},\"yaxis\":{\"backgroundcolor\":\"#E5ECF6\",\"gridcolor\":\"white\",\"linecolor\":\"white\",\"showbackground\":true,\"ticks\":\"\",\"zerolinecolor\":\"white\",\"gridwidth\":2},\"zaxis\":{\"backgroundcolor\":\"#E5ECF6\",\"gridcolor\":\"white\",\"linecolor\":\"white\",\"showbackground\":true,\"ticks\":\"\",\"zerolinecolor\":\"white\",\"gridwidth\":2}},\"shapedefaults\":{\"line\":{\"color\":\"#2a3f5f\"}},\"annotationdefaults\":{\"arrowcolor\":\"#2a3f5f\",\"arrowhead\":0,\"arrowwidth\":1},\"geo\":{\"bgcolor\":\"white\",\"landcolor\":\"#E5ECF6\",\"subunitcolor\":\"white\",\"showland\":true,\"showlakes\":true,\"lakecolor\":\"white\"},\"title\":{\"x\":0.05},\"mapbox\":{\"style\":\"light\"}}},\"xaxis\":{\"anchor\":\"y\",\"domain\":[0.0,1.0],\"title\":{\"text\":\"index\"}},\"yaxis\":{\"anchor\":\"x\",\"domain\":[0.0,1.0],\"title\":{\"text\":\"value\"}},\"legend\":{\"title\":{\"text\":\"source\"},\"tracegroupgap\":0},\"title\":{\"text\":\"Zipf's law test\"}},                        {\"responsive\": true}                    ).then(function(){\n",
       "                            \n",
       "var gd = document.getElementById('7bfe1631-fe29-4e07-9c96-1236ccabd72a');\n",
       "var x = new MutationObserver(function (mutations, observer) {{\n",
       "        var display = window.getComputedStyle(gd).display;\n",
       "        if (!display || display === 'none') {{\n",
       "            console.log([gd, 'removed!']);\n",
       "            Plotly.purge(gd);\n",
       "            observer.disconnect();\n",
       "        }}\n",
       "}});\n",
       "\n",
       "// Listen for the removal of the full notebook cells\n",
       "var notebookContainer = gd.closest('#notebook-container');\n",
       "if (notebookContainer) {{\n",
       "    x.observe(notebookContainer, {childList: true});\n",
       "}}\n",
       "\n",
       "// Listen for the clearing of the current output cell\n",
       "var outputEl = gd.closest('.output');\n",
       "if (outputEl) {{\n",
       "    x.observe(outputEl, {childList: true});\n",
       "}}\n",
       "\n",
       "                        })                };                });            </script>        </div>"
      ]
     },
     "metadata": {},
     "output_type": "display_data"
    }
   ],
   "source": [
    "fig = px.line(all_distr[all_distr.source=='human'], title=\"Zipf's law test\", color = 'source')\n",
    "fig.show()"
   ]
  },
  {
   "cell_type": "code",
   "execution_count": 74,
   "id": "7f03cad2-ab53-4837-8ba4-defe1b929ebc",
   "metadata": {},
   "outputs": [
    {
     "data": {
      "application/vnd.plotly.v1+json": {
       "config": {
        "plotlyServerURL": "https://plot.ly"
       },
       "data": [
        {
         "hovertemplate": "source=gpt4o<br>variable=0<br>index=%{x}<br>value=%{y}<extra></extra>",
         "legendgroup": "gpt4o",
         "line": {
          "color": "red",
          "dash": "solid"
         },
         "marker": {
          "symbol": "circle"
         },
         "mode": "lines",
         "name": "gpt4o",
         "orientation": "v",
         "showlegend": true,
         "type": "scatter",
         "x": [
          0,
          1,
          2,
          3,
          4,
          5,
          6,
          7,
          8,
          9,
          10,
          11,
          12,
          13,
          14,
          15,
          16,
          17,
          18,
          19,
          20,
          21,
          22,
          23,
          24,
          25,
          26,
          27,
          28,
          29,
          30,
          31,
          32,
          33,
          34,
          35,
          36,
          37,
          38,
          39,
          40,
          41,
          42,
          43,
          44,
          45,
          46,
          47,
          48,
          49,
          50,
          51,
          52,
          53,
          54,
          55,
          56,
          57,
          58,
          59,
          60,
          61,
          62,
          63,
          64,
          65,
          66,
          67,
          68,
          69,
          70,
          71,
          72,
          73,
          74,
          75,
          76,
          77,
          78,
          79,
          80,
          81,
          82,
          83,
          84,
          85,
          86,
          87,
          88,
          89,
          90,
          91,
          92,
          93,
          94,
          95,
          96,
          97,
          98,
          99
         ],
         "xaxis": "x",
         "y": [
          0.46866699150595004,
          0.15651415501764626,
          0.08317714342343951,
          0.053158181256393426,
          0.03668782823778623,
          0.02703392338830347,
          0.020766682369170078,
          0.016460453249615363,
          0.01334547171991568,
          0.01103430637316341,
          0.009316842835206566,
          0.007975874126312666,
          0.006903597942739301,
          0.006058454152730738,
          0.005357484623243528,
          0.004781409511568102,
          0.004281246661103624,
          0.0038642230825154064,
          0.0035136960685538516,
          0.0032106262858095456,
          0.002943917535196494,
          0.0027075271821040453,
          0.0025031013603868616,
          0.0023260481319970212,
          0.002165830906762912,
          0.0020168370896987845,
          0.0018933694734047867,
          0.0017771874455220383,
          0.0016680308734226287,
          0.0015707633467043555,
          0.0014808484607761899,
          0.0014007278566006336,
          0.0013243064471004167,
          0.0012581336467864664,
          0.0011956058358330815,
          0.0011402625489389724,
          0.0010868792293346826,
          0.001038691044634675,
          0.0009934633794585767,
          0.0009496621772648637,
          0.000910790383768276,
          0.0008724064929120648,
          0.000837361239354133,
          0.000805318557528504,
          0.0007726855840694774,
          0.0007426123203932183,
          0.000714833870704909,
          0.0006862249510002324,
          0.0006592705762843295,
          0.000634634829539172,
          0.0006120877723937727,
          0.000589765663387489,
          0.000569475713820965,
          0.0005507077100944144,
          0.0005333166018893574,
          0.0005156940768740112,
          0.0004996112143778866,
          0.0004844944985004761,
          0.00047012794542202304,
          0.0004576759225333486,
          0.00044430121631533915,
          0.000432725119299029,
          0.0004209146431911761,
          0.0004100677602195229,
          0.0004005218904032443,
          0.00039045381007997003,
          0.00038061221216235876,
          0.0003706518796644405,
          0.00036104960505044877,
          0.0003520444679278306,
          0.0003434728149825011,
          0.00033566708398784624,
          0.00032859684546217803,
          0.00032074149661642917,
          0.00031338838476922576,
          0.00030574022614000444,
          0.00029847348763184685,
          0.000291784327703762,
          0.000284592266447228,
          0.00027827330364973285,
          0.00027186862643687886,
          0.00026585424387740286,
          0.0002600053457545528,
          0.00025365876624266315,
          0.0002477722976043978,
          0.0002427187663794708,
          0.0002371577043025986,
          0.000231942733048289,
          0.00022665369836477465,
          0.00022218084219166864,
          0.00021748289117446185,
          0.0002134993317203201,
          0.00020946655687372514,
          0.00020547741219988262,
          0.0002019811707748351,
          0.00019843337213970412,
          0.00019517410055332887,
          0.00019201319659679146,
          0.0001883193982203286,
          0.00018538497589711434
         ],
         "yaxis": "y"
        }
       ],
       "layout": {
        "legend": {
         "title": {
          "text": "source"
         },
         "tracegroupgap": 0
        },
        "template": {
         "data": {
          "bar": [
           {
            "error_x": {
             "color": "#2a3f5f"
            },
            "error_y": {
             "color": "#2a3f5f"
            },
            "marker": {
             "line": {
              "color": "#E5ECF6",
              "width": 0.5
             },
             "pattern": {
              "fillmode": "overlay",
              "size": 10,
              "solidity": 0.2
             }
            },
            "type": "bar"
           }
          ],
          "barpolar": [
           {
            "marker": {
             "line": {
              "color": "#E5ECF6",
              "width": 0.5
             },
             "pattern": {
              "fillmode": "overlay",
              "size": 10,
              "solidity": 0.2
             }
            },
            "type": "barpolar"
           }
          ],
          "carpet": [
           {
            "aaxis": {
             "endlinecolor": "#2a3f5f",
             "gridcolor": "white",
             "linecolor": "white",
             "minorgridcolor": "white",
             "startlinecolor": "#2a3f5f"
            },
            "baxis": {
             "endlinecolor": "#2a3f5f",
             "gridcolor": "white",
             "linecolor": "white",
             "minorgridcolor": "white",
             "startlinecolor": "#2a3f5f"
            },
            "type": "carpet"
           }
          ],
          "choropleth": [
           {
            "colorbar": {
             "outlinewidth": 0,
             "ticks": ""
            },
            "type": "choropleth"
           }
          ],
          "contour": [
           {
            "colorbar": {
             "outlinewidth": 0,
             "ticks": ""
            },
            "colorscale": [
             [
              0,
              "#0d0887"
             ],
             [
              0.1111111111111111,
              "#46039f"
             ],
             [
              0.2222222222222222,
              "#7201a8"
             ],
             [
              0.3333333333333333,
              "#9c179e"
             ],
             [
              0.4444444444444444,
              "#bd3786"
             ],
             [
              0.5555555555555556,
              "#d8576b"
             ],
             [
              0.6666666666666666,
              "#ed7953"
             ],
             [
              0.7777777777777778,
              "#fb9f3a"
             ],
             [
              0.8888888888888888,
              "#fdca26"
             ],
             [
              1,
              "#f0f921"
             ]
            ],
            "type": "contour"
           }
          ],
          "contourcarpet": [
           {
            "colorbar": {
             "outlinewidth": 0,
             "ticks": ""
            },
            "type": "contourcarpet"
           }
          ],
          "heatmap": [
           {
            "colorbar": {
             "outlinewidth": 0,
             "ticks": ""
            },
            "colorscale": [
             [
              0,
              "#0d0887"
             ],
             [
              0.1111111111111111,
              "#46039f"
             ],
             [
              0.2222222222222222,
              "#7201a8"
             ],
             [
              0.3333333333333333,
              "#9c179e"
             ],
             [
              0.4444444444444444,
              "#bd3786"
             ],
             [
              0.5555555555555556,
              "#d8576b"
             ],
             [
              0.6666666666666666,
              "#ed7953"
             ],
             [
              0.7777777777777778,
              "#fb9f3a"
             ],
             [
              0.8888888888888888,
              "#fdca26"
             ],
             [
              1,
              "#f0f921"
             ]
            ],
            "type": "heatmap"
           }
          ],
          "heatmapgl": [
           {
            "colorbar": {
             "outlinewidth": 0,
             "ticks": ""
            },
            "colorscale": [
             [
              0,
              "#0d0887"
             ],
             [
              0.1111111111111111,
              "#46039f"
             ],
             [
              0.2222222222222222,
              "#7201a8"
             ],
             [
              0.3333333333333333,
              "#9c179e"
             ],
             [
              0.4444444444444444,
              "#bd3786"
             ],
             [
              0.5555555555555556,
              "#d8576b"
             ],
             [
              0.6666666666666666,
              "#ed7953"
             ],
             [
              0.7777777777777778,
              "#fb9f3a"
             ],
             [
              0.8888888888888888,
              "#fdca26"
             ],
             [
              1,
              "#f0f921"
             ]
            ],
            "type": "heatmapgl"
           }
          ],
          "histogram": [
           {
            "marker": {
             "pattern": {
              "fillmode": "overlay",
              "size": 10,
              "solidity": 0.2
             }
            },
            "type": "histogram"
           }
          ],
          "histogram2d": [
           {
            "colorbar": {
             "outlinewidth": 0,
             "ticks": ""
            },
            "colorscale": [
             [
              0,
              "#0d0887"
             ],
             [
              0.1111111111111111,
              "#46039f"
             ],
             [
              0.2222222222222222,
              "#7201a8"
             ],
             [
              0.3333333333333333,
              "#9c179e"
             ],
             [
              0.4444444444444444,
              "#bd3786"
             ],
             [
              0.5555555555555556,
              "#d8576b"
             ],
             [
              0.6666666666666666,
              "#ed7953"
             ],
             [
              0.7777777777777778,
              "#fb9f3a"
             ],
             [
              0.8888888888888888,
              "#fdca26"
             ],
             [
              1,
              "#f0f921"
             ]
            ],
            "type": "histogram2d"
           }
          ],
          "histogram2dcontour": [
           {
            "colorbar": {
             "outlinewidth": 0,
             "ticks": ""
            },
            "colorscale": [
             [
              0,
              "#0d0887"
             ],
             [
              0.1111111111111111,
              "#46039f"
             ],
             [
              0.2222222222222222,
              "#7201a8"
             ],
             [
              0.3333333333333333,
              "#9c179e"
             ],
             [
              0.4444444444444444,
              "#bd3786"
             ],
             [
              0.5555555555555556,
              "#d8576b"
             ],
             [
              0.6666666666666666,
              "#ed7953"
             ],
             [
              0.7777777777777778,
              "#fb9f3a"
             ],
             [
              0.8888888888888888,
              "#fdca26"
             ],
             [
              1,
              "#f0f921"
             ]
            ],
            "type": "histogram2dcontour"
           }
          ],
          "mesh3d": [
           {
            "colorbar": {
             "outlinewidth": 0,
             "ticks": ""
            },
            "type": "mesh3d"
           }
          ],
          "parcoords": [
           {
            "line": {
             "colorbar": {
              "outlinewidth": 0,
              "ticks": ""
             }
            },
            "type": "parcoords"
           }
          ],
          "pie": [
           {
            "automargin": true,
            "type": "pie"
           }
          ],
          "scatter": [
           {
            "fillpattern": {
             "fillmode": "overlay",
             "size": 10,
             "solidity": 0.2
            },
            "type": "scatter"
           }
          ],
          "scatter3d": [
           {
            "line": {
             "colorbar": {
              "outlinewidth": 0,
              "ticks": ""
             }
            },
            "marker": {
             "colorbar": {
              "outlinewidth": 0,
              "ticks": ""
             }
            },
            "type": "scatter3d"
           }
          ],
          "scattercarpet": [
           {
            "marker": {
             "colorbar": {
              "outlinewidth": 0,
              "ticks": ""
             }
            },
            "type": "scattercarpet"
           }
          ],
          "scattergeo": [
           {
            "marker": {
             "colorbar": {
              "outlinewidth": 0,
              "ticks": ""
             }
            },
            "type": "scattergeo"
           }
          ],
          "scattergl": [
           {
            "marker": {
             "colorbar": {
              "outlinewidth": 0,
              "ticks": ""
             }
            },
            "type": "scattergl"
           }
          ],
          "scattermapbox": [
           {
            "marker": {
             "colorbar": {
              "outlinewidth": 0,
              "ticks": ""
             }
            },
            "type": "scattermapbox"
           }
          ],
          "scatterpolar": [
           {
            "marker": {
             "colorbar": {
              "outlinewidth": 0,
              "ticks": ""
             }
            },
            "type": "scatterpolar"
           }
          ],
          "scatterpolargl": [
           {
            "marker": {
             "colorbar": {
              "outlinewidth": 0,
              "ticks": ""
             }
            },
            "type": "scatterpolargl"
           }
          ],
          "scatterternary": [
           {
            "marker": {
             "colorbar": {
              "outlinewidth": 0,
              "ticks": ""
             }
            },
            "type": "scatterternary"
           }
          ],
          "surface": [
           {
            "colorbar": {
             "outlinewidth": 0,
             "ticks": ""
            },
            "colorscale": [
             [
              0,
              "#0d0887"
             ],
             [
              0.1111111111111111,
              "#46039f"
             ],
             [
              0.2222222222222222,
              "#7201a8"
             ],
             [
              0.3333333333333333,
              "#9c179e"
             ],
             [
              0.4444444444444444,
              "#bd3786"
             ],
             [
              0.5555555555555556,
              "#d8576b"
             ],
             [
              0.6666666666666666,
              "#ed7953"
             ],
             [
              0.7777777777777778,
              "#fb9f3a"
             ],
             [
              0.8888888888888888,
              "#fdca26"
             ],
             [
              1,
              "#f0f921"
             ]
            ],
            "type": "surface"
           }
          ],
          "table": [
           {
            "cells": {
             "fill": {
              "color": "#EBF0F8"
             },
             "line": {
              "color": "white"
             }
            },
            "header": {
             "fill": {
              "color": "#C8D4E3"
             },
             "line": {
              "color": "white"
             }
            },
            "type": "table"
           }
          ]
         },
         "layout": {
          "annotationdefaults": {
           "arrowcolor": "#2a3f5f",
           "arrowhead": 0,
           "arrowwidth": 1
          },
          "autotypenumbers": "strict",
          "coloraxis": {
           "colorbar": {
            "outlinewidth": 0,
            "ticks": ""
           }
          },
          "colorscale": {
           "diverging": [
            [
             0,
             "#8e0152"
            ],
            [
             0.1,
             "#c51b7d"
            ],
            [
             0.2,
             "#de77ae"
            ],
            [
             0.3,
             "#f1b6da"
            ],
            [
             0.4,
             "#fde0ef"
            ],
            [
             0.5,
             "#f7f7f7"
            ],
            [
             0.6,
             "#e6f5d0"
            ],
            [
             0.7,
             "#b8e186"
            ],
            [
             0.8,
             "#7fbc41"
            ],
            [
             0.9,
             "#4d9221"
            ],
            [
             1,
             "#276419"
            ]
           ],
           "sequential": [
            [
             0,
             "#0d0887"
            ],
            [
             0.1111111111111111,
             "#46039f"
            ],
            [
             0.2222222222222222,
             "#7201a8"
            ],
            [
             0.3333333333333333,
             "#9c179e"
            ],
            [
             0.4444444444444444,
             "#bd3786"
            ],
            [
             0.5555555555555556,
             "#d8576b"
            ],
            [
             0.6666666666666666,
             "#ed7953"
            ],
            [
             0.7777777777777778,
             "#fb9f3a"
            ],
            [
             0.8888888888888888,
             "#fdca26"
            ],
            [
             1,
             "#f0f921"
            ]
           ],
           "sequentialminus": [
            [
             0,
             "#0d0887"
            ],
            [
             0.1111111111111111,
             "#46039f"
            ],
            [
             0.2222222222222222,
             "#7201a8"
            ],
            [
             0.3333333333333333,
             "#9c179e"
            ],
            [
             0.4444444444444444,
             "#bd3786"
            ],
            [
             0.5555555555555556,
             "#d8576b"
            ],
            [
             0.6666666666666666,
             "#ed7953"
            ],
            [
             0.7777777777777778,
             "#fb9f3a"
            ],
            [
             0.8888888888888888,
             "#fdca26"
            ],
            [
             1,
             "#f0f921"
            ]
           ]
          },
          "colorway": [
           "#636efa",
           "#EF553B",
           "#00cc96",
           "#ab63fa",
           "#FFA15A",
           "#19d3f3",
           "#FF6692",
           "#B6E880",
           "#FF97FF",
           "#FECB52"
          ],
          "font": {
           "color": "#2a3f5f"
          },
          "geo": {
           "bgcolor": "white",
           "lakecolor": "white",
           "landcolor": "#E5ECF6",
           "showlakes": true,
           "showland": true,
           "subunitcolor": "white"
          },
          "hoverlabel": {
           "align": "left"
          },
          "hovermode": "closest",
          "mapbox": {
           "style": "light"
          },
          "paper_bgcolor": "white",
          "plot_bgcolor": "#E5ECF6",
          "polar": {
           "angularaxis": {
            "gridcolor": "white",
            "linecolor": "white",
            "ticks": ""
           },
           "bgcolor": "#E5ECF6",
           "radialaxis": {
            "gridcolor": "white",
            "linecolor": "white",
            "ticks": ""
           }
          },
          "scene": {
           "xaxis": {
            "backgroundcolor": "#E5ECF6",
            "gridcolor": "white",
            "gridwidth": 2,
            "linecolor": "white",
            "showbackground": true,
            "ticks": "",
            "zerolinecolor": "white"
           },
           "yaxis": {
            "backgroundcolor": "#E5ECF6",
            "gridcolor": "white",
            "gridwidth": 2,
            "linecolor": "white",
            "showbackground": true,
            "ticks": "",
            "zerolinecolor": "white"
           },
           "zaxis": {
            "backgroundcolor": "#E5ECF6",
            "gridcolor": "white",
            "gridwidth": 2,
            "linecolor": "white",
            "showbackground": true,
            "ticks": "",
            "zerolinecolor": "white"
           }
          },
          "shapedefaults": {
           "line": {
            "color": "#2a3f5f"
           }
          },
          "ternary": {
           "aaxis": {
            "gridcolor": "white",
            "linecolor": "white",
            "ticks": ""
           },
           "baxis": {
            "gridcolor": "white",
            "linecolor": "white",
            "ticks": ""
           },
           "bgcolor": "#E5ECF6",
           "caxis": {
            "gridcolor": "white",
            "linecolor": "white",
            "ticks": ""
           }
          },
          "title": {
           "x": 0.05
          },
          "xaxis": {
           "automargin": true,
           "gridcolor": "white",
           "linecolor": "white",
           "ticks": "",
           "title": {
            "standoff": 15
           },
           "zerolinecolor": "white",
           "zerolinewidth": 2
          },
          "yaxis": {
           "automargin": true,
           "gridcolor": "white",
           "linecolor": "white",
           "ticks": "",
           "title": {
            "standoff": 15
           },
           "zerolinecolor": "white",
           "zerolinewidth": 2
          }
         }
        },
        "title": {
         "text": "Zipf's law test"
        },
        "xaxis": {
         "anchor": "y",
         "domain": [
          0,
          1
         ],
         "title": {
          "text": "index"
         }
        },
        "yaxis": {
         "anchor": "x",
         "domain": [
          0,
          1
         ],
         "title": {
          "text": "value"
         }
        }
       }
      },
      "image/png": "[encoded data removed]",
      "text/html": [
       "<div>                            <div id=\"ba188e47-ef63-4b24-90ed-4fa62a422b06\" class=\"plotly-graph-div\" style=\"height:525px; width:100%;\"></div>            <script type=\"text/javascript\">                require([\"plotly\"], function(Plotly) {                    window.PLOTLYENV=window.PLOTLYENV || {};                                    if (document.getElementById(\"ba188e47-ef63-4b24-90ed-4fa62a422b06\")) {                    Plotly.newPlot(                        \"ba188e47-ef63-4b24-90ed-4fa62a422b06\",                        [{\"hovertemplate\":\"source=gpt4o\\u003cbr\\u003evariable=0\\u003cbr\\u003eindex=%{x}\\u003cbr\\u003evalue=%{y}\\u003cextra\\u003e\\u003c\\u002fextra\\u003e\",\"legendgroup\":\"gpt4o\",\"line\":{\"color\":\"red\",\"dash\":\"solid\"},\"marker\":{\"symbol\":\"circle\"},\"mode\":\"lines\",\"name\":\"gpt4o\",\"orientation\":\"v\",\"showlegend\":true,\"x\":[0,1,2,3,4,5,6,7,8,9,10,11,12,13,14,15,16,17,18,19,20,21,22,23,24,25,26,27,28,29,30,31,32,33,34,35,36,37,38,39,40,41,42,43,44,45,46,47,48,49,50,51,52,53,54,55,56,57,58,59,60,61,62,63,64,65,66,67,68,69,70,71,72,73,74,75,76,77,78,79,80,81,82,83,84,85,86,87,88,89,90,91,92,93,94,95,96,97,98,99],\"xaxis\":\"x\",\"y\":[0.46866699150595004,0.15651415501764626,0.08317714342343951,0.053158181256393426,0.03668782823778623,0.02703392338830347,0.020766682369170078,0.016460453249615363,0.01334547171991568,0.01103430637316341,0.009316842835206566,0.007975874126312666,0.006903597942739301,0.006058454152730738,0.005357484623243528,0.004781409511568102,0.004281246661103624,0.0038642230825154064,0.0035136960685538516,0.0032106262858095456,0.002943917535196494,0.0027075271821040453,0.0025031013603868616,0.0023260481319970212,0.002165830906762912,0.0020168370896987845,0.0018933694734047867,0.0017771874455220383,0.0016680308734226287,0.0015707633467043555,0.0014808484607761899,0.0014007278566006336,0.0013243064471004167,0.0012581336467864664,0.0011956058358330815,0.0011402625489389724,0.0010868792293346826,0.001038691044634675,0.0009934633794585767,0.0009496621772648637,0.000910790383768276,0.0008724064929120648,0.000837361239354133,0.000805318557528504,0.0007726855840694774,0.0007426123203932183,0.000714833870704909,0.0006862249510002324,0.0006592705762843295,0.000634634829539172,0.0006120877723937727,0.000589765663387489,0.000569475713820965,0.0005507077100944144,0.0005333166018893574,0.0005156940768740112,0.0004996112143778866,0.0004844944985004761,0.00047012794542202304,0.0004576759225333486,0.00044430121631533915,0.000432725119299029,0.0004209146431911761,0.0004100677602195229,0.0004005218904032443,0.00039045381007997003,0.00038061221216235876,0.0003706518796644405,0.00036104960505044877,0.0003520444679278306,0.0003434728149825011,0.00033566708398784624,0.00032859684546217803,0.00032074149661642917,0.00031338838476922576,0.00030574022614000444,0.00029847348763184685,0.000291784327703762,0.000284592266447228,0.00027827330364973285,0.00027186862643687886,0.00026585424387740286,0.0002600053457545528,0.00025365876624266315,0.0002477722976043978,0.0002427187663794708,0.0002371577043025986,0.000231942733048289,0.00022665369836477465,0.00022218084219166864,0.00021748289117446185,0.0002134993317203201,0.00020946655687372514,0.00020547741219988262,0.0002019811707748351,0.00019843337213970412,0.00019517410055332887,0.00019201319659679146,0.0001883193982203286,0.00018538497589711434],\"yaxis\":\"y\",\"type\":\"scatter\"}],                        {\"template\":{\"data\":{\"histogram2dcontour\":[{\"type\":\"histogram2dcontour\",\"colorbar\":{\"outlinewidth\":0,\"ticks\":\"\"},\"colorscale\":[[0.0,\"#0d0887\"],[0.1111111111111111,\"#46039f\"],[0.2222222222222222,\"#7201a8\"],[0.3333333333333333,\"#9c179e\"],[0.4444444444444444,\"#bd3786\"],[0.5555555555555556,\"#d8576b\"],[0.6666666666666666,\"#ed7953\"],[0.7777777777777778,\"#fb9f3a\"],[0.8888888888888888,\"#fdca26\"],[1.0,\"#f0f921\"]]}],\"choropleth\":[{\"type\":\"choropleth\",\"colorbar\":{\"outlinewidth\":0,\"ticks\":\"\"}}],\"histogram2d\":[{\"type\":\"histogram2d\",\"colorbar\":{\"outlinewidth\":0,\"ticks\":\"\"},\"colorscale\":[[0.0,\"#0d0887\"],[0.1111111111111111,\"#46039f\"],[0.2222222222222222,\"#7201a8\"],[0.3333333333333333,\"#9c179e\"],[0.4444444444444444,\"#bd3786\"],[0.5555555555555556,\"#d8576b\"],[0.6666666666666666,\"#ed7953\"],[0.7777777777777778,\"#fb9f3a\"],[0.8888888888888888,\"#fdca26\"],[1.0,\"#f0f921\"]]}],\"heatmap\":[{\"type\":\"heatmap\",\"colorbar\":{\"outlinewidth\":0,\"ticks\":\"\"},\"colorscale\":[[0.0,\"#0d0887\"],[0.1111111111111111,\"#46039f\"],[0.2222222222222222,\"#7201a8\"],[0.3333333333333333,\"#9c179e\"],[0.4444444444444444,\"#bd3786\"],[0.5555555555555556,\"#d8576b\"],[0.6666666666666666,\"#ed7953\"],[0.7777777777777778,\"#fb9f3a\"],[0.8888888888888888,\"#fdca26\"],[1.0,\"#f0f921\"]]}],\"heatmapgl\":[{\"type\":\"heatmapgl\",\"colorbar\":{\"outlinewidth\":0,\"ticks\":\"\"},\"colorscale\":[[0.0,\"#0d0887\"],[0.1111111111111111,\"#46039f\"],[0.2222222222222222,\"#7201a8\"],[0.3333333333333333,\"#9c179e\"],[0.4444444444444444,\"#bd3786\"],[0.5555555555555556,\"#d8576b\"],[0.6666666666666666,\"#ed7953\"],[0.7777777777777778,\"#fb9f3a\"],[0.8888888888888888,\"#fdca26\"],[1.0,\"#f0f921\"]]}],\"contourcarpet\":[{\"type\":\"contourcarpet\",\"colorbar\":{\"outlinewidth\":0,\"ticks\":\"\"}}],\"contour\":[{\"type\":\"contour\",\"colorbar\":{\"outlinewidth\":0,\"ticks\":\"\"},\"colorscale\":[[0.0,\"#0d0887\"],[0.1111111111111111,\"#46039f\"],[0.2222222222222222,\"#7201a8\"],[0.3333333333333333,\"#9c179e\"],[0.4444444444444444,\"#bd3786\"],[0.5555555555555556,\"#d8576b\"],[0.6666666666666666,\"#ed7953\"],[0.7777777777777778,\"#fb9f3a\"],[0.8888888888888888,\"#fdca26\"],[1.0,\"#f0f921\"]]}],\"surface\":[{\"type\":\"surface\",\"colorbar\":{\"outlinewidth\":0,\"ticks\":\"\"},\"colorscale\":[[0.0,\"#0d0887\"],[0.1111111111111111,\"#46039f\"],[0.2222222222222222,\"#7201a8\"],[0.3333333333333333,\"#9c179e\"],[0.4444444444444444,\"#bd3786\"],[0.5555555555555556,\"#d8576b\"],[0.6666666666666666,\"#ed7953\"],[0.7777777777777778,\"#fb9f3a\"],[0.8888888888888888,\"#fdca26\"],[1.0,\"#f0f921\"]]}],\"mesh3d\":[{\"type\":\"mesh3d\",\"colorbar\":{\"outlinewidth\":0,\"ticks\":\"\"}}],\"scatter\":[{\"fillpattern\":{\"fillmode\":\"overlay\",\"size\":10,\"solidity\":0.2},\"type\":\"scatter\"}],\"parcoords\":[{\"type\":\"parcoords\",\"line\":{\"colorbar\":{\"outlinewidth\":0,\"ticks\":\"\"}}}],\"scatterpolargl\":[{\"type\":\"scatterpolargl\",\"marker\":{\"colorbar\":{\"outlinewidth\":0,\"ticks\":\"\"}}}],\"bar\":[{\"error_x\":{\"color\":\"#2a3f5f\"},\"error_y\":{\"color\":\"#2a3f5f\"},\"marker\":{\"line\":{\"color\":\"#E5ECF6\",\"width\":0.5},\"pattern\":{\"fillmode\":\"overlay\",\"size\":10,\"solidity\":0.2}},\"type\":\"bar\"}],\"scattergeo\":[{\"type\":\"scattergeo\",\"marker\":{\"colorbar\":{\"outlinewidth\":0,\"ticks\":\"\"}}}],\"scatterpolar\":[{\"type\":\"scatterpolar\",\"marker\":{\"colorbar\":{\"outlinewidth\":0,\"ticks\":\"\"}}}],\"histogram\":[{\"marker\":{\"pattern\":{\"fillmode\":\"overlay\",\"size\":10,\"solidity\":0.2}},\"type\":\"histogram\"}],\"scattergl\":[{\"type\":\"scattergl\",\"marker\":{\"colorbar\":{\"outlinewidth\":0,\"ticks\":\"\"}}}],\"scatter3d\":[{\"type\":\"scatter3d\",\"line\":{\"colorbar\":{\"outlinewidth\":0,\"ticks\":\"\"}},\"marker\":{\"colorbar\":{\"outlinewidth\":0,\"ticks\":\"\"}}}],\"scattermapbox\":[{\"type\":\"scattermapbox\",\"marker\":{\"colorbar\":{\"outlinewidth\":0,\"ticks\":\"\"}}}],\"scatterternary\":[{\"type\":\"scatterternary\",\"marker\":{\"colorbar\":{\"outlinewidth\":0,\"ticks\":\"\"}}}],\"scattercarpet\":[{\"type\":\"scattercarpet\",\"marker\":{\"colorbar\":{\"outlinewidth\":0,\"ticks\":\"\"}}}],\"carpet\":[{\"aaxis\":{\"endlinecolor\":\"#2a3f5f\",\"gridcolor\":\"white\",\"linecolor\":\"white\",\"minorgridcolor\":\"white\",\"startlinecolor\":\"#2a3f5f\"},\"baxis\":{\"endlinecolor\":\"#2a3f5f\",\"gridcolor\":\"white\",\"linecolor\":\"white\",\"minorgridcolor\":\"white\",\"startlinecolor\":\"#2a3f5f\"},\"type\":\"carpet\"}],\"table\":[{\"cells\":{\"fill\":{\"color\":\"#EBF0F8\"},\"line\":{\"color\":\"white\"}},\"header\":{\"fill\":{\"color\":\"#C8D4E3\"},\"line\":{\"color\":\"white\"}},\"type\":\"table\"}],\"barpolar\":[{\"marker\":{\"line\":{\"color\":\"#E5ECF6\",\"width\":0.5},\"pattern\":{\"fillmode\":\"overlay\",\"size\":10,\"solidity\":0.2}},\"type\":\"barpolar\"}],\"pie\":[{\"automargin\":true,\"type\":\"pie\"}]},\"layout\":{\"autotypenumbers\":\"strict\",\"colorway\":[\"#636efa\",\"#EF553B\",\"#00cc96\",\"#ab63fa\",\"#FFA15A\",\"#19d3f3\",\"#FF6692\",\"#B6E880\",\"#FF97FF\",\"#FECB52\"],\"font\":{\"color\":\"#2a3f5f\"},\"hovermode\":\"closest\",\"hoverlabel\":{\"align\":\"left\"},\"paper_bgcolor\":\"white\",\"plot_bgcolor\":\"#E5ECF6\",\"polar\":{\"bgcolor\":\"#E5ECF6\",\"angularaxis\":{\"gridcolor\":\"white\",\"linecolor\":\"white\",\"ticks\":\"\"},\"radialaxis\":{\"gridcolor\":\"white\",\"linecolor\":\"white\",\"ticks\":\"\"}},\"ternary\":{\"bgcolor\":\"#E5ECF6\",\"aaxis\":{\"gridcolor\":\"white\",\"linecolor\":\"white\",\"ticks\":\"\"},\"baxis\":{\"gridcolor\":\"white\",\"linecolor\":\"white\",\"ticks\":\"\"},\"caxis\":{\"gridcolor\":\"white\",\"linecolor\":\"white\",\"ticks\":\"\"}},\"coloraxis\":{\"colorbar\":{\"outlinewidth\":0,\"ticks\":\"\"}},\"colorscale\":{\"sequential\":[[0.0,\"#0d0887\"],[0.1111111111111111,\"#46039f\"],[0.2222222222222222,\"#7201a8\"],[0.3333333333333333,\"#9c179e\"],[0.4444444444444444,\"#bd3786\"],[0.5555555555555556,\"#d8576b\"],[0.6666666666666666,\"#ed7953\"],[0.7777777777777778,\"#fb9f3a\"],[0.8888888888888888,\"#fdca26\"],[1.0,\"#f0f921\"]],\"sequentialminus\":[[0.0,\"#0d0887\"],[0.1111111111111111,\"#46039f\"],[0.2222222222222222,\"#7201a8\"],[0.3333333333333333,\"#9c179e\"],[0.4444444444444444,\"#bd3786\"],[0.5555555555555556,\"#d8576b\"],[0.6666666666666666,\"#ed7953\"],[0.7777777777777778,\"#fb9f3a\"],[0.8888888888888888,\"#fdca26\"],[1.0,\"#f0f921\"]],\"diverging\":[[0,\"#8e0152\"],[0.1,\"#c51b7d\"],[0.2,\"#de77ae\"],[0.3,\"#f1b6da\"],[0.4,\"#fde0ef\"],[0.5,\"#f7f7f7\"],[0.6,\"#e6f5d0\"],[0.7,\"#b8e186\"],[0.8,\"#7fbc41\"],[0.9,\"#4d9221\"],[1,\"#276419\"]]},\"xaxis\":{\"gridcolor\":\"white\",\"linecolor\":\"white\",\"ticks\":\"\",\"title\":{\"standoff\":15},\"zerolinecolor\":\"white\",\"automargin\":true,\"zerolinewidth\":2},\"yaxis\":{\"gridcolor\":\"white\",\"linecolor\":\"white\",\"ticks\":\"\",\"title\":{\"standoff\":15},\"zerolinecolor\":\"white\",\"automargin\":true,\"zerolinewidth\":2},\"scene\":{\"xaxis\":{\"backgroundcolor\":\"#E5ECF6\",\"gridcolor\":\"white\",\"linecolor\":\"white\",\"showbackground\":true,\"ticks\":\"\",\"zerolinecolor\":\"white\",\"gridwidth\":2},\"yaxis\":{\"backgroundcolor\":\"#E5ECF6\",\"gridcolor\":\"white\",\"linecolor\":\"white\",\"showbackground\":true,\"ticks\":\"\",\"zerolinecolor\":\"white\",\"gridwidth\":2},\"zaxis\":{\"backgroundcolor\":\"#E5ECF6\",\"gridcolor\":\"white\",\"linecolor\":\"white\",\"showbackground\":true,\"ticks\":\"\",\"zerolinecolor\":\"white\",\"gridwidth\":2}},\"shapedefaults\":{\"line\":{\"color\":\"#2a3f5f\"}},\"annotationdefaults\":{\"arrowcolor\":\"#2a3f5f\",\"arrowhead\":0,\"arrowwidth\":1},\"geo\":{\"bgcolor\":\"white\",\"landcolor\":\"#E5ECF6\",\"subunitcolor\":\"white\",\"showland\":true,\"showlakes\":true,\"lakecolor\":\"white\"},\"title\":{\"x\":0.05},\"mapbox\":{\"style\":\"light\"}}},\"xaxis\":{\"anchor\":\"y\",\"domain\":[0.0,1.0],\"title\":{\"text\":\"index\"}},\"yaxis\":{\"anchor\":\"x\",\"domain\":[0.0,1.0],\"title\":{\"text\":\"value\"}},\"legend\":{\"title\":{\"text\":\"source\"},\"tracegroupgap\":0},\"title\":{\"text\":\"Zipf's law test\"}},                        {\"responsive\": true}                    ).then(function(){\n",
       "                            \n",
       "var gd = document.getElementById('ba188e47-ef63-4b24-90ed-4fa62a422b06');\n",
       "var x = new MutationObserver(function (mutations, observer) {{\n",
       "        var display = window.getComputedStyle(gd).display;\n",
       "        if (!display || display === 'none') {{\n",
       "            console.log([gd, 'removed!']);\n",
       "            Plotly.purge(gd);\n",
       "            observer.disconnect();\n",
       "        }}\n",
       "}});\n",
       "\n",
       "// Listen for the removal of the full notebook cells\n",
       "var notebookContainer = gd.closest('#notebook-container');\n",
       "if (notebookContainer) {{\n",
       "    x.observe(notebookContainer, {childList: true});\n",
       "}}\n",
       "\n",
       "// Listen for the clearing of the current output cell\n",
       "var outputEl = gd.closest('.output');\n",
       "if (outputEl) {{\n",
       "    x.observe(outputEl, {childList: true});\n",
       "}}\n",
       "\n",
       "                        })                };                });            </script>        </div>"
      ]
     },
     "metadata": {},
     "output_type": "display_data"
    }
   ],
   "source": [
    "fig = px.line(all_distr[all_distr.source=='gpt4o'], title=\"Zipf's law test\", color = 'source')\n",
    "fig.update_traces(line_color='red')\n",
    "fig.show()"
   ]
  },
  {
   "cell_type": "code",
   "execution_count": 84,
   "id": "9f5d7d6d-92c8-4c8b-abc8-b0af6b71fd54",
   "metadata": {},
   "outputs": [],
   "source": [
    "# let's play with separate texts\n",
    "# human text\n",
    "human_text_stat = parallel_texts.iloc[42].human_counts[:100]\n",
    "freq_to_range_ratio = [freq / (i + 1) for i, freq in enumerate(human_text_stat)]\n",
    "norm_coef = sum(freq_to_range_ratio)\n",
    "hum_normalized_distribution = pd.DataFrame([item / norm_coef for item in freq_to_range_ratio])\n",
    "hum_normalized_distribution['source'] = 'human'"
   ]
  },
  {
   "cell_type": "code",
   "execution_count": 85,
   "id": "86f8cd01-bfd7-4283-a660-a4af7ade977d",
   "metadata": {},
   "outputs": [],
   "source": [
    "# gpt4 text\n",
    "gpt4_text_stat = parallel_texts.iloc[42].gpt4o_counts[:100]\n",
    "freq_to_range_ratio = [freq / (i + 1) for i, freq in enumerate(gpt4_text_stat)]\n",
    "norm_coef = sum(freq_to_range_ratio)\n",
    "gpt_normalized_distribution = pd.DataFrame([item / norm_coef for item in freq_to_range_ratio])\n",
    "gpt_normalized_distribution['source'] = 'gpt4o'"
   ]
  },
  {
   "cell_type": "code",
   "execution_count": 86,
   "id": "01f028b1-453a-489b-887e-00db11e8b903",
   "metadata": {},
   "outputs": [],
   "source": [
    "# llama text\n",
    "llama_text_stat = parallel_texts.iloc[42].llama3_70b_counts\n",
    "freq_to_range_ratio = [freq / (i + 1) for i, freq in enumerate(llama_text_stat)]\n",
    "norm_coef = sum(freq_to_range_ratio)\n",
    "llama_normalized_distribution = pd.DataFrame([item / norm_coef for item in freq_to_range_ratio])\n",
    "llama_normalized_distribution['source'] = 'llama3_70b_counts'"
   ]
  },
  {
   "cell_type": "code",
   "execution_count": 88,
   "id": "9c7329ce-01d4-438d-9acd-63883872021d",
   "metadata": {},
   "outputs": [],
   "source": [
    "# claude text\n",
    "claude_text_stat = parallel_texts.iloc[42].claude3_counts\n",
    "freq_to_range_ratio = [freq / (i + 1) for i, freq in enumerate(claude_text_stat)]\n",
    "norm_coef = sum(freq_to_range_ratio)\n",
    "claude_normalized_distribution = pd.DataFrame([item / norm_coef for item in freq_to_range_ratio])\n",
    "claude_normalized_distribution['source'] = 'claude3'"
   ]
  },
  {
   "cell_type": "code",
   "execution_count": 90,
   "id": "986ef2cc-1b92-4fb3-b6d2-ff1837d4cd45",
   "metadata": {},
   "outputs": [
    {
     "data": {
      "application/vnd.plotly.v1+json": {
       "config": {
        "plotlyServerURL": "https://plot.ly"
       },
       "data": [
        {
         "hovertemplate": "source=human<br>variable=0<br>index=%{x}<br>value=%{y}<extra></extra>",
         "legendgroup": "human",
         "line": {
          "color": "#636efa",
          "dash": "solid"
         },
         "marker": {
          "symbol": "circle"
         },
         "mode": "lines",
         "name": "human",
         "orientation": "v",
         "showlegend": true,
         "type": "scatter",
         "x": [
          0,
          1,
          2,
          3,
          4,
          5,
          6,
          7,
          8,
          9,
          10,
          11,
          12,
          13,
          14,
          15,
          16,
          17,
          18,
          19,
          20,
          21,
          22,
          23,
          24,
          25,
          26,
          27,
          28,
          29,
          30,
          31,
          32,
          33,
          34,
          35,
          36,
          37,
          38,
          39,
          40,
          41,
          42,
          43,
          44,
          45,
          46,
          47,
          48,
          49,
          50,
          51,
          52,
          53,
          54,
          55,
          56,
          57,
          58,
          59,
          60,
          61,
          62,
          63,
          64,
          65,
          66,
          67,
          68,
          69,
          70,
          71,
          72,
          73,
          74,
          75,
          76,
          77,
          78,
          79,
          80,
          81,
          82,
          83,
          84,
          85,
          86,
          87,
          88,
          89,
          90,
          91,
          92,
          93,
          94,
          95,
          96,
          97,
          98,
          99
         ],
         "xaxis": "x",
         "y": [
          0.5351263012959713,
          0.12674043978062477,
          0.07510544579592579,
          0.052808516575260325,
          0.03943035904286104,
          0.02816454217347217,
          0.020117530123908694,
          0.015842554972578096,
          0.014082271086736086,
          0.012674043978062478,
          0.010241651699444427,
          0.008214658133929385,
          0.006499509732339733,
          0.006035259037172608,
          0.0037552722897962894,
          0.0035205677716840214,
          0.0024851066623651917,
          0.002347045181122681,
          0.001482344324919588,
          0.0014082271086736087,
          0.0013411686749272463,
          0.0012802064624305534,
          0.0012245453118900943,
          0.0011735225905613405,
          0.0011265816869388868,
          0.001083251622056622,
          0.0010431311916100803,
          0.0010058765061954347,
          0.0009711911094300749,
          0.0009388180724490724,
          0.0009085336184991023,
          0.0008801419429210054,
          0.0008534709749537022,
          0.0008283688874550639,
          0.0008047012049563478,
          0.0007823483937075604,
          0.000761203842526275,
          0.000741172162459794,
          0.000722167748037748,
          0.0007041135543368044,
          0.0006869400530115164,
          0.0006705843374636231,
          0.0006549893528714458,
          0.0006401032312152767,
          0.0006258787149660483,
          0.0006122726559450472,
          0.0002996227890794912,
          0.0002933806476403351,
          0.0002873932874844099,
          0.0002816454217347217,
          0.00027612296248502127,
          0.0002708129055141555,
          0.00026570322805162424,
          0.0002607827979025201,
          0.00025604129248611067,
          0.0002514691265488587,
          0.000247057387486598,
          0.00024279777735751871,
          0.00023868256079213705,
          0.0002347045181122681,
          0.00023085690306124732,
          0.00022713340462477557,
          0.00022352811248787437,
          0.00022003548573025134,
          0.00021665032441132442,
          0.00021336774373842556,
          0.00021018315054829978,
          0.00020709222186376597,
          0.00020409088531501575,
          0.00020117530123908695,
          0.00019834184629205755,
          0.0001955870984268901,
          0.00019290782310597376,
          0.00019030096063156875,
          0.0001877636144898145,
          0.0001852930406149485,
          0.00018288663749007906,
          0.000180541937009437,
          0.000178256596034634,
          0.0001760283885842011,
          0.00017385519860168007,
          0.0001717350132528791,
          0.00016966591670766369,
          0.00016764608436590578,
          0.00016567377749101279,
          0.00016374733821786146,
          0.0001618651849050125,
          0.00016002580780381917,
          0.00015822776501950658,
          0.0001564696787415121,
          0.0001547502317223746,
          0.0001530681639862618,
          0.0001514222697498504,
          0.0001498113945397456,
          0.0001482344324919588,
          0.00014669032382016756,
          0.0001451780524405782,
          0.00014369664374220496,
          0.0001422451624922837,
          0.00014082271086736085
         ],
         "yaxis": "y"
        },
        {
         "hovertemplate": "source=gpt4o<br>variable=0<br>index=%{x}<br>value=%{y}<extra></extra>",
         "legendgroup": "gpt4o",
         "line": {
          "color": "#EF553B",
          "dash": "solid"
         },
         "marker": {
          "symbol": "circle"
         },
         "mode": "lines",
         "name": "gpt4o",
         "orientation": "v",
         "showlegend": true,
         "type": "scatter",
         "x": [
          0,
          1,
          2,
          3,
          4,
          5,
          6,
          7,
          8,
          9,
          10,
          11,
          12,
          13,
          14,
          15,
          16,
          17,
          18,
          19,
          20,
          21,
          22,
          23,
          24,
          25,
          26,
          27,
          28,
          29,
          30,
          31,
          32,
          33,
          34,
          35,
          36,
          37,
          38,
          39,
          40,
          41,
          42,
          43,
          44,
          45,
          46,
          47,
          48,
          49,
          50,
          51,
          52,
          53,
          54,
          55,
          56,
          57,
          58,
          59,
          60,
          61,
          62,
          63,
          64,
          65,
          66,
          67,
          68,
          69,
          70,
          71,
          72,
          73,
          74,
          75,
          76,
          77,
          78,
          79,
          80,
          81,
          82,
          83,
          84,
          85,
          86,
          87,
          88,
          89,
          90,
          91,
          92,
          93,
          94,
          95,
          96,
          97,
          98,
          99
         ],
         "xaxis": "x",
         "y": [
          0.4325636835992277,
          0.19170435977693046,
          0.07864794247258686,
          0.05898595685444014,
          0.037357772674478755,
          0.02457748202268339,
          0.019661985618146714,
          0.014746489213610036,
          0.012015657877756327,
          0.010814092089980694,
          0.009830992809073357,
          0.009011743408317244,
          0.008318532376908225,
          0.007022137720766684,
          0.005898595685444014,
          0.005529933455103764,
          0.005204643251862365,
          0.004369330137365936,
          0.003621944719132289,
          0.002949297842722007,
          0.002808855088306673,
          0.0026811798570200063,
          0.002564606819758267,
          0.0024577482022683393,
          0.0019661985618146713,
          0.0018905755402064148,
          0.0018205542239024734,
          0.001755534430191671,
          0.0016949987601850617,
          0.0016384988015122261,
          0.0012685152011707556,
          0.0012288741011341696,
          0.0011916354920088919,
          0.0011565873893027477,
          0.0011235420353226692,
          0.001092332534341484,
          0.0010628100334133359,
          0.0010348413483235112,
          0.0010083069547767544,
          0.0009830992809073357,
          0.0009591212496656933,
          0.0009362850294355577,
          0.0009145109589835681,
          0.0008937266190066688,
          0.0008738660274731873,
          0.0006411517049395668,
          0.0006275101793025546,
          0.0006144370505670848,
          0.0006018975189228586,
          0.0005898595685444014,
          0.0005782936946513739,
          0.0005671726620619245,
          0.000556471291079624,
          0.000546166267170742,
          0.0005362359714040012,
          0.0005266603290575013,
          0.0005174206741617556,
          0.0005084996280555184,
          0.0004998809902918656,
          0.0004915496404536678,
          0.00048349144962655854,
          0.0004756932004390334,
          0.0004681425147177789,
          0.0004608277879253136,
          0.00045373812964953956,
          0.0004468633095033344,
          0.00044019370786895623,
          0.00043372027098853046,
          0.00042743446995971115,
          0.000421328263246001,
          0.0004153940623552123,
          0.00040962470037805653,
          0.0002693422687417358,
          0.00026570250835333397,
          0.0002621598082419562,
          0.0002587103370808778,
          0.00025535046257333397,
          0.0002520767386941886,
          0.0002488858939005913,
          0.0002457748202268339,
          0.00024274056318699644,
          0.00023978031241642334,
          0.00023689139298971947,
          0.00023407125735888944,
          0.00023131747786054956,
          0.00022862773974589203,
          0.00022599983469134155,
          0.0002234316547516672,
          0.00022092118672074957,
          0.00021846650686829682,
          0.0002160657760235903,
          0.00021371723497985557,
          0.00021141920019512598,
          0.00020917005976751822,
          0.00020696826966470224,
          0.00020481235018902826,
          0.00020270088266130632,
          0.00020063250630761951,
          0.0001986059153348153,
          0.00019661985618146715
         ],
         "yaxis": "y"
        },
        {
         "hovertemplate": "source=llama3_70b_counts<br>variable=0<br>index=%{x}<br>value=%{y}<extra></extra>",
         "legendgroup": "llama3_70b_counts",
         "line": {
          "color": "#00cc96",
          "dash": "solid"
         },
         "marker": {
          "symbol": "circle"
         },
         "mode": "lines",
         "name": "llama3_70b_counts",
         "orientation": "v",
         "showlegend": true,
         "type": "scatter",
         "x": [
          0,
          1,
          2,
          3,
          4,
          5,
          6,
          7,
          8,
          9,
          10,
          11,
          12,
          13,
          14,
          15,
          16,
          17,
          18,
          19,
          20,
          21,
          22,
          23,
          24,
          25,
          26,
          27,
          28,
          29,
          30,
          31,
          32,
          33,
          34,
          35,
          36,
          37,
          38,
          39,
          40,
          41,
          42,
          43,
          44,
          45,
          46,
          47,
          48,
          49,
          50,
          51,
          52,
          53,
          54,
          55,
          56,
          57,
          58,
          59,
          60,
          61,
          62,
          63,
          64,
          65,
          66,
          67,
          68,
          69,
          70,
          71,
          72,
          73,
          74,
          75,
          76,
          77,
          78,
          79,
          80,
          81,
          82,
          83,
          84,
          85,
          86,
          87,
          88,
          89,
          90,
          91,
          92,
          93,
          94,
          95,
          96,
          97,
          98,
          99,
          100,
          101,
          102,
          103,
          104,
          105,
          106,
          107,
          108,
          109,
          110,
          111,
          112,
          113,
          114,
          115,
          116,
          117,
          118,
          119,
          120,
          121,
          122,
          123,
          124,
          125,
          126,
          127,
          128,
          129,
          130,
          131,
          132,
          133,
          134,
          135,
          136,
          137,
          138,
          139,
          140,
          141,
          142,
          143,
          144,
          145,
          146,
          147,
          148,
          149,
          150,
          151,
          152,
          153,
          154,
          155,
          156,
          157,
          158,
          159,
          160,
          161,
          162,
          163,
          164,
          165,
          166,
          167,
          168,
          169,
          170,
          171,
          172,
          173,
          174,
          175,
          176,
          177,
          178,
          179,
          180,
          181,
          182,
          183,
          184,
          185,
          186,
          187,
          188,
          189,
          190,
          191,
          192,
          193,
          194,
          195,
          196,
          197,
          198,
          199,
          200,
          201,
          202,
          203,
          204,
          205,
          206,
          207,
          208,
          209,
          210,
          211,
          212,
          213,
          214,
          215,
          216,
          217,
          218,
          219,
          220,
          221,
          222,
          223,
          224,
          225,
          226,
          227,
          228,
          229,
          230,
          231,
          232,
          233,
          234,
          235,
          236,
          237,
          238,
          239,
          240,
          241,
          242,
          243,
          244,
          245,
          246,
          247,
          248,
          249,
          250,
          251,
          252,
          253,
          254,
          255,
          256,
          257,
          258,
          259,
          260,
          261,
          262,
          263,
          264,
          265,
          266,
          267,
          268,
          269,
          270,
          271,
          272,
          273,
          274,
          275,
          276,
          277,
          278,
          279,
          280,
          281,
          282,
          283,
          284,
          285,
          286,
          287,
          288,
          289,
          290,
          291,
          292,
          293,
          294,
          295,
          296,
          297,
          298,
          299,
          300,
          301,
          302,
          303,
          304,
          305,
          306,
          307,
          308,
          309,
          310,
          311,
          312
         ],
         "xaxis": "x",
         "y": [
          0.5080136508548765,
          0.12700341271371912,
          0.0818466437488412,
          0.050801365085487646,
          0.03386757672365843,
          0.028222980603048693,
          0.01935290098494767,
          0.013758703043986237,
          0.0122299582613211,
          0.010160273017097527,
          0.009236611833725025,
          0.00776131966583839,
          0.0065129955237804675,
          0.005443003402016534,
          0.005080136508548764,
          0.004762627976764466,
          0.003984420791018638,
          0.003763064080406492,
          0.0031193820666527497,
          0.0029634129633201124,
          0.002419112623118459,
          0.0023091529584312563,
          0.002208755003716854,
          0.0021167235452286518,
          0.0020320546034195055,
          0.0019538986571341404,
          0.0015679433668360384,
          0.001511945389449037,
          0.0014598093415370014,
          0.0014111490301524344,
          0.0013656280936959044,
          0.0013229522157679073,
          0.0012828627546840315,
          0.0012451314971933247,
          0.0012095563115592295,
          0.001175957525127029,
          0.0009153399114502278,
          0.0008912520190436428,
          0.000868399403170729,
          0.0008466894180914607,
          0.0008260384566745959,
          0.0008063708743728196,
          0.0007876180633408936,
          0.0007697176528104188,
          0.0007526128160812984,
          0.000736251667905618,
          0.0007205867388012431,
          0.0007055745150762172,
          0.0006911750351767026,
          0.0005080136508548764,
          0.0004980525988773298,
          0.0004884746642835351,
          0.0004792581611838457,
          0.0004703830100508115,
          0.00046183059168625125,
          0.0004535836168347111,
          0.0004456260095218214,
          0.00043794280246110037,
          0.00043052004309735293,
          0.00042334470904573036,
          0.00041640463184825936,
          0.0004096884281087713,
          0.0004031854371864098,
          0.00039688566473037223,
          0.000390779731426828,
          0.0003848588264052094,
          0.00037911466481707195,
          0.0002490262994386649,
          0.000245417222635206,
          0.00024191126231184592,
          0.0002385040614342143,
          0.00023519150502540574,
          0.00023196970358670154,
          0.00022883497786255696,
          0.00022578384482438955,
          0.0002228130047609107,
          0.0002199193293744054,
          0.00021709985079268224,
          0.00021435175141555968,
          0.00021167235452286518,
          0.00020905911557813844,
          0.00020650961416864897,
          0.00020402154652806283,
          0.0002015927185932049,
          0.00019922103955093194,
          0.0001969045158352234,
          0.00019464124553826684,
          0.0001924294132026047,
          0.00019026728496437318,
          0.0001881532040203246,
          0.00018608558639372763,
          0.0001840629169764045,
          0.0001820837458261206,
          0.00018014668470031078,
          0.00017825040380872856,
          0.0001763936287690543,
          0.00017457513775081664,
          0.00017279375879417566,
          0.0001710483672912042,
          0.00016933788361829215,
          0.00016766127090920015,
          0.00016601753295910994,
          0.00016440571225076906,
          0.0001628248880945117,
          0.00016127417487456395,
          0.00015975272039461523,
          0.00015825970431616087,
          0.00015679433668360382,
          0.00015535585653054325,
          0.00015394353056208377,
          0.0001525566519083713,
          0.00015119453894490368,
          7.492826708773989e-05,
          7.427100158697023e-05,
          7.36251667905618e-05,
          7.299046707685006e-05,
          7.236661693089408e-05,
          7.175334051622549e-05,
          7.115037126818997e-05,
          7.055745150762173e-05,
          6.997433207367444e-05,
          6.94007719747099e-05,
          6.883653805621632e-05,
          6.828140468479522e-05,
          6.773515344731685e-05,
          6.719757286440164e-05,
          6.666845811743786e-05,
          6.614761078839537e-05,
          6.563483861174114e-05,
          6.512995523780467e-05,
          6.463278000698173e-05,
          6.414313773420157e-05,
          6.366085850311735e-05,
          6.318577746951199e-05,
          6.271773467344154e-05,
          6.225657485966623e-05,
          6.180214730594603e-05,
          6.13543056588015e-05,
          6.0912907776364084e-05,
          6.047781557796148e-05,
          6.00488949001036e-05,
          5.9626015358553576e-05,
          5.920905021618606e-05,
          5.8797876256351434e-05,
          5.8392373661480046e-05,
          5.7992425896675386e-05,
          5.759791959805855e-05,
          5.720874446563924e-05,
          5.6824793160500715e-05,
          5.644596120609739e-05,
          5.607214689347422e-05,
          5.5703251190227674e-05,
          5.533917765303665e-05,
          5.497983234360135e-05,
          5.4625123747836176e-05,
          5.427496269817056e-05,
          5.392926229881916e-05,
          5.358793785388992e-05,
          5.325090679820508e-05,
          5.2918088630716295e-05,
          5.2589404850401285e-05,
          5.226477889453461e-05,
          5.194413607923072e-05,
          5.162740354216224e-05,
          5.1314510187361254e-05,
          5.100538663201571e-05,
          5.069996515517729e-05,
          5.039817964830123e-05,
          5.0099965567542055e-05,
          4.9805259887732986e-05,
          4.9514001057980154e-05,
          4.922612895880585e-05,
          4.894158486077807e-05,
          4.866031138456671e-05,
          4.8382252462369185e-05,
          4.810735330065118e-05,
          4.7835560344150324e-05,
          4.7566821241093296e-05,
          4.7301084809578814e-05,
          4.703830100508115e-05,
          4.6778420889030976e-05,
          4.652139659843191e-05,
          4.6267181316473265e-05,
          4.6015729244101126e-05,
          4.5766995572511396e-05,
          4.552093645653015e-05,
          4.527750898884817e-05,
          4.5036671175077695e-05,
          4.479838190960109e-05,
          4.456260095218214e-05,
          4.432928890531208e-05,
          4.4098407192263574e-05,
          4.386991803582698e-05,
          4.364378443770416e-05,
          4.3419970158536445e-05,
          4.3198439698543914e-05,
          4.297915827875435e-05,
          4.276209182280105e-05,
          4.254720693926938e-05,
          4.233447090457304e-05,
          4.212385164634133e-05,
          4.191531772730004e-05,
          4.1708838329628604e-05,
          4.1504383239777486e-05,
          4.130192283372979e-05,
          4.1101428062692265e-05,
          4.0902870439201e-05,
          4.070622202362792e-05,
          4.0511455411074675e-05,
          4.031854371864099e-05,
          4.012746057305501e-05,
          3.993818009865381e-05,
          3.975067690570238e-05,
          3.956492607904022e-05,
          3.9380903167044685e-05,
          3.9198584170900956e-05,
          3.90179455341687e-05,
          3.883896413263581e-05,
          3.866161726445026e-05,
          3.848588264052094e-05,
          3.831173837517922e-05,
          3.813916297709282e-05,
          3.7968135340424245e-05,
          3.779863473622592e-05,
          3.763064080406492e-05,
          3.7464133543869945e-05,
          3.729909330799387e-05,
          3.7135500793485114e-05,
          3.69733370345616e-05,
          3.68125833952809e-05,
          3.6653221562400896e-05,
          3.649523353842503e-05,
          3.633860163482664e-05,
          3.618330846544704e-05,
          3.602933694006216e-05,
          3.5876670258112745e-05,
          3.572529190259328e-05,
          3.557518563409499e-05,
          3.542633548499835e-05,
          3.5278725753810866e-05,
          3.513234099964567e-05,
          3.498716603683722e-05,
          3.484318592968975e-05,
          3.470038598735495e-05,
          3.455875175883513e-05,
          3.441826902810816e-05,
          3.427892380937088e-05,
          3.414070234239761e-05,
          3.400359108801047e-05,
          3.3867576723658426e-05,
          3.373264613910202e-05,
          3.359878643220082e-05,
          3.3465984904800815e-05,
          3.333422905871893e-05,
          3.3203506591821986e-05,
          3.3073805394197684e-05,
          3.2945113544414814e-05,
          3.281741930587057e-05,
          3.269071112322242e-05,
          3.256497761890234e-05,
          3.2440207589711135e-05,
          3.231639000349087e-05,
          3.219351399587303e-05,
          3.207156886710078e-05,
          3.1950544078923046e-05,
          3.1830429251558674e-05,
          3.1711214160728866e-05,
          3.159288873475599e-05,
          3.147544305172716e-05,
          3.135886733672077e-05,
          3.124315195909449e-05,
          3.112828742983311e-05,
          3.1014264398954606e-05,
          3.090107365297302e-05,
          3.078870611241675e-05,
          3.067715282940075e-05,
          3.056640498525129e-05,
          3.0456453888182042e-05,
          3.0347290971020098e-05,
          3.023890778898074e-05,
          3.0131296017489705e-05,
          3.00244474500518e-05,
          2.9918353996164688e-05,
          2.9813007679276788e-05,
          2.9708400634788095e-05,
          2.960452510809303e-05,
          2.9501373452664136e-05,
          2.9398938128175717e-05,
          2.929721169866646e-05,
          2.9196186830740023e-05,
          2.9095856291802772e-05,
          2.8996212948337693e-05,
          2.8897249764213677e-05,
          2.8798959799029274e-05,
          2.8701336206490194e-05,
          2.860437223281962e-05,
          2.8508061215200696e-05,
          2.8412396580250357e-05,
          2.831737184252377e-05,
          2.8222980603048694e-05,
          2.812921654788906e-05,
          2.803607344673711e-05,
          2.7943545151533358e-05,
          2.7851625595113837e-05,
          2.7760308789883957e-05,
          2.7669588826518325e-05,
          2.7579459872686018e-05,
          2.7489916171800673e-05,
          2.7400952041794848e-05,
          2.7312561873918088e-05,
          2.7224740131558223e-05,
          2.713748134908528e-05,
          2.7050780130717594e-05
         ],
         "yaxis": "y"
        },
        {
         "hovertemplate": "source=claude3<br>variable=0<br>index=%{x}<br>value=%{y}<extra></extra>",
         "legendgroup": "claude3",
         "line": {
          "color": "#ab63fa",
          "dash": "solid"
         },
         "marker": {
          "symbol": "circle"
         },
         "mode": "lines",
         "name": "claude3",
         "orientation": "v",
         "showlegend": true,
         "type": "scatter",
         "x": [
          0,
          1,
          2,
          3,
          4,
          5,
          6,
          7,
          8,
          9,
          10,
          11,
          12,
          13,
          14,
          15,
          16,
          17,
          18,
          19,
          20,
          21,
          22,
          23,
          24,
          25,
          26,
          27,
          28,
          29,
          30,
          31,
          32,
          33,
          34,
          35,
          36,
          37,
          38,
          39,
          40,
          41,
          42,
          43,
          44,
          45,
          46,
          47,
          48,
          49,
          50,
          51,
          52,
          53,
          54,
          55,
          56,
          57,
          58,
          59,
          60,
          61,
          62,
          63,
          64,
          65,
          66,
          67,
          68,
          69,
          70,
          71,
          72,
          73,
          74,
          75,
          76,
          77,
          78,
          79,
          80,
          81,
          82,
          83,
          84,
          85,
          86,
          87,
          88,
          89,
          90,
          91,
          92,
          93,
          94,
          95,
          96,
          97,
          98,
          99,
          100,
          101,
          102,
          103,
          104,
          105,
          106,
          107,
          108,
          109,
          110,
          111,
          112,
          113,
          114,
          115,
          116,
          117,
          118,
          119,
          120,
          121,
          122,
          123,
          124,
          125,
          126,
          127,
          128,
          129,
          130,
          131,
          132,
          133,
          134,
          135,
          136,
          137,
          138,
          139,
          140,
          141,
          142,
          143,
          144,
          145,
          146,
          147,
          148,
          149,
          150,
          151,
          152,
          153,
          154,
          155,
          156,
          157,
          158,
          159,
          160,
          161,
          162,
          163,
          164,
          165,
          166,
          167,
          168,
          169,
          170,
          171,
          172,
          173,
          174,
          175,
          176,
          177,
          178,
          179,
          180,
          181,
          182,
          183,
          184,
          185,
          186,
          187,
          188,
          189,
          190,
          191,
          192,
          193,
          194,
          195,
          196,
          197,
          198,
          199,
          200,
          201,
          202,
          203,
          204,
          205,
          206,
          207,
          208,
          209,
          210,
          211,
          212,
          213,
          214,
          215,
          216,
          217,
          218,
          219,
          220,
          221,
          222,
          223,
          224,
          225,
          226,
          227,
          228,
          229,
          230,
          231,
          232,
          233,
          234,
          235,
          236,
          237,
          238,
          239,
          240,
          241,
          242,
          243,
          244,
          245,
          246,
          247,
          248,
          249,
          250,
          251,
          252,
          253,
          254,
          255,
          256,
          257,
          258,
          259,
          260,
          261,
          262,
          263,
          264,
          265,
          266,
          267,
          268,
          269,
          270,
          271,
          272,
          273,
          274,
          275,
          276,
          277,
          278,
          279,
          280,
          281,
          282,
          283,
          284,
          285,
          286,
          287,
          288,
          289,
          290,
          291,
          292,
          293,
          294,
          295,
          296,
          297,
          298,
          299,
          300,
          301,
          302,
          303,
          304,
          305,
          306,
          307,
          308,
          309,
          310,
          311,
          312,
          313,
          314,
          315,
          316,
          317,
          318,
          319,
          320,
          321,
          322,
          323,
          324,
          325,
          326,
          327,
          328,
          329,
          330,
          331,
          332,
          333,
          334,
          335,
          336,
          337,
          338,
          339,
          340,
          341,
          342,
          343,
          344,
          345,
          346,
          347,
          348,
          349,
          350,
          351,
          352,
          353
         ],
         "xaxis": "x",
         "y": [
          0.4743111523639177,
          0.13607287157981246,
          0.08034779083760354,
          0.056373046797350876,
          0.04043308184085856,
          0.03369423486738213,
          0.025548375888454582,
          0.016523134406120084,
          0.012095366362649997,
          0.01010827046021464,
          0.008482464721858438,
          0.007775592661703569,
          0.007177470149264833,
          0.006109394234195661,
          0.0051837284411357125,
          0.004859745413564731,
          0.004116490232666596,
          0.0034558189607571416,
          0.0032739337522962393,
          0.002721457431596249,
          0.0025918642205678562,
          0.0021206161804646095,
          0.0020284154769661484,
          0.0019438981654258923,
          0.0018661422388088565,
          0.0017943675373162083,
          0.0014399245669821422,
          0.001388498689589923,
          0.00134061942443165,
          0.0012959321102839281,
          0.0012541278486618659,
          0.0012149363533911826,
          0.0011781201002581164,
          0.0011434695090740542,
          0.0011107989516719384,
          0.0010799434252366069,
          0.001050755765095077,
          0.0008184834380740598,
          0.000797496683251648,
          0.000777559266170357,
          0.0007585944060198604,
          0.0007405326344479589,
          0.0007233109452747505,
          0.0007068720601548699,
          0.0006911637921514284,
          0.0006761384923220494,
          0.0006617525669534952,
          0.0006479660551419641,
          0.0006347422580982504,
          0.0004665355597022141,
          0.0004573878036296217,
          0.00044859188432905207,
          0.0004401278865115228,
          0.0004319773700946427,
          0.0004241232360929219,
          0.0004165496068769769,
          0.0004092417190370299,
          0.00040218582732949495,
          0.00039536911839170694,
          0.0003887796330851785,
          0.0003824061964772247,
          0.00037623835459855976,
          0.00037026631722397946,
          0.00036448090601735476,
          0.0003588735074632417,
          0.00035343603007743495,
          0.0003481608654494135,
          0.00034304085272221627,
          0.0003380692461610247,
          0.00033323968550158154,
          0.00032854616880437617,
          0.00032398302757098203,
          0.0003195449039056261,
          0.0003152267295285231,
          0.0003110237064681428,
          0.00030693128927777245,
          0.00020196344575853427,
          0.000199374170812912,
          0.00019685044713173592,
          0.00019438981654258924,
          0.00019198994226428563,
          0.0001896486015049651,
          0.00018736367859526672,
          0.00018513315861198973,
          0.00018295512145184869,
          0.00018082773631868763,
          0.00017874925659088663,
          0.00017671801503871747,
          0.00017473241936412514,
          0.0001727909480378571,
          0.00017089214641106745,
          0.00016903462308051235,
          0.0001672170464882488,
          0.0001654381417383738,
          0.00016369668761481197,
          0.00016199151378549101,
          0.00016032149817945502,
          0.0001586855645245626,
          0.00015708268003441554,
          0.0001555118532340714,
          0.00015397213191492215,
          0.0001524626012098739,
          0.0001509823817806518,
          0.00014953062810968402,
          0.0001481065268895918,
          0.00014670929550384093,
          0.00014533818059259007,
          0.00014399245669821423,
          0.0001426714249853866,
          0.00014137441203097397,
          0.00014010076867934358,
          0.0001388498689589923,
          0.00013762110905670032,
          0.00013641390634567665,
          0.0001352276984644099,
          0.00013406194244316497,
          0.0001329161138752747,
          0.00013178970613056897,
          0.00013068222960846334,
          0.00012959321102839282,
          0.0001285221927554309,
          0.0001274687321590749,
          0.00012643240100331006,
          0.0001254127848661866,
          0.0001244094825872571,
          0.0001234221057413265,
          0.00012245027813706408,
          0.00012149363533911827,
          0.00012055182421245843,
          0.00011962450248774722,
          0.00011871133834661937,
          0.00011781201002581165,
          0.0001169262054391514,
          0.00011605362181647118,
          0.0001151939653585714,
          0.00011434695090740542,
          0.00011351230163070902,
          0.00011268974872034158,
          0.00011187903110364848,
          0.00011107989516719384,
          0.0001102920944922492,
          5.475769480072936e-05,
          5.437477385806691e-05,
          5.399717126183034e-05,
          5.3624776977265994e-05,
          5.325748398427102e-05,
          5.2895188174854206e-05,
          5.2537788254753844e-05,
          5.218518564901724e-05,
          5.183728441135713e-05,
          5.1493991137109725e-05,
          5.115521487962874e-05,
          5.0820867069957965e-05,
          5.049086143963357e-05,
          5.0165113946474636e-05,
          4.9843542703228e-05,
          4.952606790893993e-05,
          4.921261178293398e-05,
          4.890309850128031e-05,
          4.859745413564731e-05,
          4.82956065944321e-05,
          4.799748556607141e-05,
          4.7703022464439075e-05,
          4.741215037624128e-05,
          4.712480401032466e-05,
          4.684091964881668e-05,
          4.6560435100021375e-05,
          4.628328965299743e-05,
          4.600942403374893e-05,
          4.573878036296217e-05,
          4.547130211522554e-05,
          4.520693407967191e-05,
          4.494562232198595e-05,
          4.468731414772166e-05,
          4.4431958066877536e-05,
          4.417950375967937e-05,
          4.3929902043522985e-05,
          4.3683104841031285e-05,
          4.343906514918195e-05,
          4.3197737009464275e-05,
          4.295907547902524e-05,
          4.272303660276686e-05,
          4.24895773863583e-05,
          4.225865577012809e-05,
          4.203023060380308e-05,
          4.18042616220622e-05,
          4.15807094208747e-05,
          4.135953543459345e-05,
          4.114070191377549e-05,
          4.092417190370299e-05,
          4.07099092235789e-05,
          4.0497878446372754e-05,
          4.02880448792931e-05,
          4.0080374544863754e-05,
          3.9874834162582404e-05,
          3.967139113114065e-05,
          3.9470013511185626e-05,
          3.9270670008603884e-05,
          3.907332995830939e-05,
          3.887796330851785e-05,
          3.868454060549039e-05,
          3.849303297873054e-05,
          3.830341212661857e-05,
          3.8115650302468474e-05,
          3.792972030099302e-05,
          3.774559544516295e-05,
          3.756324957344719e-05,
          3.7382657027421004e-05,
          3.720379263972999e-05,
          3.702663172239795e-05,
          3.685115005546715e-05,
          3.667732387596023e-05,
          3.6505129867152904e-05,
          3.633454514814752e-05,
          3.616554726373753e-05,
          3.5998114174553556e-05,
          3.583222424748188e-05,
          3.566785624634665e-05,
          3.550498932284734e-05,
          3.5343603007743494e-05,
          3.5183677202278593e-05,
          3.5025192169835896e-05,
          3.486812852781869e-05,
          3.4712467239748074e-05,
          3.4558189607571414e-05,
          3.440527726417508e-05,
          3.425371216609502e-05,
          3.410347658641916e-05,
          3.3954553107875846e-05,
          3.3806924616102474e-05,
          3.366057429308904e-05,
          3.3515485610791244e-05,
          3.337164232490802e-05,
          3.3229028468818675e-05,
          3.3087628347674764e-05,
          3.294742653264224e-05,
          3.280840785528932e-05,
          3.2670557402115835e-05,
          3.253386050921995e-05,
          3.2398302757098204e-05,
          3.2263869965574974e-05,
          3.213054818885772e-05,
          3.1998323710714275e-05,
          3.1867183039768724e-05,
          3.173711290491253e-05,
          3.1608100250827516e-05,
          3.148013223361769e-05,
          3.135319621654665e-05,
          3.1227279765877786e-05,
          3.1102370646814274e-05,
          3.097845681953613e-05,
          3.085552643533162e-05,
          3.073356783282043e-05,
          3.061256953426602e-05,
          3.049252024197478e-05,
          3.0373408834779567e-05,
          3.0255224364605326e-05,
          3.013795605311461e-05,
          3.002159328843077e-05,
          2.9906125621936804e-05,
          2.979154276514777e-05,
          2.9677834586654842e-05,
          2.9564991109139044e-05,
          2.945300250645291e-05,
          2.9341859100768185e-05,
          2.923155135978785e-05,
          2.912206989402086e-05,
          2.9013405454117795e-05,
          2.8905548928266054e-05,
          2.879849133964285e-05,
          2.8692223843924606e-05,
          2.8586737726851355e-05,
          2.8482024401844575e-05,
          2.8378075407677256e-05,
          2.8274882406194796e-05,
          2.8172437180085394e-05,
          2.8070731630698805e-05,
          2.796975777591212e-05,
          2.7869507748041464e-05,
          2.776997379179846e-05,
          2.767114826229028e-05,
          2.75730236230623e-05,
          2.747559244418222e-05,
          2.737884740036468e-05,
          2.728278126913533e-05,
          2.7187386929033456e-05,
          2.7092657357852157e-05,
          2.699858563091517e-05,
          2.6905164919389513e-05,
          2.6812388488632997e-05,
          2.6720249696575836e-05,
          2.662874199213551e-05,
          2.6537858913664056e-05,
          2.6447594087427103e-05,
          2.635794122611379e-05,
          2.6268894127376922e-05,
          2.6180446672402587e-05,
          2.609259282450862e-05,
          2.600532662777113e-05,
          2.5918642205678564e-05,
          2.5832533759812522e-05,
          2.5746995568554863e-05,
          2.566202198582036e-05,
          2.557760743981437e-05,
          2.549374643181498e-05,
          2.5410433534978983e-05,
          2.5327663393171234e-05,
          2.5245430719816784e-05,
          2.5163730296775306e-05,
          2.5082556973237318e-05,
          2.50019056646417e-05,
          2.4921771351614e-05,
          2.484214907892514e-05,
          2.4763033954469966e-05,
          2.46844211482653e-05,
          2.460630589146699e-05,
          2.4528683475405578e-05,
          2.4451549250640155e-05,
          2.4374898626029994e-05,
          2.4298727067823655e-05,
          2.422303009876501e-05,
          2.414780329721605e-05,
          2.407304229629588e-05,
          2.3998742783035704e-05,
          2.3924900497549442e-05,
          2.3851511232219538e-05,
          2.3778570830897763e-05,
          2.370607518812064e-05,
          2.3634020248339116e-05,
          2.356240200516233e-05,
          2.3491216500615012e-05,
          2.342045982440834e-05,
          2.335012811322393e-05,
          2.3280217550010688e-05,
          2.3210724363294234e-05,
          2.3141644826498716e-05,
          2.307297525728062e-05,
          2.3004712016874465e-05,
          2.2936851509450056e-05,
          2.2869390181481086e-05,
          2.2802324521124836e-05,
          2.273565105761277e-05,
          2.2669366360651803e-05,
          2.2603467039835954e-05,
          2.2537949744068314e-05,
          2.2472811160992973e-05,
          2.2408048016436797e-05,
          2.234365707386083e-05,
          2.2279635133821114e-05,
          2.2215979033438768e-05,
          2.2152685645879113e-05,
          2.2089751879839684e-05,
          2.2027174679046937e-05,
          2.1964951021761493e-05
         ],
         "yaxis": "y"
        }
       ],
       "layout": {
        "legend": {
         "title": {
          "text": "source"
         },
         "tracegroupgap": 0
        },
        "template": {
         "data": {
          "bar": [
           {
            "error_x": {
             "color": "#2a3f5f"
            },
            "error_y": {
             "color": "#2a3f5f"
            },
            "marker": {
             "line": {
              "color": "#E5ECF6",
              "width": 0.5
             },
             "pattern": {
              "fillmode": "overlay",
              "size": 10,
              "solidity": 0.2
             }
            },
            "type": "bar"
           }
          ],
          "barpolar": [
           {
            "marker": {
             "line": {
              "color": "#E5ECF6",
              "width": 0.5
             },
             "pattern": {
              "fillmode": "overlay",
              "size": 10,
              "solidity": 0.2
             }
            },
            "type": "barpolar"
           }
          ],
          "carpet": [
           {
            "aaxis": {
             "endlinecolor": "#2a3f5f",
             "gridcolor": "white",
             "linecolor": "white",
             "minorgridcolor": "white",
             "startlinecolor": "#2a3f5f"
            },
            "baxis": {
             "endlinecolor": "#2a3f5f",
             "gridcolor": "white",
             "linecolor": "white",
             "minorgridcolor": "white",
             "startlinecolor": "#2a3f5f"
            },
            "type": "carpet"
           }
          ],
          "choropleth": [
           {
            "colorbar": {
             "outlinewidth": 0,
             "ticks": ""
            },
            "type": "choropleth"
           }
          ],
          "contour": [
           {
            "colorbar": {
             "outlinewidth": 0,
             "ticks": ""
            },
            "colorscale": [
             [
              0,
              "#0d0887"
             ],
             [
              0.1111111111111111,
              "#46039f"
             ],
             [
              0.2222222222222222,
              "#7201a8"
             ],
             [
              0.3333333333333333,
              "#9c179e"
             ],
             [
              0.4444444444444444,
              "#bd3786"
             ],
             [
              0.5555555555555556,
              "#d8576b"
             ],
             [
              0.6666666666666666,
              "#ed7953"
             ],
             [
              0.7777777777777778,
              "#fb9f3a"
             ],
             [
              0.8888888888888888,
              "#fdca26"
             ],
             [
              1,
              "#f0f921"
             ]
            ],
            "type": "contour"
           }
          ],
          "contourcarpet": [
           {
            "colorbar": {
             "outlinewidth": 0,
             "ticks": ""
            },
            "type": "contourcarpet"
           }
          ],
          "heatmap": [
           {
            "colorbar": {
             "outlinewidth": 0,
             "ticks": ""
            },
            "colorscale": [
             [
              0,
              "#0d0887"
             ],
             [
              0.1111111111111111,
              "#46039f"
             ],
             [
              0.2222222222222222,
              "#7201a8"
             ],
             [
              0.3333333333333333,
              "#9c179e"
             ],
             [
              0.4444444444444444,
              "#bd3786"
             ],
             [
              0.5555555555555556,
              "#d8576b"
             ],
             [
              0.6666666666666666,
              "#ed7953"
             ],
             [
              0.7777777777777778,
              "#fb9f3a"
             ],
             [
              0.8888888888888888,
              "#fdca26"
             ],
             [
              1,
              "#f0f921"
             ]
            ],
            "type": "heatmap"
           }
          ],
          "heatmapgl": [
           {
            "colorbar": {
             "outlinewidth": 0,
             "ticks": ""
            },
            "colorscale": [
             [
              0,
              "#0d0887"
             ],
             [
              0.1111111111111111,
              "#46039f"
             ],
             [
              0.2222222222222222,
              "#7201a8"
             ],
             [
              0.3333333333333333,
              "#9c179e"
             ],
             [
              0.4444444444444444,
              "#bd3786"
             ],
             [
              0.5555555555555556,
              "#d8576b"
             ],
             [
              0.6666666666666666,
              "#ed7953"
             ],
             [
              0.7777777777777778,
              "#fb9f3a"
             ],
             [
              0.8888888888888888,
              "#fdca26"
             ],
             [
              1,
              "#f0f921"
             ]
            ],
            "type": "heatmapgl"
           }
          ],
          "histogram": [
           {
            "marker": {
             "pattern": {
              "fillmode": "overlay",
              "size": 10,
              "solidity": 0.2
             }
            },
            "type": "histogram"
           }
          ],
          "histogram2d": [
           {
            "colorbar": {
             "outlinewidth": 0,
             "ticks": ""
            },
            "colorscale": [
             [
              0,
              "#0d0887"
             ],
             [
              0.1111111111111111,
              "#46039f"
             ],
             [
              0.2222222222222222,
              "#7201a8"
             ],
             [
              0.3333333333333333,
              "#9c179e"
             ],
             [
              0.4444444444444444,
              "#bd3786"
             ],
             [
              0.5555555555555556,
              "#d8576b"
             ],
             [
              0.6666666666666666,
              "#ed7953"
             ],
             [
              0.7777777777777778,
              "#fb9f3a"
             ],
             [
              0.8888888888888888,
              "#fdca26"
             ],
             [
              1,
              "#f0f921"
             ]
            ],
            "type": "histogram2d"
           }
          ],
          "histogram2dcontour": [
           {
            "colorbar": {
             "outlinewidth": 0,
             "ticks": ""
            },
            "colorscale": [
             [
              0,
              "#0d0887"
             ],
             [
              0.1111111111111111,
              "#46039f"
             ],
             [
              0.2222222222222222,
              "#7201a8"
             ],
             [
              0.3333333333333333,
              "#9c179e"
             ],
             [
              0.4444444444444444,
              "#bd3786"
             ],
             [
              0.5555555555555556,
              "#d8576b"
             ],
             [
              0.6666666666666666,
              "#ed7953"
             ],
             [
              0.7777777777777778,
              "#fb9f3a"
             ],
             [
              0.8888888888888888,
              "#fdca26"
             ],
             [
              1,
              "#f0f921"
             ]
            ],
            "type": "histogram2dcontour"
           }
          ],
          "mesh3d": [
           {
            "colorbar": {
             "outlinewidth": 0,
             "ticks": ""
            },
            "type": "mesh3d"
           }
          ],
          "parcoords": [
           {
            "line": {
             "colorbar": {
              "outlinewidth": 0,
              "ticks": ""
             }
            },
            "type": "parcoords"
           }
          ],
          "pie": [
           {
            "automargin": true,
            "type": "pie"
           }
          ],
          "scatter": [
           {
            "fillpattern": {
             "fillmode": "overlay",
             "size": 10,
             "solidity": 0.2
            },
            "type": "scatter"
           }
          ],
          "scatter3d": [
           {
            "line": {
             "colorbar": {
              "outlinewidth": 0,
              "ticks": ""
             }
            },
            "marker": {
             "colorbar": {
              "outlinewidth": 0,
              "ticks": ""
             }
            },
            "type": "scatter3d"
           }
          ],
          "scattercarpet": [
           {
            "marker": {
             "colorbar": {
              "outlinewidth": 0,
              "ticks": ""
             }
            },
            "type": "scattercarpet"
           }
          ],
          "scattergeo": [
           {
            "marker": {
             "colorbar": {
              "outlinewidth": 0,
              "ticks": ""
             }
            },
            "type": "scattergeo"
           }
          ],
          "scattergl": [
           {
            "marker": {
             "colorbar": {
              "outlinewidth": 0,
              "ticks": ""
             }
            },
            "type": "scattergl"
           }
          ],
          "scattermapbox": [
           {
            "marker": {
             "colorbar": {
              "outlinewidth": 0,
              "ticks": ""
             }
            },
            "type": "scattermapbox"
           }
          ],
          "scatterpolar": [
           {
            "marker": {
             "colorbar": {
              "outlinewidth": 0,
              "ticks": ""
             }
            },
            "type": "scatterpolar"
           }
          ],
          "scatterpolargl": [
           {
            "marker": {
             "colorbar": {
              "outlinewidth": 0,
              "ticks": ""
             }
            },
            "type": "scatterpolargl"
           }
          ],
          "scatterternary": [
           {
            "marker": {
             "colorbar": {
              "outlinewidth": 0,
              "ticks": ""
             }
            },
            "type": "scatterternary"
           }
          ],
          "surface": [
           {
            "colorbar": {
             "outlinewidth": 0,
             "ticks": ""
            },
            "colorscale": [
             [
              0,
              "#0d0887"
             ],
             [
              0.1111111111111111,
              "#46039f"
             ],
             [
              0.2222222222222222,
              "#7201a8"
             ],
             [
              0.3333333333333333,
              "#9c179e"
             ],
             [
              0.4444444444444444,
              "#bd3786"
             ],
             [
              0.5555555555555556,
              "#d8576b"
             ],
             [
              0.6666666666666666,
              "#ed7953"
             ],
             [
              0.7777777777777778,
              "#fb9f3a"
             ],
             [
              0.8888888888888888,
              "#fdca26"
             ],
             [
              1,
              "#f0f921"
             ]
            ],
            "type": "surface"
           }
          ],
          "table": [
           {
            "cells": {
             "fill": {
              "color": "#EBF0F8"
             },
             "line": {
              "color": "white"
             }
            },
            "header": {
             "fill": {
              "color": "#C8D4E3"
             },
             "line": {
              "color": "white"
             }
            },
            "type": "table"
           }
          ]
         },
         "layout": {
          "annotationdefaults": {
           "arrowcolor": "#2a3f5f",
           "arrowhead": 0,
           "arrowwidth": 1
          },
          "autotypenumbers": "strict",
          "coloraxis": {
           "colorbar": {
            "outlinewidth": 0,
            "ticks": ""
           }
          },
          "colorscale": {
           "diverging": [
            [
             0,
             "#8e0152"
            ],
            [
             0.1,
             "#c51b7d"
            ],
            [
             0.2,
             "#de77ae"
            ],
            [
             0.3,
             "#f1b6da"
            ],
            [
             0.4,
             "#fde0ef"
            ],
            [
             0.5,
             "#f7f7f7"
            ],
            [
             0.6,
             "#e6f5d0"
            ],
            [
             0.7,
             "#b8e186"
            ],
            [
             0.8,
             "#7fbc41"
            ],
            [
             0.9,
             "#4d9221"
            ],
            [
             1,
             "#276419"
            ]
           ],
           "sequential": [
            [
             0,
             "#0d0887"
            ],
            [
             0.1111111111111111,
             "#46039f"
            ],
            [
             0.2222222222222222,
             "#7201a8"
            ],
            [
             0.3333333333333333,
             "#9c179e"
            ],
            [
             0.4444444444444444,
             "#bd3786"
            ],
            [
             0.5555555555555556,
             "#d8576b"
            ],
            [
             0.6666666666666666,
             "#ed7953"
            ],
            [
             0.7777777777777778,
             "#fb9f3a"
            ],
            [
             0.8888888888888888,
             "#fdca26"
            ],
            [
             1,
             "#f0f921"
            ]
           ],
           "sequentialminus": [
            [
             0,
             "#0d0887"
            ],
            [
             0.1111111111111111,
             "#46039f"
            ],
            [
             0.2222222222222222,
             "#7201a8"
            ],
            [
             0.3333333333333333,
             "#9c179e"
            ],
            [
             0.4444444444444444,
             "#bd3786"
            ],
            [
             0.5555555555555556,
             "#d8576b"
            ],
            [
             0.6666666666666666,
             "#ed7953"
            ],
            [
             0.7777777777777778,
             "#fb9f3a"
            ],
            [
             0.8888888888888888,
             "#fdca26"
            ],
            [
             1,
             "#f0f921"
            ]
           ]
          },
          "colorway": [
           "#636efa",
           "#EF553B",
           "#00cc96",
           "#ab63fa",
           "#FFA15A",
           "#19d3f3",
           "#FF6692",
           "#B6E880",
           "#FF97FF",
           "#FECB52"
          ],
          "font": {
           "color": "#2a3f5f"
          },
          "geo": {
           "bgcolor": "white",
           "lakecolor": "white",
           "landcolor": "#E5ECF6",
           "showlakes": true,
           "showland": true,
           "subunitcolor": "white"
          },
          "hoverlabel": {
           "align": "left"
          },
          "hovermode": "closest",
          "mapbox": {
           "style": "light"
          },
          "paper_bgcolor": "white",
          "plot_bgcolor": "#E5ECF6",
          "polar": {
           "angularaxis": {
            "gridcolor": "white",
            "linecolor": "white",
            "ticks": ""
           },
           "bgcolor": "#E5ECF6",
           "radialaxis": {
            "gridcolor": "white",
            "linecolor": "white",
            "ticks": ""
           }
          },
          "scene": {
           "xaxis": {
            "backgroundcolor": "#E5ECF6",
            "gridcolor": "white",
            "gridwidth": 2,
            "linecolor": "white",
            "showbackground": true,
            "ticks": "",
            "zerolinecolor": "white"
           },
           "yaxis": {
            "backgroundcolor": "#E5ECF6",
            "gridcolor": "white",
            "gridwidth": 2,
            "linecolor": "white",
            "showbackground": true,
            "ticks": "",
            "zerolinecolor": "white"
           },
           "zaxis": {
            "backgroundcolor": "#E5ECF6",
            "gridcolor": "white",
            "gridwidth": 2,
            "linecolor": "white",
            "showbackground": true,
            "ticks": "",
            "zerolinecolor": "white"
           }
          },
          "shapedefaults": {
           "line": {
            "color": "#2a3f5f"
           }
          },
          "ternary": {
           "aaxis": {
            "gridcolor": "white",
            "linecolor": "white",
            "ticks": ""
           },
           "baxis": {
            "gridcolor": "white",
            "linecolor": "white",
            "ticks": ""
           },
           "bgcolor": "#E5ECF6",
           "caxis": {
            "gridcolor": "white",
            "linecolor": "white",
            "ticks": ""
           }
          },
          "title": {
           "x": 0.05
          },
          "xaxis": {
           "automargin": true,
           "gridcolor": "white",
           "linecolor": "white",
           "ticks": "",
           "title": {
            "standoff": 15
           },
           "zerolinecolor": "white",
           "zerolinewidth": 2
          },
          "yaxis": {
           "automargin": true,
           "gridcolor": "white",
           "linecolor": "white",
           "ticks": "",
           "title": {
            "standoff": 15
           },
           "zerolinecolor": "white",
           "zerolinewidth": 2
          }
         }
        },
        "title": {
         "text": "Zipf's law test on sinlge text"
        },
        "xaxis": {
         "anchor": "y",
         "domain": [
          0,
          1
         ],
         "title": {
          "text": "index"
         }
        },
        "yaxis": {
         "anchor": "x",
         "domain": [
          0,
          1
         ],
         "title": {
          "text": "value"
         }
        }
       }
      },
      "image/png": "[encoded data removed]",
      "text/html": [
       "<div>                            <div id=\"18e70992-2c76-49eb-af3e-64a576300875\" class=\"plotly-graph-div\" style=\"height:525px; width:100%;\"></div>            <script type=\"text/javascript\">                require([\"plotly\"], function(Plotly) {                    window.PLOTLYENV=window.PLOTLYENV || {};                                    if (document.getElementById(\"18e70992-2c76-49eb-af3e-64a576300875\")) {                    Plotly.newPlot(                        \"18e70992-2c76-49eb-af3e-64a576300875\",                        [{\"hovertemplate\":\"source=human\\u003cbr\\u003evariable=0\\u003cbr\\u003eindex=%{x}\\u003cbr\\u003evalue=%{y}\\u003cextra\\u003e\\u003c\\u002fextra\\u003e\",\"legendgroup\":\"human\",\"line\":{\"color\":\"#636efa\",\"dash\":\"solid\"},\"marker\":{\"symbol\":\"circle\"},\"mode\":\"lines\",\"name\":\"human\",\"orientation\":\"v\",\"showlegend\":true,\"x\":[0,1,2,3,4,5,6,7,8,9,10,11,12,13,14,15,16,17,18,19,20,21,22,23,24,25,26,27,28,29,30,31,32,33,34,35,36,37,38,39,40,41,42,43,44,45,46,47,48,49,50,51,52,53,54,55,56,57,58,59,60,61,62,63,64,65,66,67,68,69,70,71,72,73,74,75,76,77,78,79,80,81,82,83,84,85,86,87,88,89,90,91,92,93,94,95,96,97,98,99],\"xaxis\":\"x\",\"y\":[0.5351263012959713,0.12674043978062477,0.07510544579592579,0.052808516575260325,0.03943035904286104,0.02816454217347217,0.020117530123908694,0.015842554972578096,0.014082271086736086,0.012674043978062478,0.010241651699444427,0.008214658133929385,0.006499509732339733,0.006035259037172608,0.0037552722897962894,0.0035205677716840214,0.0024851066623651917,0.002347045181122681,0.001482344324919588,0.0014082271086736087,0.0013411686749272463,0.0012802064624305534,0.0012245453118900943,0.0011735225905613405,0.0011265816869388868,0.001083251622056622,0.0010431311916100803,0.0010058765061954347,0.0009711911094300749,0.0009388180724490724,0.0009085336184991023,0.0008801419429210054,0.0008534709749537022,0.0008283688874550639,0.0008047012049563478,0.0007823483937075604,0.000761203842526275,0.000741172162459794,0.000722167748037748,0.0007041135543368044,0.0006869400530115164,0.0006705843374636231,0.0006549893528714458,0.0006401032312152767,0.0006258787149660483,0.0006122726559450472,0.0002996227890794912,0.0002933806476403351,0.0002873932874844099,0.0002816454217347217,0.00027612296248502127,0.0002708129055141555,0.00026570322805162424,0.0002607827979025201,0.00025604129248611067,0.0002514691265488587,0.000247057387486598,0.00024279777735751871,0.00023868256079213705,0.0002347045181122681,0.00023085690306124732,0.00022713340462477557,0.00022352811248787437,0.00022003548573025134,0.00021665032441132442,0.00021336774373842556,0.00021018315054829978,0.00020709222186376597,0.00020409088531501575,0.00020117530123908695,0.00019834184629205755,0.0001955870984268901,0.00019290782310597376,0.00019030096063156875,0.0001877636144898145,0.0001852930406149485,0.00018288663749007906,0.000180541937009437,0.000178256596034634,0.0001760283885842011,0.00017385519860168007,0.0001717350132528791,0.00016966591670766369,0.00016764608436590578,0.00016567377749101279,0.00016374733821786146,0.0001618651849050125,0.00016002580780381917,0.00015822776501950658,0.0001564696787415121,0.0001547502317223746,0.0001530681639862618,0.0001514222697498504,0.0001498113945397456,0.0001482344324919588,0.00014669032382016756,0.0001451780524405782,0.00014369664374220496,0.0001422451624922837,0.00014082271086736085],\"yaxis\":\"y\",\"type\":\"scatter\"},{\"hovertemplate\":\"source=gpt4o\\u003cbr\\u003evariable=0\\u003cbr\\u003eindex=%{x}\\u003cbr\\u003evalue=%{y}\\u003cextra\\u003e\\u003c\\u002fextra\\u003e\",\"legendgroup\":\"gpt4o\",\"line\":{\"color\":\"#EF553B\",\"dash\":\"solid\"},\"marker\":{\"symbol\":\"circle\"},\"mode\":\"lines\",\"name\":\"gpt4o\",\"orientation\":\"v\",\"showlegend\":true,\"x\":[0,1,2,3,4,5,6,7,8,9,10,11,12,13,14,15,16,17,18,19,20,21,22,23,24,25,26,27,28,29,30,31,32,33,34,35,36,37,38,39,40,41,42,43,44,45,46,47,48,49,50,51,52,53,54,55,56,57,58,59,60,61,62,63,64,65,66,67,68,69,70,71,72,73,74,75,76,77,78,79,80,81,82,83,84,85,86,87,88,89,90,91,92,93,94,95,96,97,98,99],\"xaxis\":\"x\",\"y\":[0.4325636835992277,0.19170435977693046,0.07864794247258686,0.05898595685444014,0.037357772674478755,0.02457748202268339,0.019661985618146714,0.014746489213610036,0.012015657877756327,0.010814092089980694,0.009830992809073357,0.009011743408317244,0.008318532376908225,0.007022137720766684,0.005898595685444014,0.005529933455103764,0.005204643251862365,0.004369330137365936,0.003621944719132289,0.002949297842722007,0.002808855088306673,0.0026811798570200063,0.002564606819758267,0.0024577482022683393,0.0019661985618146713,0.0018905755402064148,0.0018205542239024734,0.001755534430191671,0.0016949987601850617,0.0016384988015122261,0.0012685152011707556,0.0012288741011341696,0.0011916354920088919,0.0011565873893027477,0.0011235420353226692,0.001092332534341484,0.0010628100334133359,0.0010348413483235112,0.0010083069547767544,0.0009830992809073357,0.0009591212496656933,0.0009362850294355577,0.0009145109589835681,0.0008937266190066688,0.0008738660274731873,0.0006411517049395668,0.0006275101793025546,0.0006144370505670848,0.0006018975189228586,0.0005898595685444014,0.0005782936946513739,0.0005671726620619245,0.000556471291079624,0.000546166267170742,0.0005362359714040012,0.0005266603290575013,0.0005174206741617556,0.0005084996280555184,0.0004998809902918656,0.0004915496404536678,0.00048349144962655854,0.0004756932004390334,0.0004681425147177789,0.0004608277879253136,0.00045373812964953956,0.0004468633095033344,0.00044019370786895623,0.00043372027098853046,0.00042743446995971115,0.000421328263246001,0.0004153940623552123,0.00040962470037805653,0.0002693422687417358,0.00026570250835333397,0.0002621598082419562,0.0002587103370808778,0.00025535046257333397,0.0002520767386941886,0.0002488858939005913,0.0002457748202268339,0.00024274056318699644,0.00023978031241642334,0.00023689139298971947,0.00023407125735888944,0.00023131747786054956,0.00022862773974589203,0.00022599983469134155,0.0002234316547516672,0.00022092118672074957,0.00021846650686829682,0.0002160657760235903,0.00021371723497985557,0.00021141920019512598,0.00020917005976751822,0.00020696826966470224,0.00020481235018902826,0.00020270088266130632,0.00020063250630761951,0.0001986059153348153,0.00019661985618146715],\"yaxis\":\"y\",\"type\":\"scatter\"},{\"hovertemplate\":\"source=llama3_70b_counts\\u003cbr\\u003evariable=0\\u003cbr\\u003eindex=%{x}\\u003cbr\\u003evalue=%{y}\\u003cextra\\u003e\\u003c\\u002fextra\\u003e\",\"legendgroup\":\"llama3_70b_counts\",\"line\":{\"color\":\"#00cc96\",\"dash\":\"solid\"},\"marker\":{\"symbol\":\"circle\"},\"mode\":\"lines\",\"name\":\"llama3_70b_counts\",\"orientation\":\"v\",\"showlegend\":true,\"x\":[0,1,2,3,4,5,6,7,8,9,10,11,12,13,14,15,16,17,18,19,20,21,22,23,24,25,26,27,28,29,30,31,32,33,34,35,36,37,38,39,40,41,42,43,44,45,46,47,48,49,50,51,52,53,54,55,56,57,58,59,60,61,62,63,64,65,66,67,68,69,70,71,72,73,74,75,76,77,78,79,80,81,82,83,84,85,86,87,88,89,90,91,92,93,94,95,96,97,98,99,100,101,102,103,104,105,106,107,108,109,110,111,112,113,114,115,116,117,118,119,120,121,122,123,124,125,126,127,128,129,130,131,132,133,134,135,136,137,138,139,140,141,142,143,144,145,146,147,148,149,150,151,152,153,154,155,156,157,158,159,160,161,162,163,164,165,166,167,168,169,170,171,172,173,174,175,176,177,178,179,180,181,182,183,184,185,186,187,188,189,190,191,192,193,194,195,196,197,198,199,200,201,202,203,204,205,206,207,208,209,210,211,212,213,214,215,216,217,218,219,220,221,222,223,224,225,226,227,228,229,230,231,232,233,234,235,236,237,238,239,240,241,242,243,244,245,246,247,248,249,250,251,252,253,254,255,256,257,258,259,260,261,262,263,264,265,266,267,268,269,270,271,272,273,274,275,276,277,278,279,280,281,282,283,284,285,286,287,288,289,290,291,292,293,294,295,296,297,298,299,300,301,302,303,304,305,306,307,308,309,310,311,312],\"xaxis\":\"x\",\"y\":[0.5080136508548765,0.12700341271371912,0.0818466437488412,0.050801365085487646,0.03386757672365843,0.028222980603048693,0.01935290098494767,0.013758703043986237,0.0122299582613211,0.010160273017097527,0.009236611833725025,0.00776131966583839,0.0065129955237804675,0.005443003402016534,0.005080136508548764,0.004762627976764466,0.003984420791018638,0.003763064080406492,0.0031193820666527497,0.0029634129633201124,0.002419112623118459,0.0023091529584312563,0.002208755003716854,0.0021167235452286518,0.0020320546034195055,0.0019538986571341404,0.0015679433668360384,0.001511945389449037,0.0014598093415370014,0.0014111490301524344,0.0013656280936959044,0.0013229522157679073,0.0012828627546840315,0.0012451314971933247,0.0012095563115592295,0.001175957525127029,0.0009153399114502278,0.0008912520190436428,0.000868399403170729,0.0008466894180914607,0.0008260384566745959,0.0008063708743728196,0.0007876180633408936,0.0007697176528104188,0.0007526128160812984,0.000736251667905618,0.0007205867388012431,0.0007055745150762172,0.0006911750351767026,0.0005080136508548764,0.0004980525988773298,0.0004884746642835351,0.0004792581611838457,0.0004703830100508115,0.00046183059168625125,0.0004535836168347111,0.0004456260095218214,0.00043794280246110037,0.00043052004309735293,0.00042334470904573036,0.00041640463184825936,0.0004096884281087713,0.0004031854371864098,0.00039688566473037223,0.000390779731426828,0.0003848588264052094,0.00037911466481707195,0.0002490262994386649,0.000245417222635206,0.00024191126231184592,0.0002385040614342143,0.00023519150502540574,0.00023196970358670154,0.00022883497786255696,0.00022578384482438955,0.0002228130047609107,0.0002199193293744054,0.00021709985079268224,0.00021435175141555968,0.00021167235452286518,0.00020905911557813844,0.00020650961416864897,0.00020402154652806283,0.0002015927185932049,0.00019922103955093194,0.0001969045158352234,0.00019464124553826684,0.0001924294132026047,0.00019026728496437318,0.0001881532040203246,0.00018608558639372763,0.0001840629169764045,0.0001820837458261206,0.00018014668470031078,0.00017825040380872856,0.0001763936287690543,0.00017457513775081664,0.00017279375879417566,0.0001710483672912042,0.00016933788361829215,0.00016766127090920015,0.00016601753295910994,0.00016440571225076906,0.0001628248880945117,0.00016127417487456395,0.00015975272039461523,0.00015825970431616087,0.00015679433668360382,0.00015535585653054325,0.00015394353056208377,0.0001525566519083713,0.00015119453894490368,7.492826708773989e-05,7.427100158697023e-05,7.36251667905618e-05,7.299046707685006e-05,7.236661693089408e-05,7.175334051622549e-05,7.115037126818997e-05,7.055745150762173e-05,6.997433207367444e-05,6.94007719747099e-05,6.883653805621632e-05,6.828140468479522e-05,6.773515344731685e-05,6.719757286440164e-05,6.666845811743786e-05,6.614761078839537e-05,6.563483861174114e-05,6.512995523780467e-05,6.463278000698173e-05,6.414313773420157e-05,6.366085850311735e-05,6.318577746951199e-05,6.271773467344154e-05,6.225657485966623e-05,6.180214730594603e-05,6.13543056588015e-05,6.0912907776364084e-05,6.047781557796148e-05,6.00488949001036e-05,5.9626015358553576e-05,5.920905021618606e-05,5.8797876256351434e-05,5.8392373661480046e-05,5.7992425896675386e-05,5.759791959805855e-05,5.720874446563924e-05,5.6824793160500715e-05,5.644596120609739e-05,5.607214689347422e-05,5.5703251190227674e-05,5.533917765303665e-05,5.497983234360135e-05,5.4625123747836176e-05,5.427496269817056e-05,5.392926229881916e-05,5.358793785388992e-05,5.325090679820508e-05,5.2918088630716295e-05,5.2589404850401285e-05,5.226477889453461e-05,5.194413607923072e-05,5.162740354216224e-05,5.1314510187361254e-05,5.100538663201571e-05,5.069996515517729e-05,5.039817964830123e-05,5.0099965567542055e-05,4.9805259887732986e-05,4.9514001057980154e-05,4.922612895880585e-05,4.894158486077807e-05,4.866031138456671e-05,4.8382252462369185e-05,4.810735330065118e-05,4.7835560344150324e-05,4.7566821241093296e-05,4.7301084809578814e-05,4.703830100508115e-05,4.6778420889030976e-05,4.652139659843191e-05,4.6267181316473265e-05,4.6015729244101126e-05,4.5766995572511396e-05,4.552093645653015e-05,4.527750898884817e-05,4.5036671175077695e-05,4.479838190960109e-05,4.456260095218214e-05,4.432928890531208e-05,4.4098407192263574e-05,4.386991803582698e-05,4.364378443770416e-05,4.3419970158536445e-05,4.3198439698543914e-05,4.297915827875435e-05,4.276209182280105e-05,4.254720693926938e-05,4.233447090457304e-05,4.212385164634133e-05,4.191531772730004e-05,4.1708838329628604e-05,4.1504383239777486e-05,4.130192283372979e-05,4.1101428062692265e-05,4.0902870439201e-05,4.070622202362792e-05,4.0511455411074675e-05,4.031854371864099e-05,4.012746057305501e-05,3.993818009865381e-05,3.975067690570238e-05,3.956492607904022e-05,3.9380903167044685e-05,3.9198584170900956e-05,3.90179455341687e-05,3.883896413263581e-05,3.866161726445026e-05,3.848588264052094e-05,3.831173837517922e-05,3.813916297709282e-05,3.7968135340424245e-05,3.779863473622592e-05,3.763064080406492e-05,3.7464133543869945e-05,3.729909330799387e-05,3.7135500793485114e-05,3.69733370345616e-05,3.68125833952809e-05,3.6653221562400896e-05,3.649523353842503e-05,3.633860163482664e-05,3.618330846544704e-05,3.602933694006216e-05,3.5876670258112745e-05,3.572529190259328e-05,3.557518563409499e-05,3.542633548499835e-05,3.5278725753810866e-05,3.513234099964567e-05,3.498716603683722e-05,3.484318592968975e-05,3.470038598735495e-05,3.455875175883513e-05,3.441826902810816e-05,3.427892380937088e-05,3.414070234239761e-05,3.400359108801047e-05,3.3867576723658426e-05,3.373264613910202e-05,3.359878643220082e-05,3.3465984904800815e-05,3.333422905871893e-05,3.3203506591821986e-05,3.3073805394197684e-05,3.2945113544414814e-05,3.281741930587057e-05,3.269071112322242e-05,3.256497761890234e-05,3.2440207589711135e-05,3.231639000349087e-05,3.219351399587303e-05,3.207156886710078e-05,3.1950544078923046e-05,3.1830429251558674e-05,3.1711214160728866e-05,3.159288873475599e-05,3.147544305172716e-05,3.135886733672077e-05,3.124315195909449e-05,3.112828742983311e-05,3.1014264398954606e-05,3.090107365297302e-05,3.078870611241675e-05,3.067715282940075e-05,3.056640498525129e-05,3.0456453888182042e-05,3.0347290971020098e-05,3.023890778898074e-05,3.0131296017489705e-05,3.00244474500518e-05,2.9918353996164688e-05,2.9813007679276788e-05,2.9708400634788095e-05,2.960452510809303e-05,2.9501373452664136e-05,2.9398938128175717e-05,2.929721169866646e-05,2.9196186830740023e-05,2.9095856291802772e-05,2.8996212948337693e-05,2.8897249764213677e-05,2.8798959799029274e-05,2.8701336206490194e-05,2.860437223281962e-05,2.8508061215200696e-05,2.8412396580250357e-05,2.831737184252377e-05,2.8222980603048694e-05,2.812921654788906e-05,2.803607344673711e-05,2.7943545151533358e-05,2.7851625595113837e-05,2.7760308789883957e-05,2.7669588826518325e-05,2.7579459872686018e-05,2.7489916171800673e-05,2.7400952041794848e-05,2.7312561873918088e-05,2.7224740131558223e-05,2.713748134908528e-05,2.7050780130717594e-05],\"yaxis\":\"y\",\"type\":\"scatter\"},{\"hovertemplate\":\"source=claude3\\u003cbr\\u003evariable=0\\u003cbr\\u003eindex=%{x}\\u003cbr\\u003evalue=%{y}\\u003cextra\\u003e\\u003c\\u002fextra\\u003e\",\"legendgroup\":\"claude3\",\"line\":{\"color\":\"#ab63fa\",\"dash\":\"solid\"},\"marker\":{\"symbol\":\"circle\"},\"mode\":\"lines\",\"name\":\"claude3\",\"orientation\":\"v\",\"showlegend\":true,\"x\":[0,1,2,3,4,5,6,7,8,9,10,11,12,13,14,15,16,17,18,19,20,21,22,23,24,25,26,27,28,29,30,31,32,33,34,35,36,37,38,39,40,41,42,43,44,45,46,47,48,49,50,51,52,53,54,55,56,57,58,59,60,61,62,63,64,65,66,67,68,69,70,71,72,73,74,75,76,77,78,79,80,81,82,83,84,85,86,87,88,89,90,91,92,93,94,95,96,97,98,99,100,101,102,103,104,105,106,107,108,109,110,111,112,113,114,115,116,117,118,119,120,121,122,123,124,125,126,127,128,129,130,131,132,133,134,135,136,137,138,139,140,141,142,143,144,145,146,147,148,149,150,151,152,153,154,155,156,157,158,159,160,161,162,163,164,165,166,167,168,169,170,171,172,173,174,175,176,177,178,179,180,181,182,183,184,185,186,187,188,189,190,191,192,193,194,195,196,197,198,199,200,201,202,203,204,205,206,207,208,209,210,211,212,213,214,215,216,217,218,219,220,221,222,223,224,225,226,227,228,229,230,231,232,233,234,235,236,237,238,239,240,241,242,243,244,245,246,247,248,249,250,251,252,253,254,255,256,257,258,259,260,261,262,263,264,265,266,267,268,269,270,271,272,273,274,275,276,277,278,279,280,281,282,283,284,285,286,287,288,289,290,291,292,293,294,295,296,297,298,299,300,301,302,303,304,305,306,307,308,309,310,311,312,313,314,315,316,317,318,319,320,321,322,323,324,325,326,327,328,329,330,331,332,333,334,335,336,337,338,339,340,341,342,343,344,345,346,347,348,349,350,351,352,353],\"xaxis\":\"x\",\"y\":[0.4743111523639177,0.13607287157981246,0.08034779083760354,0.056373046797350876,0.04043308184085856,0.03369423486738213,0.025548375888454582,0.016523134406120084,0.012095366362649997,0.01010827046021464,0.008482464721858438,0.007775592661703569,0.007177470149264833,0.006109394234195661,0.0051837284411357125,0.004859745413564731,0.004116490232666596,0.0034558189607571416,0.0032739337522962393,0.002721457431596249,0.0025918642205678562,0.0021206161804646095,0.0020284154769661484,0.0019438981654258923,0.0018661422388088565,0.0017943675373162083,0.0014399245669821422,0.001388498689589923,0.00134061942443165,0.0012959321102839281,0.0012541278486618659,0.0012149363533911826,0.0011781201002581164,0.0011434695090740542,0.0011107989516719384,0.0010799434252366069,0.001050755765095077,0.0008184834380740598,0.000797496683251648,0.000777559266170357,0.0007585944060198604,0.0007405326344479589,0.0007233109452747505,0.0007068720601548699,0.0006911637921514284,0.0006761384923220494,0.0006617525669534952,0.0006479660551419641,0.0006347422580982504,0.0004665355597022141,0.0004573878036296217,0.00044859188432905207,0.0004401278865115228,0.0004319773700946427,0.0004241232360929219,0.0004165496068769769,0.0004092417190370299,0.00040218582732949495,0.00039536911839170694,0.0003887796330851785,0.0003824061964772247,0.00037623835459855976,0.00037026631722397946,0.00036448090601735476,0.0003588735074632417,0.00035343603007743495,0.0003481608654494135,0.00034304085272221627,0.0003380692461610247,0.00033323968550158154,0.00032854616880437617,0.00032398302757098203,0.0003195449039056261,0.0003152267295285231,0.0003110237064681428,0.00030693128927777245,0.00020196344575853427,0.000199374170812912,0.00019685044713173592,0.00019438981654258924,0.00019198994226428563,0.0001896486015049651,0.00018736367859526672,0.00018513315861198973,0.00018295512145184869,0.00018082773631868763,0.00017874925659088663,0.00017671801503871747,0.00017473241936412514,0.0001727909480378571,0.00017089214641106745,0.00016903462308051235,0.0001672170464882488,0.0001654381417383738,0.00016369668761481197,0.00016199151378549101,0.00016032149817945502,0.0001586855645245626,0.00015708268003441554,0.0001555118532340714,0.00015397213191492215,0.0001524626012098739,0.0001509823817806518,0.00014953062810968402,0.0001481065268895918,0.00014670929550384093,0.00014533818059259007,0.00014399245669821423,0.0001426714249853866,0.00014137441203097397,0.00014010076867934358,0.0001388498689589923,0.00013762110905670032,0.00013641390634567665,0.0001352276984644099,0.00013406194244316497,0.0001329161138752747,0.00013178970613056897,0.00013068222960846334,0.00012959321102839282,0.0001285221927554309,0.0001274687321590749,0.00012643240100331006,0.0001254127848661866,0.0001244094825872571,0.0001234221057413265,0.00012245027813706408,0.00012149363533911827,0.00012055182421245843,0.00011962450248774722,0.00011871133834661937,0.00011781201002581165,0.0001169262054391514,0.00011605362181647118,0.0001151939653585714,0.00011434695090740542,0.00011351230163070902,0.00011268974872034158,0.00011187903110364848,0.00011107989516719384,0.0001102920944922492,5.475769480072936e-05,5.437477385806691e-05,5.399717126183034e-05,5.3624776977265994e-05,5.325748398427102e-05,5.2895188174854206e-05,5.2537788254753844e-05,5.218518564901724e-05,5.183728441135713e-05,5.1493991137109725e-05,5.115521487962874e-05,5.0820867069957965e-05,5.049086143963357e-05,5.0165113946474636e-05,4.9843542703228e-05,4.952606790893993e-05,4.921261178293398e-05,4.890309850128031e-05,4.859745413564731e-05,4.82956065944321e-05,4.799748556607141e-05,4.7703022464439075e-05,4.741215037624128e-05,4.712480401032466e-05,4.684091964881668e-05,4.6560435100021375e-05,4.628328965299743e-05,4.600942403374893e-05,4.573878036296217e-05,4.547130211522554e-05,4.520693407967191e-05,4.494562232198595e-05,4.468731414772166e-05,4.4431958066877536e-05,4.417950375967937e-05,4.3929902043522985e-05,4.3683104841031285e-05,4.343906514918195e-05,4.3197737009464275e-05,4.295907547902524e-05,4.272303660276686e-05,4.24895773863583e-05,4.225865577012809e-05,4.203023060380308e-05,4.18042616220622e-05,4.15807094208747e-05,4.135953543459345e-05,4.114070191377549e-05,4.092417190370299e-05,4.07099092235789e-05,4.0497878446372754e-05,4.02880448792931e-05,4.0080374544863754e-05,3.9874834162582404e-05,3.967139113114065e-05,3.9470013511185626e-05,3.9270670008603884e-05,3.907332995830939e-05,3.887796330851785e-05,3.868454060549039e-05,3.849303297873054e-05,3.830341212661857e-05,3.8115650302468474e-05,3.792972030099302e-05,3.774559544516295e-05,3.756324957344719e-05,3.7382657027421004e-05,3.720379263972999e-05,3.702663172239795e-05,3.685115005546715e-05,3.667732387596023e-05,3.6505129867152904e-05,3.633454514814752e-05,3.616554726373753e-05,3.5998114174553556e-05,3.583222424748188e-05,3.566785624634665e-05,3.550498932284734e-05,3.5343603007743494e-05,3.5183677202278593e-05,3.5025192169835896e-05,3.486812852781869e-05,3.4712467239748074e-05,3.4558189607571414e-05,3.440527726417508e-05,3.425371216609502e-05,3.410347658641916e-05,3.3954553107875846e-05,3.3806924616102474e-05,3.366057429308904e-05,3.3515485610791244e-05,3.337164232490802e-05,3.3229028468818675e-05,3.3087628347674764e-05,3.294742653264224e-05,3.280840785528932e-05,3.2670557402115835e-05,3.253386050921995e-05,3.2398302757098204e-05,3.2263869965574974e-05,3.213054818885772e-05,3.1998323710714275e-05,3.1867183039768724e-05,3.173711290491253e-05,3.1608100250827516e-05,3.148013223361769e-05,3.135319621654665e-05,3.1227279765877786e-05,3.1102370646814274e-05,3.097845681953613e-05,3.085552643533162e-05,3.073356783282043e-05,3.061256953426602e-05,3.049252024197478e-05,3.0373408834779567e-05,3.0255224364605326e-05,3.013795605311461e-05,3.002159328843077e-05,2.9906125621936804e-05,2.979154276514777e-05,2.9677834586654842e-05,2.9564991109139044e-05,2.945300250645291e-05,2.9341859100768185e-05,2.923155135978785e-05,2.912206989402086e-05,2.9013405454117795e-05,2.8905548928266054e-05,2.879849133964285e-05,2.8692223843924606e-05,2.8586737726851355e-05,2.8482024401844575e-05,2.8378075407677256e-05,2.8274882406194796e-05,2.8172437180085394e-05,2.8070731630698805e-05,2.796975777591212e-05,2.7869507748041464e-05,2.776997379179846e-05,2.767114826229028e-05,2.75730236230623e-05,2.747559244418222e-05,2.737884740036468e-05,2.728278126913533e-05,2.7187386929033456e-05,2.7092657357852157e-05,2.699858563091517e-05,2.6905164919389513e-05,2.6812388488632997e-05,2.6720249696575836e-05,2.662874199213551e-05,2.6537858913664056e-05,2.6447594087427103e-05,2.635794122611379e-05,2.6268894127376922e-05,2.6180446672402587e-05,2.609259282450862e-05,2.600532662777113e-05,2.5918642205678564e-05,2.5832533759812522e-05,2.5746995568554863e-05,2.566202198582036e-05,2.557760743981437e-05,2.549374643181498e-05,2.5410433534978983e-05,2.5327663393171234e-05,2.5245430719816784e-05,2.5163730296775306e-05,2.5082556973237318e-05,2.50019056646417e-05,2.4921771351614e-05,2.484214907892514e-05,2.4763033954469966e-05,2.46844211482653e-05,2.460630589146699e-05,2.4528683475405578e-05,2.4451549250640155e-05,2.4374898626029994e-05,2.4298727067823655e-05,2.422303009876501e-05,2.414780329721605e-05,2.407304229629588e-05,2.3998742783035704e-05,2.3924900497549442e-05,2.3851511232219538e-05,2.3778570830897763e-05,2.370607518812064e-05,2.3634020248339116e-05,2.356240200516233e-05,2.3491216500615012e-05,2.342045982440834e-05,2.335012811322393e-05,2.3280217550010688e-05,2.3210724363294234e-05,2.3141644826498716e-05,2.307297525728062e-05,2.3004712016874465e-05,2.2936851509450056e-05,2.2869390181481086e-05,2.2802324521124836e-05,2.273565105761277e-05,2.2669366360651803e-05,2.2603467039835954e-05,2.2537949744068314e-05,2.2472811160992973e-05,2.2408048016436797e-05,2.234365707386083e-05,2.2279635133821114e-05,2.2215979033438768e-05,2.2152685645879113e-05,2.2089751879839684e-05,2.2027174679046937e-05,2.1964951021761493e-05],\"yaxis\":\"y\",\"type\":\"scatter\"}],                        {\"template\":{\"data\":{\"histogram2dcontour\":[{\"type\":\"histogram2dcontour\",\"colorbar\":{\"outlinewidth\":0,\"ticks\":\"\"},\"colorscale\":[[0.0,\"#0d0887\"],[0.1111111111111111,\"#46039f\"],[0.2222222222222222,\"#7201a8\"],[0.3333333333333333,\"#9c179e\"],[0.4444444444444444,\"#bd3786\"],[0.5555555555555556,\"#d8576b\"],[0.6666666666666666,\"#ed7953\"],[0.7777777777777778,\"#fb9f3a\"],[0.8888888888888888,\"#fdca26\"],[1.0,\"#f0f921\"]]}],\"choropleth\":[{\"type\":\"choropleth\",\"colorbar\":{\"outlinewidth\":0,\"ticks\":\"\"}}],\"histogram2d\":[{\"type\":\"histogram2d\",\"colorbar\":{\"outlinewidth\":0,\"ticks\":\"\"},\"colorscale\":[[0.0,\"#0d0887\"],[0.1111111111111111,\"#46039f\"],[0.2222222222222222,\"#7201a8\"],[0.3333333333333333,\"#9c179e\"],[0.4444444444444444,\"#bd3786\"],[0.5555555555555556,\"#d8576b\"],[0.6666666666666666,\"#ed7953\"],[0.7777777777777778,\"#fb9f3a\"],[0.8888888888888888,\"#fdca26\"],[1.0,\"#f0f921\"]]}],\"heatmap\":[{\"type\":\"heatmap\",\"colorbar\":{\"outlinewidth\":0,\"ticks\":\"\"},\"colorscale\":[[0.0,\"#0d0887\"],[0.1111111111111111,\"#46039f\"],[0.2222222222222222,\"#7201a8\"],[0.3333333333333333,\"#9c179e\"],[0.4444444444444444,\"#bd3786\"],[0.5555555555555556,\"#d8576b\"],[0.6666666666666666,\"#ed7953\"],[0.7777777777777778,\"#fb9f3a\"],[0.8888888888888888,\"#fdca26\"],[1.0,\"#f0f921\"]]}],\"heatmapgl\":[{\"type\":\"heatmapgl\",\"colorbar\":{\"outlinewidth\":0,\"ticks\":\"\"},\"colorscale\":[[0.0,\"#0d0887\"],[0.1111111111111111,\"#46039f\"],[0.2222222222222222,\"#7201a8\"],[0.3333333333333333,\"#9c179e\"],[0.4444444444444444,\"#bd3786\"],[0.5555555555555556,\"#d8576b\"],[0.6666666666666666,\"#ed7953\"],[0.7777777777777778,\"#fb9f3a\"],[0.8888888888888888,\"#fdca26\"],[1.0,\"#f0f921\"]]}],\"contourcarpet\":[{\"type\":\"contourcarpet\",\"colorbar\":{\"outlinewidth\":0,\"ticks\":\"\"}}],\"contour\":[{\"type\":\"contour\",\"colorbar\":{\"outlinewidth\":0,\"ticks\":\"\"},\"colorscale\":[[0.0,\"#0d0887\"],[0.1111111111111111,\"#46039f\"],[0.2222222222222222,\"#7201a8\"],[0.3333333333333333,\"#9c179e\"],[0.4444444444444444,\"#bd3786\"],[0.5555555555555556,\"#d8576b\"],[0.6666666666666666,\"#ed7953\"],[0.7777777777777778,\"#fb9f3a\"],[0.8888888888888888,\"#fdca26\"],[1.0,\"#f0f921\"]]}],\"surface\":[{\"type\":\"surface\",\"colorbar\":{\"outlinewidth\":0,\"ticks\":\"\"},\"colorscale\":[[0.0,\"#0d0887\"],[0.1111111111111111,\"#46039f\"],[0.2222222222222222,\"#7201a8\"],[0.3333333333333333,\"#9c179e\"],[0.4444444444444444,\"#bd3786\"],[0.5555555555555556,\"#d8576b\"],[0.6666666666666666,\"#ed7953\"],[0.7777777777777778,\"#fb9f3a\"],[0.8888888888888888,\"#fdca26\"],[1.0,\"#f0f921\"]]}],\"mesh3d\":[{\"type\":\"mesh3d\",\"colorbar\":{\"outlinewidth\":0,\"ticks\":\"\"}}],\"scatter\":[{\"fillpattern\":{\"fillmode\":\"overlay\",\"size\":10,\"solidity\":0.2},\"type\":\"scatter\"}],\"parcoords\":[{\"type\":\"parcoords\",\"line\":{\"colorbar\":{\"outlinewidth\":0,\"ticks\":\"\"}}}],\"scatterpolargl\":[{\"type\":\"scatterpolargl\",\"marker\":{\"colorbar\":{\"outlinewidth\":0,\"ticks\":\"\"}}}],\"bar\":[{\"error_x\":{\"color\":\"#2a3f5f\"},\"error_y\":{\"color\":\"#2a3f5f\"},\"marker\":{\"line\":{\"color\":\"#E5ECF6\",\"width\":0.5},\"pattern\":{\"fillmode\":\"overlay\",\"size\":10,\"solidity\":0.2}},\"type\":\"bar\"}],\"scattergeo\":[{\"type\":\"scattergeo\",\"marker\":{\"colorbar\":{\"outlinewidth\":0,\"ticks\":\"\"}}}],\"scatterpolar\":[{\"type\":\"scatterpolar\",\"marker\":{\"colorbar\":{\"outlinewidth\":0,\"ticks\":\"\"}}}],\"histogram\":[{\"marker\":{\"pattern\":{\"fillmode\":\"overlay\",\"size\":10,\"solidity\":0.2}},\"type\":\"histogram\"}],\"scattergl\":[{\"type\":\"scattergl\",\"marker\":{\"colorbar\":{\"outlinewidth\":0,\"ticks\":\"\"}}}],\"scatter3d\":[{\"type\":\"scatter3d\",\"line\":{\"colorbar\":{\"outlinewidth\":0,\"ticks\":\"\"}},\"marker\":{\"colorbar\":{\"outlinewidth\":0,\"ticks\":\"\"}}}],\"scattermapbox\":[{\"type\":\"scattermapbox\",\"marker\":{\"colorbar\":{\"outlinewidth\":0,\"ticks\":\"\"}}}],\"scatterternary\":[{\"type\":\"scatterternary\",\"marker\":{\"colorbar\":{\"outlinewidth\":0,\"ticks\":\"\"}}}],\"scattercarpet\":[{\"type\":\"scattercarpet\",\"marker\":{\"colorbar\":{\"outlinewidth\":0,\"ticks\":\"\"}}}],\"carpet\":[{\"aaxis\":{\"endlinecolor\":\"#2a3f5f\",\"gridcolor\":\"white\",\"linecolor\":\"white\",\"minorgridcolor\":\"white\",\"startlinecolor\":\"#2a3f5f\"},\"baxis\":{\"endlinecolor\":\"#2a3f5f\",\"gridcolor\":\"white\",\"linecolor\":\"white\",\"minorgridcolor\":\"white\",\"startlinecolor\":\"#2a3f5f\"},\"type\":\"carpet\"}],\"table\":[{\"cells\":{\"fill\":{\"color\":\"#EBF0F8\"},\"line\":{\"color\":\"white\"}},\"header\":{\"fill\":{\"color\":\"#C8D4E3\"},\"line\":{\"color\":\"white\"}},\"type\":\"table\"}],\"barpolar\":[{\"marker\":{\"line\":{\"color\":\"#E5ECF6\",\"width\":0.5},\"pattern\":{\"fillmode\":\"overlay\",\"size\":10,\"solidity\":0.2}},\"type\":\"barpolar\"}],\"pie\":[{\"automargin\":true,\"type\":\"pie\"}]},\"layout\":{\"autotypenumbers\":\"strict\",\"colorway\":[\"#636efa\",\"#EF553B\",\"#00cc96\",\"#ab63fa\",\"#FFA15A\",\"#19d3f3\",\"#FF6692\",\"#B6E880\",\"#FF97FF\",\"#FECB52\"],\"font\":{\"color\":\"#2a3f5f\"},\"hovermode\":\"closest\",\"hoverlabel\":{\"align\":\"left\"},\"paper_bgcolor\":\"white\",\"plot_bgcolor\":\"#E5ECF6\",\"polar\":{\"bgcolor\":\"#E5ECF6\",\"angularaxis\":{\"gridcolor\":\"white\",\"linecolor\":\"white\",\"ticks\":\"\"},\"radialaxis\":{\"gridcolor\":\"white\",\"linecolor\":\"white\",\"ticks\":\"\"}},\"ternary\":{\"bgcolor\":\"#E5ECF6\",\"aaxis\":{\"gridcolor\":\"white\",\"linecolor\":\"white\",\"ticks\":\"\"},\"baxis\":{\"gridcolor\":\"white\",\"linecolor\":\"white\",\"ticks\":\"\"},\"caxis\":{\"gridcolor\":\"white\",\"linecolor\":\"white\",\"ticks\":\"\"}},\"coloraxis\":{\"colorbar\":{\"outlinewidth\":0,\"ticks\":\"\"}},\"colorscale\":{\"sequential\":[[0.0,\"#0d0887\"],[0.1111111111111111,\"#46039f\"],[0.2222222222222222,\"#7201a8\"],[0.3333333333333333,\"#9c179e\"],[0.4444444444444444,\"#bd3786\"],[0.5555555555555556,\"#d8576b\"],[0.6666666666666666,\"#ed7953\"],[0.7777777777777778,\"#fb9f3a\"],[0.8888888888888888,\"#fdca26\"],[1.0,\"#f0f921\"]],\"sequentialminus\":[[0.0,\"#0d0887\"],[0.1111111111111111,\"#46039f\"],[0.2222222222222222,\"#7201a8\"],[0.3333333333333333,\"#9c179e\"],[0.4444444444444444,\"#bd3786\"],[0.5555555555555556,\"#d8576b\"],[0.6666666666666666,\"#ed7953\"],[0.7777777777777778,\"#fb9f3a\"],[0.8888888888888888,\"#fdca26\"],[1.0,\"#f0f921\"]],\"diverging\":[[0,\"#8e0152\"],[0.1,\"#c51b7d\"],[0.2,\"#de77ae\"],[0.3,\"#f1b6da\"],[0.4,\"#fde0ef\"],[0.5,\"#f7f7f7\"],[0.6,\"#e6f5d0\"],[0.7,\"#b8e186\"],[0.8,\"#7fbc41\"],[0.9,\"#4d9221\"],[1,\"#276419\"]]},\"xaxis\":{\"gridcolor\":\"white\",\"linecolor\":\"white\",\"ticks\":\"\",\"title\":{\"standoff\":15},\"zerolinecolor\":\"white\",\"automargin\":true,\"zerolinewidth\":2},\"yaxis\":{\"gridcolor\":\"white\",\"linecolor\":\"white\",\"ticks\":\"\",\"title\":{\"standoff\":15},\"zerolinecolor\":\"white\",\"automargin\":true,\"zerolinewidth\":2},\"scene\":{\"xaxis\":{\"backgroundcolor\":\"#E5ECF6\",\"gridcolor\":\"white\",\"linecolor\":\"white\",\"showbackground\":true,\"ticks\":\"\",\"zerolinecolor\":\"white\",\"gridwidth\":2},\"yaxis\":{\"backgroundcolor\":\"#E5ECF6\",\"gridcolor\":\"white\",\"linecolor\":\"white\",\"showbackground\":true,\"ticks\":\"\",\"zerolinecolor\":\"white\",\"gridwidth\":2},\"zaxis\":{\"backgroundcolor\":\"#E5ECF6\",\"gridcolor\":\"white\",\"linecolor\":\"white\",\"showbackground\":true,\"ticks\":\"\",\"zerolinecolor\":\"white\",\"gridwidth\":2}},\"shapedefaults\":{\"line\":{\"color\":\"#2a3f5f\"}},\"annotationdefaults\":{\"arrowcolor\":\"#2a3f5f\",\"arrowhead\":0,\"arrowwidth\":1},\"geo\":{\"bgcolor\":\"white\",\"landcolor\":\"#E5ECF6\",\"subunitcolor\":\"white\",\"showland\":true,\"showlakes\":true,\"lakecolor\":\"white\"},\"title\":{\"x\":0.05},\"mapbox\":{\"style\":\"light\"}}},\"xaxis\":{\"anchor\":\"y\",\"domain\":[0.0,1.0],\"title\":{\"text\":\"index\"}},\"yaxis\":{\"anchor\":\"x\",\"domain\":[0.0,1.0],\"title\":{\"text\":\"value\"}},\"legend\":{\"title\":{\"text\":\"source\"},\"tracegroupgap\":0},\"title\":{\"text\":\"Zipf's law test on sinlge text\"}},                        {\"responsive\": true}                    ).then(function(){\n",
       "                            \n",
       "var gd = document.getElementById('18e70992-2c76-49eb-af3e-64a576300875');\n",
       "var x = new MutationObserver(function (mutations, observer) {{\n",
       "        var display = window.getComputedStyle(gd).display;\n",
       "        if (!display || display === 'none') {{\n",
       "            console.log([gd, 'removed!']);\n",
       "            Plotly.purge(gd);\n",
       "            observer.disconnect();\n",
       "        }}\n",
       "}});\n",
       "\n",
       "// Listen for the removal of the full notebook cells\n",
       "var notebookContainer = gd.closest('#notebook-container');\n",
       "if (notebookContainer) {{\n",
       "    x.observe(notebookContainer, {childList: true});\n",
       "}}\n",
       "\n",
       "// Listen for the clearing of the current output cell\n",
       "var outputEl = gd.closest('.output');\n",
       "if (outputEl) {{\n",
       "    x.observe(outputEl, {childList: true});\n",
       "}}\n",
       "\n",
       "                        })                };                });            </script>        </div>"
      ]
     },
     "metadata": {},
     "output_type": "display_data"
    }
   ],
   "source": [
    "fig = px.line(pd.concat([hum_normalized_distribution, gpt_normalized_distribution, llama_normalized_distribution, claude_text_stat]), color='source', title=\"Zipf's law test on sinlge text\")\n",
    "fig.show()"
   ]
  },
  {
   "cell_type": "code",
   "execution_count": null,
   "id": "0a02de59-2c7c-4446-92e7-e638373d2645",
   "metadata": {},
   "outputs": [],
   "source": []
  }
 ],
 "metadata": {
  "kernelspec": {
   "display_name": "Python 3 (ipykernel)",
   "language": "python",
   "name": "python3"
  },
  "language_info": {
   "codemirror_mode": {
    "name": "ipython",
    "version": 3
   },
   "file_extension": ".py",
   "mimetype": "text/x-python",
   "name": "python",
   "nbconvert_exporter": "python",
   "pygments_lexer": "ipython3",
   "version": "3.10.13"
  }
 },
 "nbformat": 4,
 "nbformat_minor": 5
}
